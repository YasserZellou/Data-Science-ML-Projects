{
  "cells": [
    {
      "cell_type": "markdown",
      "source": [
        "# Data Structures and Processing\n",
        "\n",
        "## Week3: NumPy, and Matplotlib"
      ],
      "metadata": {
        "nbgrader": {
          "grade": false,
          "grade_id": "cell-d9ace51bb79aa123",
          "locked": true,
          "schema_version": 3,
          "solution": false,
          "task": false
        }
      },
      "id": "f1770525-f461-4d8b-9200-ba707bcccd87"
    },
    {
      "cell_type": "markdown",
      "source": [
        "### Task 1: Custom NumPy Functions\n",
        "\n",
        "Write down a function `heaviside` which takes a number (`int` or `float`) and returns 1 if it is positive, 0 otherwise."
      ],
      "metadata": {
        "nbgrader": {
          "grade": false,
          "grade_id": "cell-064e3f15836bd7ff",
          "locked": true,
          "schema_version": 3,
          "solution": false,
          "task": false
        },
        "tags": []
      },
      "id": "90cf316f-4a2c-4a03-ad4f-9fe3a5580fa4"
    },
    {
      "cell_type": "code",
      "source": [
        "# Your solution goes here.\n",
        "def heaviside(num):\n",
        "    \n",
        "    if num > 0:\n",
        "        \n",
        "        return 1\n",
        "    \n",
        "    else:\n",
        "        \n",
        "        return 0\n"
      ],
      "outputs": [],
      "execution_count": 19,
      "metadata": {
        "nbgrader": {
          "grade": false,
          "grade_id": "cell-5cb06a6dd536e09a",
          "locked": false,
          "schema_version": 3,
          "solution": true,
          "task": false
        },
        "tags": []
      },
      "id": "a1960b19-48ff-4c7b-8ada-c8b090c77f81"
    },
    {
      "cell_type": "code",
      "source": [
        "### BEGIN HIDDEN TESTS\n",
        "assert heaviside(0.1) == 1\n",
        "assert heaviside(-0.1) == 0\n",
        "assert heaviside(0) == 0\n",
        "assert heaviside(4) == 1\n",
        "### END HIDDEN TESTS"
      ],
      "outputs": [],
      "execution_count": 20,
      "metadata": {
        "nbgrader": {
          "grade": true,
          "grade_id": "cell-1aaea127bbe9a155",
          "locked": true,
          "points": 0,
          "schema_version": 3,
          "solution": false,
          "task": false
        }
      },
      "id": "896dbcf1-b90a-4125-aef5-d63299ff0638"
    },
    {
      "cell_type": "markdown",
      "source": [
        "At this point, your function `heaviside` will return a `ValueError` if a NumPy array is provided as an input to it.  We would like to extend this function so that it handles any `ndarray` whose dtype is `int` or `float`.\n",
        "\n",
        "Extend the `heaviside` function to handle the `ndarray`."
      ],
      "metadata": {},
      "id": "ac84984d-02bb-464d-bfec-8d6877fd2b02"
    },
    {
      "cell_type": "code",
      "source": [
        "import numpy as np\n",
        "\n",
        "def heaviside(num):\n",
        "    \n",
        "    if isinstance(num, (int, float)):\n",
        "        \n",
        "        if num > 0:\n",
        "            \n",
        "            return 1\n",
        "        \n",
        "        else:\n",
        "            \n",
        "            return 0\n",
        "        \n",
        "    elif isinstance(num, np.ndarray) and np.issubdtype(num.dtype, np.number):\n",
        "        \n",
        "        return np.where(num > 0, 1, 0)\n",
        "    \n",
        "    else:\n",
        "        \n",
        "        raise ValueError(\"Invalid Input!\")"
      ],
      "outputs": [],
      "execution_count": 21,
      "metadata": {
        "nbgrader": {
          "grade": false,
          "grade_id": "cell-b1fe8aefbdc9898f",
          "locked": false,
          "schema_version": 3,
          "solution": true,
          "task": false
        }
      },
      "id": "fd57f71b-38f0-4399-a849-3abe6d930d7f"
    },
    {
      "cell_type": "code",
      "source": [
        "### BEGIN HIDDEN TESTS\n",
        "import numpy as np\n",
        "assert np.array_equal(heaviside(np.array([-1.2, 0.2,3])), np.array([0, 1, 1]))"
      ],
      "outputs": [],
      "execution_count": 22,
      "metadata": {
        "nbgrader": {
          "grade": true,
          "grade_id": "cell-c9085a23523dcd7c",
          "locked": true,
          "points": 0,
          "schema_version": 3,
          "solution": false,
          "task": false
        }
      },
      "id": "a0db35cd-4d4f-4692-900c-89ab411e9d37"
    },
    {
      "cell_type": "markdown",
      "source": [
        "### Task 2: Aggregate Functions\n",
        "\n",
        "There are a lot of aggregate functions available in NumPy. Some of the variable useful ones include: `np.sum`, `np.mean`, `np.std`, `np.max`, `np.min` and so on.  For a detailed explanation of the parameters these function take in, have a look at their documentation using `help`.\n",
        "\n",
        "Write down a function `mean_squared_values` that takes an `ndarray` as an argument and returns the mean value of the squares of elements in it."
      ],
      "metadata": {
        "nbgrader": {
          "grade": false,
          "grade_id": "cell-111f49e077636c29",
          "locked": true,
          "schema_version": 3,
          "solution": false,
          "task": false
        }
      },
      "id": "92739acd-09c1-464f-8110-89506e9d9879"
    },
    {
      "cell_type": "code",
      "source": [
        "import numpy as np\n",
        "\n",
        "def mean_squared_values(arr):\n",
        "    \n",
        "    sqrt = np.square(arr)\n",
        "    \n",
        "    meanres = np.mean(sqrt)\n",
        "    \n",
        "    return meanres"
      ],
      "outputs": [],
      "execution_count": 23,
      "metadata": {
        "nbgrader": {
          "grade": false,
          "grade_id": "cell-e6aa4fb4daec46cc",
          "locked": false,
          "schema_version": 3,
          "solution": true,
          "task": false
        }
      },
      "id": "ed8c96c9-188a-44cd-b830-e41b43a402a9"
    },
    {
      "cell_type": "code",
      "source": [
        "### BEGIN HIDDEN TESTS\n",
        "import numpy as np\n",
        "x_utest = np.random.normal(size=(2,3))\n",
        "assert mean_squared_values(x_utest) == np.mean(x_utest**2)\n",
        "### END HIDDEN TESTS"
      ],
      "outputs": [],
      "execution_count": 24,
      "metadata": {
        "nbgrader": {
          "grade": true,
          "grade_id": "cell-ed3ec8b79ec4fb45",
          "locked": true,
          "points": 0,
          "schema_version": 3,
          "solution": false,
          "task": false
        }
      },
      "id": "0761c2aa-41fb-4348-84e2-33a95139a8d9"
    },
    {
      "cell_type": "markdown",
      "source": [
        "### Task 3: I/O and Visualization\n",
        "\n",
        "In this task, we plan to read a data to an `ndarray`, process it, visualize the processed data, and write down to a file."
      ],
      "metadata": {
        "nbgrader": {
          "grade": false,
          "grade_id": "cell-c9294a1b8d3da21d",
          "locked": true,
          "schema_version": 3,
          "solution": false,
          "task": false
        }
      },
      "id": "c47f4dca-2983-4a27-82cc-ecc3cbd720b5"
    },
    {
      "cell_type": "markdown",
      "source": [
        "#### Step 1: Reading Data From a File\n",
        "\n",
        "Consider the file `data.txt` in the current directory, and read its content to an array named `arr`."
      ],
      "metadata": {
        "nbgrader": {
          "grade": false,
          "grade_id": "cell-63670c1f9801fa36",
          "locked": true,
          "schema_version": 3,
          "solution": false,
          "task": false
        }
      },
      "id": "d053cabb-9bdc-4445-90e3-4889ced1594a"
    },
    {
      "cell_type": "markdown",
      "source": [
        "Write down a function `read_values` that takes a `CSV` file `filename` as an input and an `index` as a second argument, and returns the `index` column from the `CSV` file as a NumPy array."
      ],
      "metadata": {
        "nbgrader": {
          "grade": false,
          "grade_id": "cell-121b102edc4344a6",
          "locked": true,
          "schema_version": 3,
          "solution": false,
          "task": false
        }
      },
      "id": "c6b11bc0-ec48-4f8e-ac41-0d87ea124290"
    },
    {
      "cell_type": "code",
      "source": [
        "\n",
        "    "
      ],
      "outputs": [],
      "execution_count": 17,
      "metadata": {
        "nbgrader": {
          "grade": false,
          "grade_id": "cell-3590743b79d3ee18",
          "locked": false,
          "schema_version": 3,
          "solution": true,
          "task": false
        }
      },
      "id": "26dc730f-5c0b-4dfe-a247-7c712ddbc36c"
    },
    {
      "cell_type": "code",
      "source": [
        "### BEGIN HIDDEN TESTS\n",
        "import numpy as np\n",
        "assert read_values(\"data.txt\") == np.loadtxt(\"data.txt\", delimiter=\",\", usecols=0)\n",
        "### END HIDDEN TESTS"
      ],
      "outputs": [],
      "execution_count": null,
      "metadata": {
        "nbgrader": {
          "grade": true,
          "grade_id": "cell-9c00adcc35e85653",
          "locked": true,
          "points": 0,
          "schema_version": 3,
          "solution": false,
          "task": false
        }
      },
      "id": "52d2deec-b999-46d7-843a-d4b5a9a61c02"
    },
    {
      "cell_type": "markdown",
      "source": [
        "Use your function to read in values to two variables `x_values` and `y_values`."
      ],
      "metadata": {
        "nbgrader": {
          "grade": false,
          "grade_id": "cell-8f92d7051a529ab2",
          "locked": true,
          "schema_version": 3,
          "solution": false,
          "task": false
        }
      },
      "id": "676dba9e-8cf3-449e-a9ff-d6c4ff941646"
    },
    {
      "cell_type": "code",
      "source": [],
      "outputs": [],
      "execution_count": null,
      "metadata": {
        "nbgrader": {
          "grade": false,
          "grade_id": "cell-8845595b70b6b28d",
          "locked": false,
          "schema_version": 3,
          "solution": true,
          "task": false
        }
      },
      "id": "9529e7da-9ac1-4cde-9ac1-efc6d60a3ee4"
    },
    {
      "cell_type": "code",
      "source": [
        "### BEGIN HIDDEN TESTS\n",
        "assert x_values == np.loadtxt(\"data.txt\", delimiter=\",\", usecols=0)\n",
        "assert y_values == np.loadtxt(\"data.txt\", delimiter=\",\", usecols=1)\n",
        "### END HIDDEN TESTS"
      ],
      "outputs": [],
      "execution_count": null,
      "metadata": {
        "nbgrader": {
          "grade": true,
          "grade_id": "cell-210e1768fb0c3ffd",
          "locked": true,
          "points": 0,
          "schema_version": 3,
          "solution": false,
          "task": false
        }
      },
      "id": "c6f4c8b6-6586-4280-849a-75b6f42200ac"
    },
    {
      "cell_type": "markdown",
      "source": [
        "### Step 2: Processing\n",
        "\n",
        "At this point, we are choosing a simple only to demonstrate the processing before plotting.  The data read in does not reveal something useful because it is randomly generated.\n",
        "\n",
        "The reader should see that any type of processing is possible at this step.\n",
        "\n",
        "Let us say that we do not want to change the variable `x_values`, but we do want to process the `y_values` by applying an exponential function `np.exp` from the NumPy library."
      ],
      "metadata": {
        "nbgrader": {
          "grade": false,
          "grade_id": "cell-76bdc026a604751c",
          "locked": true,
          "schema_version": 3,
          "solution": false,
          "task": false
        }
      },
      "id": "80d4a7dc-dc60-446a-9d03-e380707cdaf6"
    },
    {
      "cell_type": "code",
      "source": [
        "# Your solution goes here.  Replace `None` below with appropriate \n",
        "\n",
        "y_values = None"
      ],
      "outputs": [],
      "execution_count": null,
      "metadata": {
        "nbgrader": {
          "grade": false,
          "grade_id": "cell-c8686dbb972435e7",
          "locked": false,
          "schema_version": 3,
          "solution": true,
          "task": false
        }
      },
      "id": "c40bb64c-f1bb-4418-8a91-c7022397e9ce"
    },
    {
      "cell_type": "code",
      "source": [
        "### BEGIN HIDDEN TESTS\n",
        "assert y_values == np.exp(np.loadtxt(\"data.txt\", delimiter=\",\", usecols=1))\n",
        "### END HIDDEN TESTS"
      ],
      "outputs": [],
      "execution_count": null,
      "metadata": {
        "nbgrader": {
          "grade": true,
          "grade_id": "cell-4932dc90b5251480",
          "locked": true,
          "points": 0,
          "schema_version": 3,
          "solution": false,
          "task": false
        }
      },
      "id": "4cb4c931-5fcb-47a6-9fd3-c317972477e2"
    },
    {
      "cell_type": "markdown",
      "source": [
        "#### Step 3: Visualization\n",
        "\n",
        "Take the `x_values` and `y_values` and plot them using `plt.plot`.  Given extra directive of `\"bo\"` to the plot command."
      ],
      "metadata": {
        "nbgrader": {
          "grade": false,
          "grade_id": "cell-771d312688689090",
          "locked": true,
          "schema_version": 3,
          "solution": false,
          "task": false
        }
      },
      "id": "306c5bf9-570b-4ff1-914f-deca2579fbdd"
    },
    {
      "cell_type": "code",
      "source": [
        "# Your solution to plot goes here\n"
      ],
      "outputs": [],
      "execution_count": 15,
      "metadata": {
        "nbgrader": {
          "grade": false,
          "grade_id": "cell-63928df5f03f64e3",
          "locked": false,
          "schema_version": 3,
          "solution": true,
          "task": false
        }
      },
      "id": "8e27a181-0252-49af-8107-5f701f2bc87c"
    },
    {
      "cell_type": "markdown",
      "source": [
        "#### Step 4: Writing Data to File\n",
        "\n",
        "Write down a function `data_to_csv` that takes three arguments: `x_values`, `y_values` and `filename`, and writes down the arrays as a CSV file to `filename`.  The delimiter is `\",\"`."
      ],
      "metadata": {
        "nbgrader": {
          "grade": false,
          "grade_id": "cell-8c66af01c6bd7b39",
          "locked": true,
          "schema_version": 3,
          "solution": false,
          "task": false
        }
      },
      "id": "6445b1c4-3841-4528-b1a9-0143e28ca07d"
    },
    {
      "cell_type": "code",
      "source": [
        "# Your solution to \n",
        "def data_to_csv(x_values,y_values, filename):\n",
        "    pass"
      ],
      "outputs": [],
      "execution_count": 12,
      "metadata": {
        "nbgrader": {
          "grade": false,
          "grade_id": "cell-001fb10d6ae56bd0",
          "locked": false,
          "schema_version": 3,
          "solution": true,
          "task": false
        }
      },
      "id": "8c2a69b0-b23e-40a1-a4b5-f2cea4dcc4d8"
    },
    {
      "cell_type": "code",
      "source": [
        "### BEGIN HIDDEN TESTS\n",
        "assert 2 == 1+1\n",
        "### END HIDDEN TESTS"
      ],
      "outputs": [],
      "execution_count": 16,
      "metadata": {
        "nbgrader": {
          "grade": true,
          "grade_id": "cell-8a247410e7de9584",
          "locked": true,
          "points": 0,
          "schema_version": 3,
          "solution": false,
          "task": false
        }
      },
      "id": "bde2e801-4a1c-4b95-9628-e1ae09b31e85"
    }
  ],
  "metadata": {
    "kernelspec": {
      "display_name": "Python 3 (ipykernel)",
      "language": "python",
      "name": "python3"
    },
    "language_info": {
      "codemirror_mode": {
        "name": "ipython",
        "version": 3
      },
      "file_extension": ".py",
      "mimetype": "text/x-python",
      "name": "python",
      "nbconvert_exporter": "python",
      "pygments_lexer": "ipython3",
      "version": "3.11.4"
    },
    "nteract": {
      "version": "nteract-front-end@1.0.0"
    }
  },
  "nbformat": 4,
  "nbformat_minor": 5
}