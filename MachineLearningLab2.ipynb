{
 "cells": [
  {
   "cell_type": "markdown",
   "id": "1d2f255a",
   "metadata": {
    "id": "1d2f255a"
   },
   "source": [
    "# `Applied Machine Learning`\n",
    "\n",
    "*The rules and guidelines can be found at the Rules section at the end of the LAB.\n",
    "\n",
    "## `Lab 2. Numpy and Pandas basics`\n",
    "\n",
    "In this lesson we will discuss the most popular Python libraries for data preprocessing, manipulation and computation. Those task are extremely important to process data before training specific Machine Learning model. Moreover the proper Explanatory Data Analysis (**EDA**) can simplify training process and greatly increase final performance of the model. So, skill of manipulating with raw data is vital for proper Machine Leaning pipeline."
   ]
  },
  {
   "cell_type": "code",
   "execution_count": 9,
   "id": "db2c179e",
   "metadata": {
    "ExecuteTime": {
     "end_time": "2024-02-06T07:52:13.350593Z",
     "start_time": "2024-02-06T07:52:08.269915Z"
    },
    "id": "db2c179e",
    "outputId": "de347236-7112-455a-d6bc-150b61bd9839"
   },
   "outputs": [],
   "source": [
    "! pip install numpy pandas matplotlib matplotlib_inline > /dev/null"
   ]
  },
  {
   "cell_type": "code",
   "execution_count": 3,
   "id": "3a6791c5",
   "metadata": {
    "ExecuteTime": {
     "end_time": "2024-02-06T07:52:14.917819Z",
     "start_time": "2024-02-06T07:52:13.354903Z"
    },
    "id": "3a6791c5"
   },
   "outputs": [],
   "source": [
    "import numpy as np\n",
    "import pandas as pd\n",
    "import matplotlib.pyplot as plt\n",
    "import random as rd\n",
    "\n",
    "# This module allows to automatically draw all images in vector format\n",
    "#   to increase their readability\n",
    "import matplotlib_inline\n",
    "matplotlib_inline.backend_inline.set_matplotlib_formats('svg')"
   ]
  },
  {
   "cell_type": "markdown",
   "id": "35de9f59",
   "metadata": {
    "id": "35de9f59"
   },
   "source": [
    "### `Numpy. Matrix representation`"
   ]
  },
  {
   "cell_type": "markdown",
   "id": "df5bfb06",
   "metadata": {
    "id": "df5bfb06"
   },
   "source": [
    "One of the basics objects in Machine Learning is a matrix. Usually we operate with matrixes of data points, matrixes of trained features and so on. It is extremely important to manipulate with those matrixes and perform basic operations like matrix multiplication, addition etc. fast and accurate.\n",
    "\n",
    "One of the ways to represent matrix in Python is to use lists and tuples:"
   ]
  },
  {
   "cell_type": "code",
   "execution_count": 11,
   "id": "35def994",
   "metadata": {
    "ExecuteTime": {
     "end_time": "2024-02-06T07:52:14.930832Z",
     "start_time": "2024-02-06T07:52:14.920900Z"
    },
    "id": "35def994",
    "outputId": "449c5f16-85b9-4a7e-b198-74c366674518"
   },
   "outputs": [
    {
     "data": {
      "text/plain": [
       "([[1, 2, 5], [4, 5, 6], [7, 8, 9]], [[9, 8, 7], [6, 5, 4], [3, 2, 1]])"
      ]
     },
     "execution_count": 11,
     "metadata": {},
     "output_type": "execute_result"
    }
   ],
   "source": [
    "A = [\n",
    "    [1, 2, 5],\n",
    "    [4, 5, 6],\n",
    "    [7, 8, 9]\n",
    "]\n",
    "\n",
    "B = [\n",
    "    [9, 8, 7],\n",
    "    [6, 5, 4],\n",
    "    [3, 2, 1]\n",
    "]\n",
    "\n",
    "A, B"
   ]
  },
  {
   "cell_type": "markdown",
   "id": "92e3517d",
   "metadata": {
    "id": "92e3517d"
   },
   "source": [
    "However, this approach has major drawbacks:\n",
    "1. Lack of element-wise and complex matrix operations (multiplication, inversion, etc). You need to implement those operations from scratch which can be quite boring and prone to errors\n",
    "2. Extremely poor performance due to unoptimized implementation of operations (more precisely lack of vectorization)\n",
    "\n",
    "`Numpy` library can mitigate those drawbacks and provide the most necessary operations. Moreover this library has such advantages as:\n",
    "1. Operations with multidimensional matrixes\n",
    "2. Basic matrix operations\n",
    "3. Extremely fast and optimized\n",
    "4. Compatible with most of the other science Python modules like scipy, sklearn, pytorch, etc."
   ]
  },
  {
   "cell_type": "markdown",
   "id": "7f227c4f",
   "metadata": {
    "ExecuteTime": {
     "end_time": "2024-02-05T18:51:43.394436Z",
     "start_time": "2024-02-05T18:51:43.391801Z"
    },
    "id": "7f227c4f"
   },
   "source": [
    "#### `Construction`"
   ]
  },
  {
   "cell_type": "markdown",
   "id": "e2cf0a23",
   "metadata": {
    "id": "e2cf0a23"
   },
   "source": [
    "You can create numpy matrix in many ways. All of them are based on the [`np.array`](https://numpy.org/doc/2.1/reference/generated/numpy.array.html) type. `Numpy` also have [`np.matrix`](https://numpy.org/devdocs/reference/generated/numpy.matrix.html) data type. However, this type is very inconvinient to use and has lots of limitations."
   ]
  },
  {
   "cell_type": "code",
   "execution_count": 22,
   "id": "c866545f",
   "metadata": {
    "ExecuteTime": {
     "end_time": "2024-02-06T07:52:14.947703Z",
     "start_time": "2024-02-06T07:52:14.943054Z"
    },
    "id": "c866545f",
    "outputId": "502be5a0-389f-45b3-d054-aace2f7eed10"
   },
   "outputs": [
    {
     "data": {
      "text/plain": [
       "array([[0.90647044, 0.90648343, 0.26408407],\n",
       "       [0.25422762, 0.11453719, 0.2961561 ]])"
      ]
     },
     "execution_count": 22,
     "metadata": {},
     "output_type": "execute_result"
    }
   ],
   "source": [
    "# Empty array aka filled with arbitrary values\n",
    "np.empty([2, 3])\n"
   ]
  },
  {
   "cell_type": "code",
   "execution_count": 23,
   "id": "d2bf88a8",
   "metadata": {
    "ExecuteTime": {
     "end_time": "2024-02-06T07:52:14.955495Z",
     "start_time": "2024-02-06T07:52:14.950109Z"
    },
    "id": "d2bf88a8",
    "outputId": "d4a80815-5ab9-4909-e6e0-7c3e87a51d8e"
   },
   "outputs": [
    {
     "data": {
      "text/plain": [
       "array([[0., 0., 0.],\n",
       "       [0., 0., 0.]])"
      ]
     },
     "execution_count": 23,
     "metadata": {},
     "output_type": "execute_result"
    }
   ],
   "source": [
    "# Array of all zeros\n",
    "np.zeros([2, 3])"
   ]
  },
  {
   "cell_type": "code",
   "execution_count": 24,
   "id": "1a0b1820",
   "metadata": {
    "ExecuteTime": {
     "end_time": "2024-02-06T07:52:14.964788Z",
     "start_time": "2024-02-06T07:52:14.958459Z"
    },
    "id": "1a0b1820",
    "outputId": "478cbca2-618e-43a2-8355-ab3876d72ef2"
   },
   "outputs": [
    {
     "data": {
      "text/plain": [
       "array([[1., 1., 1.],\n",
       "       [1., 1., 1.]])"
      ]
     },
     "execution_count": 24,
     "metadata": {},
     "output_type": "execute_result"
    }
   ],
   "source": [
    "# Array of all ones\n",
    "np.ones([2, 3])"
   ]
  },
  {
   "cell_type": "code",
   "execution_count": null,
   "id": "67a444ef",
   "metadata": {
    "ExecuteTime": {
     "end_time": "2024-02-06T07:52:14.972073Z",
     "start_time": "2024-02-06T07:52:14.967249Z"
    },
    "id": "67a444ef",
    "outputId": "9dc43ad0-7658-4313-d277-ee4b7af44365"
   },
   "outputs": [
    {
     "data": {
      "text/plain": [
       "array([[3., 3., 3.],\n",
       "       [3., 3., 3.]])"
      ]
     },
     "execution_count": 8,
     "metadata": {},
     "output_type": "execute_result"
    }
   ],
   "source": [
    "# Array filled with specific values\n",
    "np.full([2, 3], fill_value=3.0)"
   ]
  },
  {
   "cell_type": "markdown",
   "id": "e9e24cd1",
   "metadata": {
    "ExecuteTime": {
     "end_time": "2024-02-05T18:34:19.358392Z",
     "start_time": "2024-02-05T18:34:19.353319Z"
    },
    "id": "e9e24cd1"
   },
   "source": [
    "Every numpy matrix has an attribute `.shape` that gives information of matrix size along each dimension:"
   ]
  },
  {
   "cell_type": "code",
   "execution_count": 25,
   "id": "04c1b35d",
   "metadata": {
    "ExecuteTime": {
     "end_time": "2024-02-06T07:52:14.981147Z",
     "start_time": "2024-02-06T07:52:14.974788Z"
    },
    "id": "04c1b35d",
    "outputId": "9f2c26d6-4c4e-4c1c-bfa5-d81bc0d2b7d8"
   },
   "outputs": [
    {
     "data": {
      "text/plain": [
       "(array([1., 1., 1., 1., 1., 1., 1., 1., 1., 1.]), (10,))"
      ]
     },
     "execution_count": 25,
     "metadata": {},
     "output_type": "execute_result"
    }
   ],
   "source": [
    "a = np.ones([10])\n",
    "a, a.shape"
   ]
  },
  {
   "cell_type": "code",
   "execution_count": 26,
   "id": "a2482a9c",
   "metadata": {
    "ExecuteTime": {
     "end_time": "2024-02-06T07:52:14.999552Z",
     "start_time": "2024-02-06T07:52:14.992276Z"
    },
    "id": "a2482a9c",
    "outputId": "09893cba-50b6-4c23-fb74-6a729a8ee06e"
   },
   "outputs": [
    {
     "data": {
      "text/plain": [
       "(array([[0., 0., 0.],\n",
       "        [0., 0., 0.],\n",
       "        [0., 0., 0.],\n",
       "        [0., 0., 0.]]),\n",
       " (4, 3))"
      ]
     },
     "execution_count": 26,
     "metadata": {},
     "output_type": "execute_result"
    }
   ],
   "source": [
    "b = np.zeros([4, 3])\n",
    "b, b.shape"
   ]
  },
  {
   "cell_type": "markdown",
   "id": "3b3ec249",
   "metadata": {
    "id": "3b3ec249"
   },
   "source": [
    "Also you can construct matrixes of the same shape that the existing one using `*_like` methods:"
   ]
  },
  {
   "cell_type": "code",
   "execution_count": 27,
   "id": "49feb876",
   "metadata": {
    "ExecuteTime": {
     "end_time": "2024-02-06T07:52:15.011014Z",
     "start_time": "2024-02-06T07:52:15.003000Z"
    },
    "id": "49feb876",
    "outputId": "e651493e-9707-4d0a-c66f-9eca1691a4f6"
   },
   "outputs": [
    {
     "data": {
      "text/plain": [
       "(array([[0., 0., 0.],\n",
       "        [0., 0., 0.],\n",
       "        [0., 0., 0.],\n",
       "        [0., 0., 0.]]),\n",
       " array([[1., 1., 1.],\n",
       "        [1., 1., 1.],\n",
       "        [1., 1., 1.],\n",
       "        [1., 1., 1.]]))"
      ]
     },
     "execution_count": 27,
     "metadata": {},
     "output_type": "execute_result"
    }
   ],
   "source": [
    "a = np.zeros([4, 3])\n",
    "b = np.ones_like(a)\n",
    "\n",
    "a, b"
   ]
  },
  {
   "cell_type": "markdown",
   "id": "47a74e59",
   "metadata": {
    "id": "47a74e59"
   },
   "source": [
    "Then, you can smoothly convert matrixes in list representation to numpy matrixes and vise versa:"
   ]
  },
  {
   "cell_type": "code",
   "execution_count": 29,
   "id": "864ca090",
   "metadata": {
    "ExecuteTime": {
     "end_time": "2024-02-06T07:52:15.021180Z",
     "start_time": "2024-02-06T07:52:15.013712Z"
    },
    "id": "864ca090",
    "outputId": "52b3b545-164a-4257-b567-23ed5a75eb05"
   },
   "outputs": [
    {
     "data": {
      "text/plain": [
       "(array([[1, 2, 3],\n",
       "        [4, 5, 6],\n",
       "        [7, 8, 9]]),\n",
       " [[1, 2, 3], [4, 5, 6], [7, 8, 9]])"
      ]
     },
     "execution_count": 29,
     "metadata": {},
     "output_type": "execute_result"
    }
   ],
   "source": [
    "C = [\n",
    "    [1, 2, 3],\n",
    "    [4, 5, 6],\n",
    "    [7, 8, 9]\n",
    "]\n",
    "d = np.array(C)\n",
    "E = d.tolist()\n",
    "\n",
    "d, E"
   ]
  },
  {
   "cell_type": "markdown",
   "id": "b7275e49",
   "metadata": {
    "id": "b7275e49"
   },
   "source": [
    "Numpy also provides some base matrix constructors:"
   ]
  },
  {
   "cell_type": "code",
   "execution_count": 30,
   "id": "00cafe4a",
   "metadata": {
    "ExecuteTime": {
     "end_time": "2024-02-06T07:52:15.030205Z",
     "start_time": "2024-02-06T07:52:15.024831Z"
    },
    "id": "00cafe4a",
    "outputId": "49e2224d-e25c-4c38-b182-8bf059d3bf88"
   },
   "outputs": [
    {
     "data": {
      "text/plain": [
       "array([2, 3, 4, 5, 6, 7, 8, 9])"
      ]
     },
     "execution_count": 30,
     "metadata": {},
     "output_type": "execute_result"
    }
   ],
   "source": [
    "# Creates vector of sequential numbers. In this example from 2 to 10\n",
    "np.arange(2, 10)"
   ]
  },
  {
   "cell_type": "code",
   "execution_count": null,
   "id": "e90aaf06",
   "metadata": {
    "ExecuteTime": {
     "end_time": "2024-02-06T07:52:15.038972Z",
     "start_time": "2024-02-06T07:52:15.033048Z"
    },
    "id": "e90aaf06",
    "outputId": "8e489934-0b2d-4236-d2d9-a32664e15376"
   },
   "outputs": [
    {
     "data": {
      "text/plain": [
       "(array([0.  , 0.25, 0.5 , 0.75, 1.  ]),\n",
       " array([ 1.        ,  1.77827941,  3.16227766,  5.62341325, 10.        ]))"
      ]
     },
     "execution_count": 14,
     "metadata": {},
     "output_type": "execute_result"
    }
   ],
   "source": [
    "# Divide given interval in specified number of chunks linearly or logarithmically\n",
    "np.linspace(0.0, 1.0, 5), np.logspace(0.0, 1.0, 5)"
   ]
  },
  {
   "cell_type": "markdown",
   "id": "1d01463b",
   "metadata": {
    "ExecuteTime": {
     "end_time": "2024-02-05T18:35:39.712781Z",
     "start_time": "2024-02-05T18:35:39.707727Z"
    },
    "id": "1d01463b"
   },
   "source": [
    "<font color='brown'>**Exercise 1.** Create a matrix `result` of shape $50 \\times 30$ filled with value 3.0:</font>"
   ]
  },
  {
   "cell_type": "code",
   "execution_count": 34,
   "id": "598d891f",
   "metadata": {
    "ExecuteTime": {
     "end_time": "2024-02-06T07:52:15.044322Z",
     "start_time": "2024-02-06T07:52:15.041369Z"
    },
    "id": "598d891f"
   },
   "outputs": [
    {
     "name": "stdout",
     "output_type": "stream",
     "text": [
      "[[3. 3. 3. ... 3. 3. 3.]\n",
      " [3. 3. 3. ... 3. 3. 3.]\n",
      " [3. 3. 3. ... 3. 3. 3.]\n",
      " ...\n",
      " [3. 3. 3. ... 3. 3. 3.]\n",
      " [3. 3. 3. ... 3. 3. 3.]\n",
      " [3. 3. 3. ... 3. 3. 3.]]\n"
     ]
    }
   ],
   "source": [
    "result = np.full([50,30], fill_value= 3.0)\n",
    "print(result)"
   ]
  },
  {
   "cell_type": "markdown",
   "id": "a350019a",
   "metadata": {
    "id": "a350019a"
   },
   "source": [
    "<font color='brown'>**Exercise 2.** Determine and check what shape will `np.array([[1], [2]])` have?</font>"
   ]
  },
  {
   "cell_type": "code",
   "execution_count": 38,
   "id": "db792b97",
   "metadata": {
    "ExecuteTime": {
     "end_time": "2024-02-06T07:52:15.049590Z",
     "start_time": "2024-02-06T07:52:15.046814Z"
    },
    "id": "db792b97"
   },
   "outputs": [
    {
     "name": "stdout",
     "output_type": "stream",
     "text": [
      "(2, 1)\n"
     ]
    }
   ],
   "source": [
    "#the array has 2 rows and 1 column\n",
    "arr = np.array([[1], [2]])\n",
    "print(arr.shape)"
   ]
  },
  {
   "cell_type": "markdown",
   "id": "eeb7da5e",
   "metadata": {
    "id": "eeb7da5e"
   },
   "source": [
    "Some important numpy array creation parameters:\n",
    "\n",
    "- `shape` - a list or tuple with the values of the array dimensions<br><br>\n",
    "\n",
    "- `dtype` - indication of the type of array elements, if the array creator is taken on the basis of objects from Python, then there must be a conversion from the type of these objects to the specified type<br><br>"
   ]
  },
  {
   "cell_type": "code",
   "execution_count": 39,
   "id": "aed9d40c",
   "metadata": {
    "ExecuteTime": {
     "end_time": "2024-02-06T07:52:15.057636Z",
     "start_time": "2024-02-06T07:52:15.051905Z"
    },
    "id": "aed9d40c",
    "outputId": "0db6d2f2-3f02-45d2-b1df-ea566d136c83"
   },
   "outputs": [
    {
     "data": {
      "text/plain": [
       "(array([1, 2, 3], dtype=int32), array([1., 2., 3.], dtype=float32))"
      ]
     },
     "execution_count": 39,
     "metadata": {},
     "output_type": "execute_result"
    }
   ],
   "source": [
    "a, b = np.array([1, 2, 3], dtype=np.int32), np.array([1, 2, 3], dtype=np.float32)\n",
    "a, b"
   ]
  },
  {
   "cell_type": "markdown",
   "id": "ed180bb3",
   "metadata": {
    "id": "ed180bb3"
   },
   "source": [
    "`reshape` allows you to change the dimensions of an array **without changing the total number of elements**:"
   ]
  },
  {
   "cell_type": "code",
   "execution_count": 44,
   "id": "09aba0e2",
   "metadata": {
    "ExecuteTime": {
     "end_time": "2024-02-06T07:52:15.065833Z",
     "start_time": "2024-02-06T07:52:15.060619Z"
    },
    "id": "09aba0e2",
    "outputId": "a7932561-7d95-4169-daf7-de0f823e4632"
   },
   "outputs": [
    {
     "name": "stdout",
     "output_type": "stream",
     "text": [
      "[[[0. 0. 0.]\n",
      "  [0. 0. 0.]\n",
      "  [0. 0. 0.]]\n",
      "\n",
      " [[0. 0. 0.]\n",
      "  [0. 0. 0.]\n",
      "  [0. 0. 0.]]\n",
      "\n",
      " [[0. 0. 0.]\n",
      "  [0. 0. 0.]\n",
      "  [0. 0. 0.]]] (3, 3, 3)\n",
      "[[0. 0. 0. 0. 0. 0. 0. 0. 0. 0. 0. 0. 0. 0. 0. 0. 0. 0. 0. 0. 0. 0. 0. 0.\n",
      "  0. 0. 0.]] (1, 27)\n"
     ]
    }
   ],
   "source": [
    "a = np.zeros([3, 3, 3])\n",
    "print(a, a.shape)\n",
    "\n",
    "b = a.reshape((1, 3 * 3 * 3))\n",
    "print(b, b.shape)"
   ]
  },
  {
   "cell_type": "markdown",
   "id": "be921097",
   "metadata": {
    "ExecuteTime": {
     "end_time": "2024-02-05T18:52:16.146140Z",
     "start_time": "2024-02-05T18:52:16.143509Z"
    },
    "id": "be921097"
   },
   "source": [
    "#### `Indexing`"
   ]
  },
  {
   "cell_type": "markdown",
   "id": "08d6e6c7",
   "metadata": {
    "id": "08d6e6c7"
   },
   "source": [
    "Numpy provides rich interface for indexing and slicing:\n",
    "\n",
    "- Everything is similar to lists, you can make slices and use negative indices\n",
    "- Indexes and slices in multidimensional arrays do not need to be separated by square brackets\n",
    "- Detailed description: https://docs.scipy.org/doc/numpy/reference/arrays.indexing.html"
   ]
  },
  {
   "cell_type": "code",
   "execution_count": 45,
   "id": "a9f29a23",
   "metadata": {
    "ExecuteTime": {
     "end_time": "2024-02-06T07:52:15.074266Z",
     "start_time": "2024-02-06T07:52:15.068113Z"
    },
    "id": "a9f29a23",
    "outputId": "8ef2cbb7-b18f-4e3f-f9aa-37f87e5a8b01"
   },
   "outputs": [
    {
     "name": "stdout",
     "output_type": "stream",
     "text": [
      "[[1 2 3]\n",
      " [3 4 5]] \n",
      "\n",
      "[1 2 3] \n",
      "\n",
      "[1 2 3] \n",
      "\n",
      "2 \n",
      "\n",
      "4 \n",
      "\n",
      "4 \n",
      "\n",
      "[1 2]\n"
     ]
    }
   ],
   "source": [
    "a = np.array([[1, 2, 3], [3, 4, 5]])\n",
    "\n",
    "print(a, '\\n')\n",
    "print(a[0], '\\n')\n",
    "print(a[0, 0:100500], '\\n')\n",
    "print(a[0][1], '\\n')\n",
    "print(a[-1][-2], '\\n')\n",
    "print(a[-1, -2], '\\n')\n",
    "print(a[0, 0:-1])"
   ]
  },
  {
   "cell_type": "markdown",
   "id": "fea799dd",
   "metadata": {
    "id": "fea799dd"
   },
   "source": [
    "An important difference from Python lists: slicing returns a **view**, not a copy! This allows you to assign values to submatrices:"
   ]
  },
  {
   "cell_type": "code",
   "execution_count": null,
   "id": "82976e10",
   "metadata": {
    "ExecuteTime": {
     "end_time": "2024-02-06T07:52:15.081701Z",
     "start_time": "2024-02-06T07:52:15.077473Z"
    },
    "id": "82976e10",
    "outputId": "3ac28d64-b722-4833-86b9-234e16f596dd"
   },
   "outputs": [
    {
     "name": "stdout",
     "output_type": "stream",
     "text": [
      "[[1 2 3]\n",
      " [3 4 5]] \n",
      "\n",
      "[[ 1 10  3]\n",
      " [ 3 10  5]] \n",
      "\n"
     ]
    }
   ],
   "source": [
    "a = np.array([[1, 2, 3], [3, 4, 5]])\n",
    "print(a, '\\n')\n",
    "\n",
    "a[:, 1] = 10\n",
    "print(a)"
   ]
  },
  {
   "cell_type": "markdown",
   "id": "f73810cb",
   "metadata": {
    "id": "f73810cb"
   },
   "source": [
    "Indexing can be done on a logical array of the same size:"
   ]
  },
  {
   "cell_type": "code",
   "execution_count": null,
   "id": "4e32c6c0",
   "metadata": {
    "ExecuteTime": {
     "end_time": "2024-02-06T07:52:15.088571Z",
     "start_time": "2024-02-06T07:52:15.083922Z"
    },
    "id": "4e32c6c0",
    "outputId": "5de3a08c-57ab-48d0-8ba0-3b7379233fba"
   },
   "outputs": [
    {
     "name": "stdout",
     "output_type": "stream",
     "text": [
      "[0 1 2 3 4 5 6 7 8 9] \n",
      "\n",
      "[ True False  True False  True False  True False  True False] \n",
      "\n",
      "[0 2 4 6 8] \n",
      "\n"
     ]
    }
   ],
   "source": [
    "a = np.arange(10)\n",
    "i = np.array([j % 2 == 0 for j in range(10)])\n",
    "\n",
    "print(a, '\\n')\n",
    "print(i, '\\n')\n",
    "print(a[i], '\\n')"
   ]
  },
  {
   "cell_type": "markdown",
   "id": "d5c30b2a",
   "metadata": {
    "id": "d5c30b2a"
   },
   "source": [
    "Using the `where` function, you can find the indexes of elements specified by a mask:"
   ]
  },
  {
   "cell_type": "code",
   "execution_count": null,
   "id": "82b835ee",
   "metadata": {
    "ExecuteTime": {
     "end_time": "2024-02-06T07:52:15.096253Z",
     "start_time": "2024-02-06T07:52:15.091310Z"
    },
    "id": "82b835ee",
    "outputId": "1145b09e-15d0-4e2b-ec1c-107da7783074"
   },
   "outputs": [
    {
     "data": {
      "text/plain": [
       "(array([5, 6, 7, 8, 9]),)"
      ]
     },
     "execution_count": 22,
     "metadata": {},
     "output_type": "execute_result"
    }
   ],
   "source": [
    "np.where(a > 4)"
   ]
  },
  {
   "cell_type": "markdown",
   "id": "ae3c4501",
   "metadata": {
    "id": "ae3c4501"
   },
   "source": [
    "<font color='brown'> **Exercise 3.** You are given two vectors of the same length: `a` и `b`. Leave in these vectors only those elements that correspond to the positions of non-zero elements in both vectors. </font>"
   ]
  },
  {
   "cell_type": "code",
   "execution_count": 70,
   "id": "2b6e5b8c",
   "metadata": {
    "ExecuteTime": {
     "end_time": "2024-02-06T07:52:15.102179Z",
     "start_time": "2024-02-06T07:52:15.098664Z"
    },
    "id": "2b6e5b8c"
   },
   "outputs": [],
   "source": [
    "a = np.array([0, 1, 0, 2, 3])\n",
    "b = np.array([1, 5, 2, 0, 6])"
   ]
  },
  {
   "cell_type": "code",
   "execution_count": 71,
   "id": "eb15fe8b",
   "metadata": {
    "ExecuteTime": {
     "end_time": "2024-02-06T07:52:15.108328Z",
     "start_time": "2024-02-06T07:52:15.105424Z"
    },
    "id": "eb15fe8b",
    "scrolled": true
   },
   "outputs": [
    {
     "name": "stdout",
     "output_type": "stream",
     "text": [
      "[1 2 3]  \n",
      "[1 5 2 6]  \n"
     ]
    }
   ],
   "source": [
    "i = np.where(a!=0)\n",
    "j = np.where(b!=0)\n",
    "\n",
    "print(a[i], \" \")\n",
    "print(b[j], \" \")"
   ]
  },
  {
   "cell_type": "code",
   "execution_count": 72,
   "id": "4171afc3",
   "metadata": {
    "deletable": false,
    "editable": false,
    "id": "4171afc3",
    "run_control": {
     "frozen": true
    }
   },
   "outputs": [
    {
     "ename": "AssertionError",
     "evalue": "",
     "output_type": "error",
     "traceback": [
      "\u001b[0;31m---------------------------------------------------------------------------\u001b[0m",
      "\u001b[0;31mAssertionError\u001b[0m                            Traceback (most recent call last)",
      "Cell \u001b[0;32mIn[72], line 2\u001b[0m\n\u001b[1;32m      1\u001b[0m \u001b[38;5;66;03m# Check yourself\u001b[39;00m\n\u001b[0;32m----> 2\u001b[0m \u001b[38;5;28;01massert\u001b[39;00m a\u001b[38;5;241m.\u001b[39mtolist() \u001b[38;5;241m==\u001b[39m [\u001b[38;5;241m1\u001b[39m, \u001b[38;5;241m3\u001b[39m]\n\u001b[1;32m      3\u001b[0m \u001b[38;5;28;01massert\u001b[39;00m b\u001b[38;5;241m.\u001b[39mtolist() \u001b[38;5;241m==\u001b[39m [\u001b[38;5;241m5\u001b[39m, \u001b[38;5;241m6\u001b[39m]\n",
      "\u001b[0;31mAssertionError\u001b[0m: "
     ]
    }
   ],
   "source": [
    "# Check yourself\n",
    "assert a.tolist() == [1, 3]\n",
    "assert b.tolist() == [5, 6]"
   ]
  },
  {
   "cell_type": "markdown",
   "id": "490df5b3",
   "metadata": {
    "id": "490df5b3"
   },
   "source": [
    "Complex indexing allows to get elements of an array in positions determined by another array. More precisely: for each dimension, arrays of identical sizes are supplied, the elements of which correspond to the indices of each dimension. Then, the output will be an array of the size of these arrays, the elements of which will correspond to the elements of the original array, taken at the points corresponding to the supplied arrays."
   ]
  },
  {
   "cell_type": "code",
   "execution_count": null,
   "id": "399f2091",
   "metadata": {
    "ExecuteTime": {
     "end_time": "2024-02-06T07:52:15.116231Z",
     "start_time": "2024-02-06T07:52:15.110988Z"
    },
    "id": "399f2091",
    "outputId": "9c1f06f6-0f6f-49da-dc50-afbb84fe3dc1"
   },
   "outputs": [
    {
     "data": {
      "text/plain": [
       "array([[1, 2, 3],\n",
       "       [4, 5, 6]])"
      ]
     },
     "execution_count": 25,
     "metadata": {},
     "output_type": "execute_result"
    }
   ],
   "source": [
    "X = np.array([[1, 2, 3], [4, 5, 6]])\n",
    "X"
   ]
  },
  {
   "cell_type": "code",
   "execution_count": null,
   "id": "c368eded",
   "metadata": {
    "ExecuteTime": {
     "end_time": "2024-02-06T07:52:15.124336Z",
     "start_time": "2024-02-06T07:52:15.118850Z"
    },
    "id": "c368eded",
    "outputId": "bb688528-9310-4d16-dfe7-29d83a03fa7d"
   },
   "outputs": [
    {
     "data": {
      "text/plain": [
       "(array([2, 6]), array([2, 1]))"
      ]
     },
     "execution_count": 26,
     "metadata": {},
     "output_type": "execute_result"
    }
   ],
   "source": [
    "X[[0, 1], [1, 2]], X[[0, 0], [1, 0]]"
   ]
  },
  {
   "cell_type": "code",
   "execution_count": null,
   "id": "6e288ed3",
   "metadata": {
    "ExecuteTime": {
     "end_time": "2024-02-06T07:52:15.132588Z",
     "start_time": "2024-02-06T07:52:15.127135Z"
    },
    "id": "6e288ed3",
    "outputId": "842635d3-5f4a-4386-d341-243a4e676ff0"
   },
   "outputs": [
    {
     "data": {
      "text/plain": [
       "array([[[ 0,  1,  2,  3],\n",
       "        [ 4,  5,  6,  7]],\n",
       "\n",
       "       [[ 8,  9, 10, 11],\n",
       "        [12, 13, 14, 15]],\n",
       "\n",
       "       [[16, 17, 18, 19],\n",
       "        [20, 21, 22, 23]]])"
      ]
     },
     "execution_count": 27,
     "metadata": {},
     "output_type": "execute_result"
    }
   ],
   "source": [
    "Y = np.arange(24).reshape((3, 2, 4))\n",
    "Y"
   ]
  },
  {
   "cell_type": "code",
   "execution_count": null,
   "id": "95e523cc",
   "metadata": {
    "ExecuteTime": {
     "end_time": "2024-02-06T07:52:15.155096Z",
     "start_time": "2024-02-06T07:52:15.149579Z"
    },
    "id": "95e523cc",
    "outputId": "c58dc0fe-d12a-40c8-fd0f-1f03a856e111"
   },
   "outputs": [
    {
     "data": {
      "text/plain": [
       "array([[10, 14],\n",
       "       [ 1,  5]])"
      ]
     },
     "execution_count": 28,
     "metadata": {},
     "output_type": "execute_result"
    }
   ],
   "source": [
    "Y[[1, 0], :, [2, 1]]"
   ]
  },
  {
   "cell_type": "markdown",
   "id": "48ec8aed",
   "metadata": {
    "id": "48ec8aed"
   },
   "source": [
    "#### `Arithmetic operations`"
   ]
  },
  {
   "cell_type": "markdown",
   "id": "72ffb806",
   "metadata": {
    "id": "72ffb806"
   },
   "source": [
    "- Arithmetic operations are generally element-wise and require the same size of operands<br>\n",
    "\n",
    "- But often NumPy can apply them to operands of different sizes using broadcasting, that is, rules for processing operands of different sizes<br><br>\n",
    "\n",
    "Examples of operations with arrays of the same size:"
   ]
  },
  {
   "cell_type": "code",
   "execution_count": null,
   "id": "32b5d889",
   "metadata": {
    "ExecuteTime": {
     "end_time": "2024-02-06T07:52:15.163355Z",
     "start_time": "2024-02-06T07:52:15.157723Z"
    },
    "id": "32b5d889",
    "outputId": "72800251-59d6-409e-edc7-dea3ce7af9ca"
   },
   "outputs": [
    {
     "name": "stdout",
     "output_type": "stream",
     "text": [
      "[[1 2 3]\n",
      " [4 5 6]\n",
      " [7 8 9]] \n",
      "\n",
      " [[1 0 0]\n",
      " [0 2 0]\n",
      " [0 0 3]] \n",
      "\n",
      " [[ 2  4  6]\n",
      " [ 8 10 12]\n",
      " [14 16 18]] \n",
      "\n",
      " [[ 2  2  3]\n",
      " [ 4  7  6]\n",
      " [ 7  8 12]]\n"
     ]
    }
   ],
   "source": [
    "A = [\n",
    "    [1, 2, 3],\n",
    "    [4, 5, 6],\n",
    "    [7, 8, 9],\n",
    "]\n",
    "\n",
    "B = [\n",
    "    [1, 0, 0],\n",
    "    [0, 2, 0],\n",
    "    [0, 0, 3],\n",
    "]\n",
    "\n",
    "A, B = np.array(A), np.array(B)\n",
    "\n",
    "print(A, '\\n\\n', B, '\\n\\n', 2 * A, '\\n\\n', A + B)"
   ]
  },
  {
   "cell_type": "code",
   "execution_count": null,
   "id": "ba7a8dbf",
   "metadata": {
    "ExecuteTime": {
     "end_time": "2024-02-06T07:52:15.171446Z",
     "start_time": "2024-02-06T07:52:15.165722Z"
    },
    "id": "ba7a8dbf",
    "outputId": "db37660d-af40-439c-f72e-06f31ae75ea5"
   },
   "outputs": [
    {
     "data": {
      "text/plain": [
       "(array([[ 0.84147098,  0.90929743,  0.14112001],\n",
       "        [-0.7568025 , -0.95892427, -0.2794155 ],\n",
       "        [ 0.6569866 ,  0.98935825,  0.41211849]]),\n",
       " array([[1, 2, 3],\n",
       "        [4, 5, 6],\n",
       "        [7, 8, 9]]),\n",
       " array([[1.        , 1.41421356, 1.73205081],\n",
       "        [2.        , 2.23606798, 2.44948974],\n",
       "        [2.64575131, 2.82842712, 3.        ]]),\n",
       " array([[False, False, False],\n",
       "        [ True,  True,  True],\n",
       "        [ True,  True,  True]]))"
      ]
     },
     "execution_count": 30,
     "metadata": {},
     "output_type": "execute_result"
    }
   ],
   "source": [
    "# Some popular element-wise operations\n",
    "np.sin(A), np.abs(A), A ** 0.5, A > 3"
   ]
  },
  {
   "cell_type": "code",
   "execution_count": null,
   "id": "a7a7ba5c",
   "metadata": {
    "ExecuteTime": {
     "end_time": "2024-02-06T07:52:15.179198Z",
     "start_time": "2024-02-06T07:52:15.174070Z"
    },
    "id": "a7a7ba5c",
    "outputId": "51782434-c5f7-4bdc-94e0-998527a4bfd5"
   },
   "outputs": [
    {
     "data": {
      "text/plain": [
       "(array([[0, 2, 3],\n",
       "        [4, 3, 6],\n",
       "        [7, 8, 6]]),\n",
       " array([[ 2,  2,  3],\n",
       "        [ 4,  7,  6],\n",
       "        [ 7,  8, 12]]),\n",
       " array([[ 1,  0,  0],\n",
       "        [ 0, 10,  0],\n",
       "        [ 0,  0, 27]]))"
      ]
     },
     "execution_count": 31,
     "metadata": {},
     "output_type": "execute_result"
    }
   ],
   "source": [
    "# Element-wise operations with two operands\n",
    "A - B, A + B, A * B"
   ]
  },
  {
   "cell_type": "code",
   "execution_count": null,
   "id": "380678e4",
   "metadata": {
    "ExecuteTime": {
     "end_time": "2024-02-06T07:52:15.189412Z",
     "start_time": "2024-02-06T07:52:15.182307Z"
    },
    "id": "380678e4",
    "outputId": "eda8b62b-8f1e-4b24-aaf5-edf80fef052e"
   },
   "outputs": [
    {
     "data": {
      "text/plain": [
       "array([[ 1,  4,  9],\n",
       "       [ 4, 10, 18],\n",
       "       [ 7, 16, 27]])"
      ]
     },
     "execution_count": 32,
     "metadata": {},
     "output_type": "execute_result"
    }
   ],
   "source": [
    "# Matrix multiplication\n",
    "A @ B"
   ]
  },
  {
   "cell_type": "markdown",
   "id": "8bc79440",
   "metadata": {
    "id": "8bc79440"
   },
   "source": [
    "#### `Broadcasting`"
   ]
  },
  {
   "cell_type": "markdown",
   "id": "6d43dc54",
   "metadata": {
    "id": "6d43dc54"
   },
   "source": [
    "Let us be given a matrix $X$ of size $5 \\times 5$ and a vector $y$ of length $5$. Let's say we want to add a vector to each row of the matrix."
   ]
  },
  {
   "cell_type": "code",
   "execution_count": 75,
   "id": "a497c66a",
   "metadata": {
    "ExecuteTime": {
     "end_time": "2024-02-06T07:52:15.198898Z",
     "start_time": "2024-02-06T07:52:15.193020Z"
    },
    "id": "a497c66a",
    "outputId": "9607db0f-3671-4ba4-e15e-90e247dbcf1b"
   },
   "outputs": [
    {
     "data": {
      "text/plain": [
       "(array([[ 0,  1,  2,  3,  4],\n",
       "        [ 5,  6,  7,  8,  9],\n",
       "        [10, 11, 12, 13, 14],\n",
       "        [15, 16, 17, 18, 19],\n",
       "        [20, 21, 22, 23, 24]]),\n",
       " array([0, 1, 2, 3, 4]))"
      ]
     },
     "execution_count": 75,
     "metadata": {},
     "output_type": "execute_result"
    }
   ],
   "source": [
    "x = np.arange(25).reshape(5, 5)\n",
    "y = np.arange(5)\n",
    "\n",
    "x, y"
   ]
  },
  {
   "cell_type": "markdown",
   "id": "5cc08c28",
   "metadata": {
    "id": "5cc08c28"
   },
   "source": [
    "The naive way to solve the problem will work correctly!"
   ]
  },
  {
   "cell_type": "code",
   "execution_count": null,
   "id": "48a6db8e",
   "metadata": {
    "ExecuteTime": {
     "end_time": "2024-02-06T07:52:15.208123Z",
     "start_time": "2024-02-06T07:52:15.202118Z"
    },
    "id": "48a6db8e",
    "outputId": "4d3c239b-0f25-4062-d6f5-ceb26021f3ce"
   },
   "outputs": [
    {
     "data": {
      "text/plain": [
       "array([[ 0,  2,  4,  6,  8],\n",
       "       [ 5,  7,  9, 11, 13],\n",
       "       [10, 12, 14, 16, 18],\n",
       "       [15, 17, 19, 21, 23],\n",
       "       [20, 22, 24, 26, 28]])"
      ]
     },
     "execution_count": 34,
     "metadata": {},
     "output_type": "execute_result"
    }
   ],
   "source": [
    "x + y"
   ]
  },
  {
   "cell_type": "markdown",
   "id": "6cb8f5fd",
   "metadata": {
    "id": "6cb8f5fd"
   },
   "source": [
    "**But why?** Broadcasting rules:\n",
    "\n",
    "1. If two arrays have dimensions $(a_1, a_2, ..., a_n)$ and $(b_1, b_2, ..., b_n)$, respectively, then element-wise operations can be carried out between them if for each $i$ one of three conditions is met:\n",
    "    * $a_i = b_i$\n",
    "    * $a_i = 1$\n",
    "    * $b_i = 1$\n",
    "    \n",
    "2. If an element-wise operation is performed between arrays of different sizes, then leading dummy dimensions are added to the smaller array.\n",
    "\n",
    "Detailed description: http://docs.scipy.org/doc/numpy/user/basics.broadcasting.html"
   ]
  },
  {
   "cell_type": "markdown",
   "id": "5246a6cf",
   "metadata": {
    "id": "5246a6cf"
   },
   "source": [
    "Let's have a look on some examples of broadcasting:"
   ]
  },
  {
   "cell_type": "code",
   "execution_count": null,
   "id": "387fa59d",
   "metadata": {
    "ExecuteTime": {
     "end_time": "2024-02-06T07:52:15.217178Z",
     "start_time": "2024-02-06T07:52:15.211288Z"
    },
    "id": "387fa59d",
    "outputId": "98ea3b5f-7d16-4c57-e3b8-72a33bd5d2bf"
   },
   "outputs": [
    {
     "name": "stdout",
     "output_type": "stream",
     "text": [
      "[2 2] \n",
      "\n",
      "[[2 3]\n",
      " [4 5]] \n",
      "\n",
      "[[2 3]\n",
      " [4 5]]\n"
     ]
    }
   ],
   "source": [
    "# If the arrays are not equal along one of the dimensions,\n",
    "#    and one of them has this dimension of length 1,\n",
    "#    then it will be duplicated along this dimension:\n",
    "a = np.array([[1, 2], [3, 4]])\n",
    "b = np.array([1])\n",
    "c = np.array([1, 1])\n",
    "print(b + c, '\\n')\n",
    "print(a + b, '\\n')\n",
    "print(a + c)"
   ]
  },
  {
   "cell_type": "code",
   "execution_count": 76,
   "id": "229efe58",
   "metadata": {
    "ExecuteTime": {
     "end_time": "2024-02-06T07:52:15.224336Z",
     "start_time": "2024-02-06T07:52:15.219773Z"
    },
    "id": "229efe58",
    "outputId": "16e75d39-967a-4369-d703-7cb70ca5dd4c"
   },
   "outputs": [
    {
     "name": "stdout",
     "output_type": "stream",
     "text": [
      "[[[2. 2. 2. 2.]\n",
      "  [2. 2. 2. 2.]\n",
      "  [2. 2. 2. 2.]]\n",
      "\n",
      " [[2. 2. 2. 2.]\n",
      "  [2. 2. 2. 2.]\n",
      "  [2. 2. 2. 2.]]]\n"
     ]
    }
   ],
   "source": [
    "# If the number of dimensions does not match,\n",
    "#    then the array that has fewer of them will be “stretched” on the left with dimensions of length 1:\n",
    "\n",
    "a = np.ones((2, 3, 4))\n",
    "b = np.ones(4)\n",
    "\n",
    "print(a + b) # here a.shape=(2, 3, 4) and b.shape is considered to be (1, 1, 4)"
   ]
  },
  {
   "cell_type": "markdown",
   "id": "80d9ef3c",
   "metadata": {
    "id": "80d9ef3c"
   },
   "source": [
    "Let's add a row vector to the array:"
   ]
  },
  {
   "cell_type": "code",
   "execution_count": null,
   "id": "aa74603c",
   "metadata": {
    "ExecuteTime": {
     "end_time": "2024-02-06T07:52:15.231730Z",
     "start_time": "2024-02-06T07:52:15.226725Z"
    },
    "id": "aa74603c",
    "outputId": "cc116525-c5d1-4b24-b189-9eb2302ad943"
   },
   "outputs": [
    {
     "data": {
      "text/plain": [
       "array([[2, 4, 6],\n",
       "       [5, 7, 9]])"
      ]
     },
     "execution_count": 37,
     "metadata": {},
     "output_type": "execute_result"
    }
   ],
   "source": [
    "a = np.array([[1, 2, 3], [4, 5, 6]])\n",
    "b = np.array([1, 2, 3])\n",
    "a + b"
   ]
  },
  {
   "cell_type": "markdown",
   "id": "1eaaa6de",
   "metadata": {
    "id": "1eaaa6de"
   },
   "source": [
    "Now let's try to add a column:"
   ]
  },
  {
   "cell_type": "code",
   "execution_count": null,
   "id": "a5cae63a",
   "metadata": {
    "ExecuteTime": {
     "end_time": "2024-02-06T07:52:15.449519Z",
     "start_time": "2024-02-06T07:52:15.234496Z"
    },
    "id": "a5cae63a",
    "outputId": "df462df2-9895-4216-c219-cc5819a78ed8"
   },
   "outputs": [
    {
     "ename": "ValueError",
     "evalue": "operands could not be broadcast together with shapes (2,3) (2,) ",
     "output_type": "error",
     "traceback": [
      "\u001b[0;31m---------------------------------------------------------------------------\u001b[0m",
      "\u001b[0;31mValueError\u001b[0m                                Traceback (most recent call last)",
      "Cell \u001b[0;32mIn [38], line 3\u001b[0m\n\u001b[1;32m      1\u001b[0m a \u001b[38;5;241m=\u001b[39m np\u001b[38;5;241m.\u001b[39marray([[\u001b[38;5;241m1\u001b[39m, \u001b[38;5;241m2\u001b[39m, \u001b[38;5;241m3\u001b[39m], [\u001b[38;5;241m4\u001b[39m, \u001b[38;5;241m5\u001b[39m, \u001b[38;5;241m6\u001b[39m]])\n\u001b[1;32m      2\u001b[0m b \u001b[38;5;241m=\u001b[39m np\u001b[38;5;241m.\u001b[39marray([\u001b[38;5;241m1\u001b[39m, \u001b[38;5;241m2\u001b[39m])\n\u001b[0;32m----> 3\u001b[0m \u001b[43ma\u001b[49m\u001b[43m \u001b[49m\u001b[38;5;241;43m+\u001b[39;49m\u001b[43m \u001b[49m\u001b[43mb\u001b[49m\n",
      "\u001b[0;31mValueError\u001b[0m: operands could not be broadcast together with shapes (2,3) (2,) "
     ]
    }
   ],
   "source": [
    "a = np.array([[1, 2, 3], [4, 5, 6]])\n",
    "b = np.array([1, 2])\n",
    "a + b"
   ]
  },
  {
   "cell_type": "markdown",
   "id": "5c4439d1",
   "metadata": {
    "id": "5c4439d1"
   },
   "source": [
    "This error is expected because broadcasting rules are not satisfied.\n",
    "\n",
    "- The error occurred due to the fact that a line with the wrong size was added<br>\n",
    "\n",
    "- You need to convert the row to a column (add a dummy dimension) and then NumPy will understand how to work with it<br><br>\n",
    "\n",
    "To do this, we will use `reshape` (a good method, but far from the only one):\n"
   ]
  },
  {
   "cell_type": "code",
   "execution_count": null,
   "id": "fcbe85e1",
   "metadata": {
    "ExecuteTime": {
     "end_time": "2024-02-06T07:52:29.753478Z",
     "start_time": "2024-02-06T07:52:29.748585Z"
    },
    "id": "fcbe85e1",
    "outputId": "1f85b489-4015-43d4-f346-3c09740d4b0b"
   },
   "outputs": [
    {
     "data": {
      "text/plain": [
       "array([[2, 3, 4],\n",
       "       [6, 7, 8]])"
      ]
     },
     "execution_count": 39,
     "metadata": {},
     "output_type": "execute_result"
    }
   ],
   "source": [
    "a + np.reshape(b, (2, 1))"
   ]
  },
  {
   "cell_type": "markdown",
   "id": "1ce932e8",
   "metadata": {
    "id": "1ce932e8"
   },
   "source": [
    "**You should always check your broadcast operations! You can easily run into trouble**"
   ]
  },
  {
   "cell_type": "markdown",
   "id": "ea8e8ea0",
   "metadata": {
    "id": "ea8e8ea0"
   },
   "source": [
    "<font color='brown'>**Exercise 4.** Which of these commands will fail?</font>\n",
    "\n",
    "1. `np.ones((2, 3)) + np.ones(3)`\n",
    "\n",
    "2. `np.ones(2) + np.ones((2, 3))`\n",
    "\n",
    "3. `np.zeros((4, 3)) + np.ones((4, 1))`\n",
    "\n",
    "4. `np.zeros((3, 4)) + np.ones((4, 3))`\n",
    "\n",
    "5. `np.zeros((1, 3, 5)) + np.zeros((1, 3))`\n",
    "\n",
    "6. `np.zeros((5, 3, 1)) + np.zeros((1, 5))`"
   ]
  },
  {
   "cell_type": "code",
   "execution_count": null,
   "id": "700dc02d",
   "metadata": {
    "ExecuteTime": {
     "end_time": "2024-02-06T07:52:30.692563Z",
     "start_time": "2024-02-06T07:52:30.690079Z"
    },
    "id": "700dc02d"
   },
   "outputs": [],
   "source": [
    "#2,4,5,6"
   ]
  },
  {
   "cell_type": "markdown",
   "id": "253a2073",
   "metadata": {
    "id": "253a2073"
   },
   "source": [
    "<font color='brown'>**Exercise 5.** Let us be given a matrix $X$ of size $10 \\times 10$ and a column vector $y$ of length $10$. Get the `result` matrix obtained by adding the vector $y$ to each column of $X$ (without using loops). </font>"
   ]
  },
  {
   "cell_type": "code",
   "execution_count": 82,
   "id": "821df321",
   "metadata": {
    "ExecuteTime": {
     "end_time": "2024-02-06T07:52:31.281103Z",
     "start_time": "2024-02-06T07:52:31.277859Z"
    },
    "id": "821df321"
   },
   "outputs": [],
   "source": [
    "x = np.arange(100).reshape(10, 10)\n",
    "y = np.arange(10)"
   ]
  },
  {
   "cell_type": "code",
   "execution_count": 83,
   "id": "2aca63da",
   "metadata": {
    "ExecuteTime": {
     "end_time": "2024-02-06T07:52:31.478894Z",
     "start_time": "2024-02-06T07:52:31.476149Z"
    },
    "id": "2aca63da"
   },
   "outputs": [
    {
     "name": "stdout",
     "output_type": "stream",
     "text": [
      "[[  0   1   2   3   4   5   6   7   8   9]\n",
      " [ 11  12  13  14  15  16  17  18  19  20]\n",
      " [ 22  23  24  25  26  27  28  29  30  31]\n",
      " [ 33  34  35  36  37  38  39  40  41  42]\n",
      " [ 44  45  46  47  48  49  50  51  52  53]\n",
      " [ 55  56  57  58  59  60  61  62  63  64]\n",
      " [ 66  67  68  69  70  71  72  73  74  75]\n",
      " [ 77  78  79  80  81  82  83  84  85  86]\n",
      " [ 88  89  90  91  92  93  94  95  96  97]\n",
      " [ 99 100 101 102 103 104 105 106 107 108]]\n"
     ]
    }
   ],
   "source": [
    "y= np.arange(10).reshape(10,1)\n",
    "\n",
    "add = x+y\n",
    "print(add)\n"
   ]
  },
  {
   "cell_type": "code",
   "execution_count": 84,
   "id": "2537094b",
   "metadata": {
    "deletable": false,
    "editable": false,
    "id": "2537094b",
    "run_control": {
     "frozen": true
    }
   },
   "outputs": [
    {
     "ename": "AssertionError",
     "evalue": "",
     "output_type": "error",
     "traceback": [
      "\u001b[0;31m---------------------------------------------------------------------------\u001b[0m",
      "\u001b[0;31mAssertionError\u001b[0m                            Traceback (most recent call last)",
      "Cell \u001b[0;32mIn[84], line 2\u001b[0m\n\u001b[1;32m      1\u001b[0m \u001b[38;5;66;03m# Check yourself\u001b[39;00m\n\u001b[0;32m----> 2\u001b[0m \u001b[38;5;28;01massert\u001b[39;00m result[\u001b[38;5;241m0\u001b[39m][\u001b[38;5;241m0\u001b[39m] \u001b[38;5;241m==\u001b[39m \u001b[38;5;241m0\u001b[39m\n\u001b[1;32m      3\u001b[0m \u001b[38;5;28;01mfor\u001b[39;00m i \u001b[38;5;129;01min\u001b[39;00m \u001b[38;5;28mrange\u001b[39m(\u001b[38;5;241m1\u001b[39m, \u001b[38;5;241m10\u001b[39m):\n\u001b[1;32m      4\u001b[0m     \u001b[38;5;28;01massert\u001b[39;00m result[i][i\u001b[38;5;241m-\u001b[39m\u001b[38;5;241m1\u001b[39m] \u001b[38;5;241m==\u001b[39m \u001b[38;5;241m10\u001b[39m \u001b[38;5;241m*\u001b[39m i \u001b[38;5;241m+\u001b[39m (i \u001b[38;5;241m-\u001b[39m \u001b[38;5;241m1\u001b[39m) \u001b[38;5;241m*\u001b[39m \u001b[38;5;241m2\u001b[39m \u001b[38;5;241m+\u001b[39m \u001b[38;5;241m1\u001b[39m\n",
      "\u001b[0;31mAssertionError\u001b[0m: "
     ]
    }
   ],
   "source": [
    "# Check yourself\n",
    "assert result[0][0] == 0\n",
    "for i in range(1, 10):\n",
    "    assert result[i][i-1] == 10 * i + (i - 1) * 2 + 1"
   ]
  },
  {
   "cell_type": "markdown",
   "id": "9cafeaba",
   "metadata": {
    "id": "9cafeaba"
   },
   "source": [
    "#### `Transpose`"
   ]
  },
  {
   "cell_type": "markdown",
   "id": "cdb856fe",
   "metadata": {
    "id": "cdb856fe"
   },
   "source": [
    "- Let’s consider the case of two-dimensional matrices, for those who are interested in multidimensional matrices, study https://stackoverflow.com/questions/32034237/how-does-numpys-transpose-method-permute-the-axes-of-an-array\n",
    "- When transposing (like `reshape`), a reference to the same data is returned"
   ]
  },
  {
   "cell_type": "code",
   "execution_count": 85,
   "id": "d014c20f",
   "metadata": {
    "ExecuteTime": {
     "end_time": "2024-02-06T07:52:32.228078Z",
     "start_time": "2024-02-06T07:52:32.223508Z"
    },
    "id": "d014c20f",
    "outputId": "56a304cb-f189-4896-8062-f30d44ff5c30"
   },
   "outputs": [
    {
     "name": "stdout",
     "output_type": "stream",
     "text": [
      "[[ 1  2  3  4]\n",
      " [ 5  6  7  8]\n",
      " [ 9 10 11 12]] \n",
      "\n",
      " [[ 1  5  9]\n",
      " [ 2  6 10]\n",
      " [ 3  7 11]\n",
      " [ 4  8 12]] \n",
      "\n",
      " [[ 1  5  9]\n",
      " [ 2  6 10]\n",
      " [ 3  7 11]\n",
      " [ 4  8 12]]\n"
     ]
    }
   ],
   "source": [
    "A = np.arange(1, 13).reshape(3, 4)\n",
    "print(A, '\\n\\n', A.T, '\\n\\n', A.transpose())"
   ]
  },
  {
   "cell_type": "markdown",
   "id": "8cd25087",
   "metadata": {
    "id": "8cd25087"
   },
   "source": [
    "#### `Aggregate functions`"
   ]
  },
  {
   "cell_type": "markdown",
   "id": "e1f7a1f2",
   "metadata": {
    "id": "e1f7a1f2"
   },
   "source": [
    "Numpy has a rich collection of reduction functions:"
   ]
  },
  {
   "cell_type": "code",
   "execution_count": 87,
   "id": "532f7f0d",
   "metadata": {
    "ExecuteTime": {
     "end_time": "2024-02-06T07:52:32.859268Z",
     "start_time": "2024-02-06T07:52:32.852333Z"
    },
    "id": "532f7f0d",
    "outputId": "f2b2bdc6-b8ae-443a-b1e5-789cebd25223"
   },
   "outputs": [
    {
     "name": "stdout",
     "output_type": "stream",
     "text": [
      "Min element:          1\n",
      "Min element position: 0\n",
      "Max element:          4\n",
      "Mean:                 2.4444444444444446\n",
      "Sum:                  22\n",
      "Median:               3.0\n",
      "Cumulative sum:       [ 1  3  6 10 13 15 16 19 22]\n",
      "Cumulative product:   [   1    2    6   24   72  144  144  432 1296]\n"
     ]
    }
   ],
   "source": [
    "a = np.array([1, 2, 3, 4, 3, 2, 1, 3, 3])\n",
    "\n",
    "print('Min element:          {}'.format(np.min(a)))\n",
    "print('Min element position: {}'.format(np.argmin(a)))\n",
    "print('Max element:          {}'.format(np.max(a)))\n",
    "print('Mean:                 {}'.format(np.mean(a)))\n",
    "print('Sum:                  {}'.format(np.sum(a)))\n",
    "print('Median:               {}'.format(np.median(a)))\n",
    "print('Cumulative sum:       {}'.format(np.cumsum(a)))\n",
    "print('Cumulative product:   {}'.format(np.cumprod(a)))"
   ]
  },
  {
   "cell_type": "markdown",
   "id": "57637a22",
   "metadata": {
    "id": "57637a22"
   },
   "source": [
    "In the multidimensional case, the operation is applied to an array stretched into a vector (flatten):"
   ]
  },
  {
   "cell_type": "code",
   "execution_count": 88,
   "id": "da5ba91e",
   "metadata": {
    "ExecuteTime": {
     "end_time": "2024-02-06T07:52:33.240246Z",
     "start_time": "2024-02-06T07:52:33.235623Z"
    },
    "id": "da5ba91e",
    "outputId": "2f3005fb-5b42-437f-c748-e4ac2136f72b"
   },
   "outputs": [
    {
     "name": "stdout",
     "output_type": "stream",
     "text": [
      "[[1 2 3]\n",
      " [4 3 2]\n",
      " [1 3 3]] \n",
      "\n",
      "4\n",
      "[ 1  3  6 10 13 15 16 19 22]\n"
     ]
    }
   ],
   "source": [
    "a = np.array([[1, 2, 3], [4, 3, 2], [1, 3, 3]])\n",
    "print(a, '\\n')\n",
    "print(np.max(a))\n",
    "print(np.cumsum(a))"
   ]
  },
  {
   "cell_type": "markdown",
   "id": "867625d4",
   "metadata": {
    "id": "867625d4"
   },
   "source": [
    "To work with certain dimensions, you need to explicitly specify the `axis` parameter:"
   ]
  },
  {
   "cell_type": "code",
   "execution_count": null,
   "id": "7283ce12",
   "metadata": {
    "ExecuteTime": {
     "end_time": "2024-02-06T07:52:33.603914Z",
     "start_time": "2024-02-06T07:52:33.599604Z"
    },
    "id": "7283ce12",
    "outputId": "c0702a24-203b-4b59-82a6-25bd39481409"
   },
   "outputs": [
    {
     "name": "stdout",
     "output_type": "stream",
     "text": [
      "[4 3 3] \n",
      "\n",
      "[[1 3 6]\n",
      " [4 7 9]\n",
      " [1 4 7]]\n"
     ]
    }
   ],
   "source": [
    "print(np.max(a, axis=0), '\\n')\n",
    "print(np.cumsum(a, axis=1))"
   ]
  },
  {
   "cell_type": "markdown",
   "id": "5b966de0",
   "metadata": {
    "id": "5b966de0"
   },
   "source": [
    "<font color='brown'>**Exercise 6.** You are given a vector $x$ and a square matrix $D$. Calculate the vector of values $y_j = argmin_i (x_i + D_{ij})$. </font>"
   ]
  },
  {
   "cell_type": "code",
   "execution_count": 105,
   "id": "85a34077",
   "metadata": {
    "ExecuteTime": {
     "end_time": "2024-02-06T07:52:33.955751Z",
     "start_time": "2024-02-06T07:52:33.952162Z"
    },
    "id": "85a34077"
   },
   "outputs": [],
   "source": [
    "x = np.array([5, 2, 3, 1])\n",
    "D = np.array([\n",
    "    [1, 2, 3],\n",
    "    [2, 2, 4],\n",
    "    [5, 6, 1],\n",
    "    [2, 4, 5]\n",
    "])"
   ]
  },
  {
   "cell_type": "code",
   "execution_count": 106,
   "id": "52e04673",
   "metadata": {
    "ExecuteTime": {
     "end_time": "2024-02-06T07:52:34.143528Z",
     "start_time": "2024-02-06T07:52:34.141035Z"
    },
    "id": "52e04673"
   },
   "outputs": [
    {
     "name": "stdout",
     "output_type": "stream",
     "text": [
      "[[6 7 8]\n",
      " [4 4 6]\n",
      " [8 9 4]\n",
      " [3 5 6]]\n",
      "Minarg: 9\n"
     ]
    }
   ],
   "source": [
    "A = x[:, None]+ D\n",
    "print(A)\n",
    "print(f'Minarg: {np.argmin(A)}')"
   ]
  },
  {
   "cell_type": "code",
   "execution_count": null,
   "id": "b6eaa51c",
   "metadata": {
    "deletable": false,
    "editable": false,
    "id": "b6eaa51c",
    "run_control": {
     "frozen": true
    }
   },
   "outputs": [],
   "source": [
    "# Check yourself\n",
    "assert y.tolist() == [3, 1, 2]"
   ]
  },
  {
   "cell_type": "markdown",
   "id": "645195cc",
   "metadata": {
    "id": "645195cc"
   },
   "source": [
    "<font color='brown'> **Exercise 7**. Number the maximum elements in the vector in order. For the vector `[1, 2, 3, 3, 2, 1, 3, 1]` you should get `[0, 0, 1, 2, 0, 0, 3, 0]`: </font>"
   ]
  },
  {
   "cell_type": "code",
   "execution_count": 25,
   "id": "31bf246c",
   "metadata": {
    "ExecuteTime": {
     "end_time": "2024-02-05T19:22:26.413043Z",
     "start_time": "2024-02-05T19:22:26.409140Z"
    },
    "deletable": false,
    "editable": false,
    "id": "31bf246c",
    "outputId": "f3e3efd4-6f1e-410e-e964-706625aac914",
    "run_control": {
     "frozen": true
    }
   },
   "outputs": [
    {
     "name": "stdout",
     "output_type": "stream",
     "text": [
      "None\n"
     ]
    }
   ],
   "source": [
    "def task_1(a):\n",
    "    pass\n",
    "    ### your code here\n",
    "\n",
    "print(task_1([1, 2, 3, 3, 2, 1, 3, 1]))"
   ]
  },
  {
   "cell_type": "code",
   "execution_count": 26,
   "id": "7ea761ba",
   "metadata": {},
   "outputs": [
    {
     "name": "stdout",
     "output_type": "stream",
     "text": [
      "3\n",
      "[0 0 1 2 0 0 3 0]\n"
     ]
    }
   ],
   "source": [
    "\n",
    "def task_1(a):\n",
    "    a = np.array(a)  \n",
    "    maxva = np.max(a)\n",
    "    \n",
    "    print(maxva)  \n",
    "    count = 0\n",
    "    result = []\n",
    "    \n",
    "    for val in a:\n",
    "        if val == maxva:\n",
    "            count += 1\n",
    "            result.append(count)\n",
    "        else:\n",
    "            result.append(0)\n",
    "    \n",
    "    return np.array(result)\n",
    "\n",
    "print(task_1([1, 2, 3, 3, 2, 1, 3, 1]))\n"
   ]
  },
  {
   "cell_type": "markdown",
   "id": "94ddf5e9",
   "metadata": {
    "id": "94ddf5e9"
   },
   "source": [
    "<font color='brown'> **Exercise 8**. Implement a function for calculating the product of non-zero elements on the diagonal of a rectangular matrix. For the matrix `[[1, 0, 1], [2, 0, 2], [3, 0, 3], [4, 4, 4]]` the answer is $3$. If there are no non-zero elements, the function must return `None`: </font>"
   ]
  },
  {
   "cell_type": "code",
   "execution_count": 27,
   "id": "edc11b45",
   "metadata": {
    "ExecuteTime": {
     "end_time": "2024-02-05T19:23:17.762954Z",
     "start_time": "2024-02-05T19:23:17.759016Z"
    },
    "deletable": false,
    "editable": false,
    "id": "edc11b45",
    "outputId": "227501e2-ca1d-494a-d2a1-f22949dd4f6a",
    "run_control": {
     "frozen": true
    }
   },
   "outputs": [
    {
     "name": "stdout",
     "output_type": "stream",
     "text": [
      "None\n"
     ]
    }
   ],
   "source": [
    "def task_2(A):\n",
    "    pass\n",
    "    ### your code here\n",
    "\n",
    "print(task_2(np.array([[1, 0, 1], [2, 0, 2], [3, 0, 3], [4, 4, 4]])))"
   ]
  },
  {
   "cell_type": "code",
   "execution_count": 29,
   "id": "10ac3aab",
   "metadata": {},
   "outputs": [
    {
     "name": "stdout",
     "output_type": "stream",
     "text": [
      "3\n"
     ]
    }
   ],
   "source": [
    "\n",
    "def task_2(A):\n",
    "    rows, cols = A.shape  \n",
    "    diag = [A[i, i] for i in range(min(rows, cols))]  \n",
    "    \n",
    "    nonz = [val for val in diag if val != 0]  \n",
    "    \n",
    "    if not nonz:  \n",
    "        return None\n",
    "    \n",
    "    product = np.prod(nonz)  \n",
    "    return product\n",
    "\n",
    "\n",
    "print(task_2(np.array([[1, 0, 1], [2, 0, 2], [3, 0, 3], [4, 4, 4]])))  \n"
   ]
  },
  {
   "cell_type": "markdown",
   "id": "a77f7ecf",
   "metadata": {
    "id": "a77f7ecf"
   },
   "source": [
    "<font color='brown'> **Exercise 9**. Find the maximum element in a row vector among elements preceded by zero. For `[0, 4, 2, 0, 3, 0, 0, 5, 7, 0]` the answer is $5$: </font>"
   ]
  },
  {
   "cell_type": "code",
   "execution_count": null,
   "id": "783e676d",
   "metadata": {
    "ExecuteTime": {
     "end_time": "2024-02-05T19:24:04.784652Z",
     "start_time": "2024-02-05T19:24:04.780608Z"
    },
    "deletable": false,
    "editable": false,
    "id": "783e676d",
    "outputId": "d1d186bb-7ba0-4e65-c371-967ab85a0ee2",
    "run_control": {
     "frozen": true
    }
   },
   "outputs": [
    {
     "name": "stdout",
     "output_type": "stream",
     "text": [
      "5\n"
     ]
    }
   ],
   "source": [
    "def task_3(a):\n",
    "    pass\n",
    "    ### your code here\n",
    "\n",
    "print(task_3(np.array([0, 4, 2, 0, 3, 0, 0, 5, 7, 0])))"
   ]
  },
  {
   "cell_type": "code",
   "execution_count": 31,
   "id": "fc689e78",
   "metadata": {},
   "outputs": [
    {
     "name": "stdout",
     "output_type": "stream",
     "text": [
      "5\n"
     ]
    }
   ],
   "source": [
    "\n",
    "def task_3(a):\n",
    "    a = np.array(a)  \n",
    "    poss = [a[i] for i in range(1, len(a)) if a[i-1] == 0]  \n",
    "    \n",
    "    return max(poss) if poss else None  \n",
    "\n",
    "\n",
    "print(task_3([0, 4, 2, 0, 3, 0, 0, 5, 7, 0]))  \n"
   ]
  },
  {
   "cell_type": "markdown",
   "id": "ff60ff0d",
   "metadata": {
    "id": "ff60ff0d"
   },
   "source": [
    "<font color='brown'> **Exercise 10.** You are given a matrix of dimension $N \\times K$, $N$ is the number of objects, $K$ is the number of features. Calculate sample mean and covariance matrix without using functions mean and cov.\n",
    "\n",
    "$$ E[X]={\\frac {1}{n}}\\sum \\limits _{i=1}^{n}x_{i} $$\n",
    "\n",
    "$$ {\\mathrm  {cov}}(X_{{(n)}},Y_{{(n)}})={\\frac  1n}\\sum _{{t=1}}^{n}\\left(X_{t}-\\overline {X}\\right)\\left(Y_{t}-\\overline {Y}\\right)$$\n",
    "\n",
    " </font>"
   ]
  },
  {
   "cell_type": "code",
   "execution_count": null,
   "id": "bc773448",
   "metadata": {
    "ExecuteTime": {
     "end_time": "2024-02-06T07:52:35.398603Z",
     "start_time": "2024-02-06T07:52:35.395187Z"
    },
    "id": "bc773448"
   },
   "outputs": [],
   "source": [
    "X = np.arange(32).reshape(8, 4)"
   ]
  },
  {
   "cell_type": "code",
   "execution_count": null,
   "id": "f4a7b5a0",
   "metadata": {
    "ExecuteTime": {
     "end_time": "2024-02-06T07:52:35.481382Z",
     "start_time": "2024-02-06T07:52:35.478620Z"
    },
    "id": "f4a7b5a0"
   },
   "outputs": [],
   "source": [
    "### your code here"
   ]
  },
  {
   "cell_type": "code",
   "execution_count": null,
   "id": "4691405b",
   "metadata": {
    "deletable": false,
    "editable": false,
    "id": "4691405b",
    "run_control": {
     "frozen": true
    }
   },
   "outputs": [],
   "source": [
    "# Check yourself\n",
    "assert mean.tolist() == [14, 15, 16, 17]\n",
    "assert np.all(cov == 84)"
   ]
  },
  {
   "cell_type": "markdown",
   "id": "81f32d73",
   "metadata": {
    "id": "81f32d73"
   },
   "source": [
    "<font color='brown'> **Exercise 11.** Replace all maximal elements of the matrix $A$ with $0$. </font>"
   ]
  },
  {
   "cell_type": "code",
   "execution_count": 52,
   "id": "48bebe76",
   "metadata": {
    "ExecuteTime": {
     "end_time": "2024-02-06T07:52:35.732380Z",
     "start_time": "2024-02-06T07:52:35.729154Z"
    },
    "id": "48bebe76"
   },
   "outputs": [],
   "source": [
    "A = np.array([\n",
    "    [1, 6, 3],\n",
    "    [6, 2, 1],\n",
    "    [4, 5, 6],\n",
    "    [1, 2, 1],\n",
    "])"
   ]
  },
  {
   "cell_type": "code",
   "execution_count": 53,
   "id": "55a25416",
   "metadata": {
    "ExecuteTime": {
     "end_time": "2024-02-06T07:52:35.817071Z",
     "start_time": "2024-02-06T07:52:35.814156Z"
    },
    "id": "55a25416"
   },
   "outputs": [
    {
     "name": "stdout",
     "output_type": "stream",
     "text": [
      "[[1 0 3]\n",
      " [0 2 1]\n",
      " [4 5 0]\n",
      " [1 2 1]]\n"
     ]
    }
   ],
   "source": [
    "m = np.max(A)\n",
    "\n",
    "A[A==m]=0\n",
    "print(A)"
   ]
  },
  {
   "cell_type": "code",
   "execution_count": 54,
   "id": "65140f38",
   "metadata": {
    "deletable": false,
    "editable": false,
    "id": "65140f38",
    "run_control": {
     "frozen": true
    }
   },
   "outputs": [],
   "source": [
    "# Check yourself\n",
    "new_A = np.array([\n",
    "    [1, 0, 3],\n",
    "    [0, 2, 1],\n",
    "    [4, 5, 0],\n",
    "    [1, 2, 1],\n",
    "])\n",
    "assert np.all(A == new_A)"
   ]
  },
  {
   "cell_type": "markdown",
   "id": "a4241c17",
   "metadata": {
    "id": "a4241c17"
   },
   "source": [
    "<font color='brown'> **Exercise 12.** Given matrices $A$ of size $(n \\times d)$ and $B$ of size $(m \\times d)$. Find all rows in $A$ contained in $B$ without using loops. Estimate the complexity of the resulting algorithm. </font>"
   ]
  },
  {
   "cell_type": "code",
   "execution_count": 63,
   "id": "8a32e676",
   "metadata": {
    "ExecuteTime": {
     "end_time": "2024-02-06T07:52:36.066037Z",
     "start_time": "2024-02-06T07:52:36.062073Z"
    },
    "id": "8a32e676"
   },
   "outputs": [],
   "source": [
    "A = np.array([\n",
    "    [1, 2, 3],\n",
    "    [1, 2, 1],\n",
    "    [4, 5, 6],\n",
    "    [1, 2, 1],\n",
    "    [4, 2, 1]\n",
    "])\n",
    "\n",
    "B = np.array([\n",
    "    [4, 5, 6],\n",
    "    [4, 5, 6],\n",
    "    [1, 2, 3],\n",
    "    [0, 1, 2]\n",
    "])"
   ]
  },
  {
   "cell_type": "code",
   "execution_count": 66,
   "id": "6efa9c0c",
   "metadata": {
    "ExecuteTime": {
     "end_time": "2024-02-06T07:52:36.150397Z",
     "start_time": "2024-02-06T07:52:36.147072Z"
    },
    "id": "6efa9c0c"
   },
   "outputs": [
    {
     "name": "stdout",
     "output_type": "stream",
     "text": [
      "False\n"
     ]
    },
    {
     "name": "stderr",
     "output_type": "stream",
     "text": [
      "/var/folders/9m/643yyccj2350vkymqw_3l4zh0000gn/T/ipykernel_3466/3975150588.py:1: DeprecationWarning: elementwise comparison failed; this will raise an error in the future.\n",
      "  print(A == B)\n"
     ]
    }
   ],
   "source": []
  },
  {
   "cell_type": "code",
   "execution_count": null,
   "id": "a30e26d0",
   "metadata": {
    "deletable": false,
    "editable": false,
    "id": "a30e26d0",
    "run_control": {
     "frozen": true
    }
   },
   "outputs": [],
   "source": [
    "# Check yourself\n",
    "assert set(indexes) == {0, 2}"
   ]
  },
  {
   "cell_type": "markdown",
   "id": "66fe5ec4",
   "metadata": {
    "id": "66fe5ec4"
   },
   "source": [
    "<font color='brown'> **Exercise 13.** You are given matrices $A$ of size $(n \\times d)$ and $B$ of size $(m \\times d)$. Calculate a pairwise distance matrix $D$ of size $(n \\times m)$ such that $d_{ij} = \\{||a_{i} - b_{j}||\\}_{i,j}^{ n, m}$, using broadcasting. Estimate the complexity of the resulting algorithm. Can it be significantly improved? Hint: expand the square norm of the difference. </font>"
   ]
  },
  {
   "cell_type": "code",
   "execution_count": null,
   "id": "bf02b021",
   "metadata": {
    "ExecuteTime": {
     "end_time": "2024-02-06T07:52:37.455473Z",
     "start_time": "2024-02-06T07:52:37.447807Z"
    },
    "id": "bf02b021",
    "outputId": "3ca16ca4-2617-41d6-dd85-1e3ab22a9759"
   },
   "outputs": [
    {
     "data": {
      "text/plain": [
       "(array([[-0.53518858,  0.7426105 ,  1.64011145],\n",
       "        [ 0.11434503,  0.44083876,  0.05214866],\n",
       "        [-0.79881839,  0.17528919, -0.25321545],\n",
       "        [ 0.23312277,  1.22153551, -0.42102356]]),\n",
       " array([[ 1.93265511,  0.19754117,  0.5886207 ],\n",
       "        [ 0.94267213, -1.24920988, -1.49727294],\n",
       "        [-0.18267433,  0.66521456,  0.52935531],\n",
       "        [-0.2249415 ,  0.5366877 ,  0.6316107 ],\n",
       "        [-0.6106645 , -1.44522058,  0.73261988]]))"
      ]
     },
     "execution_count": 55,
     "metadata": {},
     "output_type": "execute_result"
    }
   ],
   "source": [
    "m, n, d = 5, 4, 3\n",
    "\n",
    "A = np.random.randn(n, d)\n",
    "B = np.random.randn(m, d)\n",
    "A, B"
   ]
  },
  {
   "cell_type": "code",
   "execution_count": null,
   "id": "9bb6d53d",
   "metadata": {
    "ExecuteTime": {
     "end_time": "2024-02-06T07:52:37.533386Z",
     "start_time": "2024-02-06T07:52:37.530830Z"
    },
    "id": "9bb6d53d"
   },
   "outputs": [],
   "source": [
    "### your code here"
   ]
  },
  {
   "cell_type": "markdown",
   "id": "74e63805",
   "metadata": {
    "id": "74e63805"
   },
   "source": [
    "### `Pandas`"
   ]
  },
  {
   "cell_type": "markdown",
   "id": "3c1782fb",
   "metadata": {
    "id": "3c1782fb"
   },
   "source": [
    "In this part we will get acquainted with the **pandas** library. **Pandas** is a convenient library for working with tabular data in Python if there is not too much data and it fits in your computer's RAM.\n",
    "\n",
    "Using the built-in tools of **pandas** you can easily:\n",
    "- read tabular data (in csv, json, xlsx formats)\n",
    "- present your own data in the form of tables and save them\n",
    "- count statistics\n",
    "- visualize data\n",
    "- process data\n",
    "- and much more...\n",
    "\n",
    "Main objects in **pandas**:\n",
    "\n",
    "* **Series** is a one-dimensional data structure in which each element has its own index.\n",
    "* **DataFrame** is a tabular data structure, which is a table with named columns of various types and row indexes.\n",
    "\n",
    "\n",
    "Useful materials:\n",
    "1. [Documentation](http://pandas.pydata.org/pandas-docs/stable/index.html)\n",
    "2. [Pandas in 10 minutes from the official guide](http://pandas.pydata.org/pandas-docs/stable/10min.html)\n",
    "3. [Examples of using functionality](http://nbviewer.jupyter.org/github/justmarkham/pandas-videos/blob/master/pandas.ipynb)"
   ]
  },
  {
   "cell_type": "markdown",
   "id": "ff425fe6",
   "metadata": {
    "ExecuteTime": {
     "end_time": "2024-02-05T19:49:39.047325Z",
     "start_time": "2024-02-05T19:49:39.043060Z"
    },
    "id": "ff425fe6"
   },
   "source": [
    "Let's download data to analyze. [The dataset](https://www.kaggle.com/datasets/die9origephit/youtube-trending-videos-in-mediterranean-countries) includes YouTube trending videos statistics for Mediterranean countries on 2022-11-07."
   ]
  },
  {
   "cell_type": "code",
   "execution_count": 68,
   "id": "7d14d5e4",
   "metadata": {
    "ExecuteTime": {
     "end_time": "2024-02-06T07:52:39.975377Z",
     "start_time": "2024-02-06T07:52:37.866167Z"
    },
    "id": "7d14d5e4",
    "outputId": "b2558a81-eebf-4bff-e1e8-c20e49ea76c1"
   },
   "outputs": [
    {
     "name": "stdout",
     "output_type": "stream",
     "text": [
      "zsh:1: command not found: kaggle\r\n"
     ]
    }
   ],
   "source": [
    "! kaggle datasets download -d die9origephit/youtube-trending-videos-in-mediterranean-countries -p ./ --unzip"
   ]
  },
  {
   "cell_type": "markdown",
   "id": "42017594",
   "metadata": {
    "id": "42017594"
   },
   "source": [
    "#### `Textual analysis`"
   ]
  },
  {
   "cell_type": "markdown",
   "id": "097885fe",
   "metadata": {
    "id": "097885fe"
   },
   "source": [
    "At first let's analyze data structure, its columns and compute basic statistics."
   ]
  },
  {
   "cell_type": "markdown",
   "id": "56f7f914",
   "metadata": {
    "id": "56f7f914"
   },
   "source": [
    "First of all we need to open the file with the table and look at some samples, for instance we can print the last 5 rows:\n",
    "\n",
    "- https://pandas.pydata.org/pandas-docs/stable/getting_started/intro_tutorials/02_read_write.html\n",
    "- https://pandas.pydata.org/pandas-docs/stable/reference/api/pandas.read_csv.html\n",
    "- https://pandas.pydata.org/pandas-docs/stable/reference/api/pandas.DataFrame.tail.html#pandas.DataFrame.tail"
   ]
  },
  {
   "cell_type": "code",
   "execution_count": 69,
   "id": "f62ff9bc",
   "metadata": {
    "ExecuteTime": {
     "end_time": "2024-02-06T07:52:40.120057Z",
     "start_time": "2024-02-06T07:52:39.979094Z"
    },
    "id": "f62ff9bc",
    "outputId": "d260581b-3877-49b1-a74e-64723727aad0"
   },
   "outputs": [
    {
     "data": {
      "text/html": [
       "<div>\n",
       "<style scoped>\n",
       "    .dataframe tbody tr th:only-of-type {\n",
       "        vertical-align: middle;\n",
       "    }\n",
       "\n",
       "    .dataframe tbody tr th {\n",
       "        vertical-align: top;\n",
       "    }\n",
       "\n",
       "    .dataframe thead th {\n",
       "        text-align: right;\n",
       "    }\n",
       "</style>\n",
       "<table border=\"1\" class=\"dataframe\">\n",
       "  <thead>\n",
       "    <tr style=\"text-align: right;\">\n",
       "      <th></th>\n",
       "      <th>country</th>\n",
       "      <th>video_id</th>\n",
       "      <th>title</th>\n",
       "      <th>publishedAt</th>\n",
       "      <th>channelId</th>\n",
       "      <th>channelTitle</th>\n",
       "      <th>categoryId</th>\n",
       "      <th>trending_date</th>\n",
       "      <th>tags</th>\n",
       "      <th>view_count</th>\n",
       "      <th>comment_count</th>\n",
       "      <th>thumbnail_link</th>\n",
       "      <th>comments_disabled</th>\n",
       "      <th>ratings_disabled</th>\n",
       "      <th>description</th>\n",
       "    </tr>\n",
       "  </thead>\n",
       "  <tbody>\n",
       "    <tr>\n",
       "      <th>3216</th>\n",
       "      <td>NaN</td>\n",
       "      <td>eB-A1Y0Dswc</td>\n",
       "      <td>Thank you for watching</td>\n",
       "      <td>2022-07-05T21:18:33Z</td>\n",
       "      <td>UCS5tt2z_DFvG7-39J3aE-bQ</td>\n",
       "      <td>Life of Boris</td>\n",
       "      <td>22</td>\n",
       "      <td>22.11.07</td>\n",
       "      <td>lifeofboris|life of boris|english subtitles|ye...</td>\n",
       "      <td>864216</td>\n",
       "      <td>14431</td>\n",
       "      <td>https://i.ytimg.com/vi/eB-A1Y0Dswc/default.jpg</td>\n",
       "      <td>False</td>\n",
       "      <td>True</td>\n",
       "      <td>New channel: https://www.youtube.com/channel/U...</td>\n",
       "    </tr>\n",
       "    <tr>\n",
       "      <th>3217</th>\n",
       "      <td>NaN</td>\n",
       "      <td>KJGTtzccOHU</td>\n",
       "      <td>Pokemon Emerald but every battle is extremely ...</td>\n",
       "      <td>2022-07-05T01:55:10Z</td>\n",
       "      <td>UC0VVYtw21rg2cokUystu2Dw</td>\n",
       "      <td>SmallAnt</td>\n",
       "      <td>20</td>\n",
       "      <td>22.11.07</td>\n",
       "      <td>pokemon|smallant|smallant1|challenge|pokemon c...</td>\n",
       "      <td>1311698</td>\n",
       "      <td>1232</td>\n",
       "      <td>https://i.ytimg.com/vi/KJGTtzccOHU/default.jpg</td>\n",
       "      <td>False</td>\n",
       "      <td>True</td>\n",
       "      <td>Pokemon emerald but every battle is a 1v2You s...</td>\n",
       "    </tr>\n",
       "    <tr>\n",
       "      <th>3218</th>\n",
       "      <td>NaN</td>\n",
       "      <td>be8mqaTi_DI</td>\n",
       "      <td>Victor Cibrian x Fuerza Regida x Luis R Conriq...</td>\n",
       "      <td>2022-07-04T21:00:36Z</td>\n",
       "      <td>UC648rgJOboZlgcDbW00vTSA</td>\n",
       "      <td>Rancho Humilde</td>\n",
       "      <td>10</td>\n",
       "      <td>22.11.07</td>\n",
       "      <td>Rancho Humilde|Legado 7|El De La Guitarra|Fuer...</td>\n",
       "      <td>2256933</td>\n",
       "      <td>597</td>\n",
       "      <td>https://i.ytimg.com/vi/be8mqaTi_DI/default.jpg</td>\n",
       "      <td>False</td>\n",
       "      <td>True</td>\n",
       "      <td>SuscrÃ­bete: https://Rancho.lnk.to/RHYoutube\\r...</td>\n",
       "    </tr>\n",
       "    <tr>\n",
       "      <th>3219</th>\n",
       "      <td>NaN</td>\n",
       "      <td>14aYHc7ybu0</td>\n",
       "      <td>WE STAYED AT A 1 STAR HOTEL FOR 24 HOURS | coc...</td>\n",
       "      <td>2022-07-05T13:40:04Z</td>\n",
       "      <td>UCSGoIq_tVESqNYF1Re-zn1Q</td>\n",
       "      <td>HJ Evelyn</td>\n",
       "      <td>24</td>\n",
       "      <td>22.11.07</td>\n",
       "      <td>hjevelyn|Evelyn ha|Emily ha|erica ha|korean si...</td>\n",
       "      <td>922668</td>\n",
       "      <td>2951</td>\n",
       "      <td>https://i.ytimg.com/vi/14aYHc7ybu0/default.jpg</td>\n",
       "      <td>False</td>\n",
       "      <td>True</td>\n",
       "      <td>never again ahaha.... CHECK OUT OUR MERCH: htt...</td>\n",
       "    </tr>\n",
       "    <tr>\n",
       "      <th>3220</th>\n",
       "      <td>NaN</td>\n",
       "      <td>mQ9eFI13NCQ</td>\n",
       "      <td>I 100%'d Cuphead: The Delicious Last Course, H...</td>\n",
       "      <td>2022-07-04T16:04:33Z</td>\n",
       "      <td>UCRgzckrm1Svf-Y_dIWsTPTg</td>\n",
       "      <td>The Andrew Collette Show</td>\n",
       "      <td>20</td>\n",
       "      <td>22.11.07</td>\n",
       "      <td>cuphead|cuphead dlc|cuphead the delicious last...</td>\n",
       "      <td>1176289</td>\n",
       "      <td>620</td>\n",
       "      <td>https://i.ytimg.com/vi/mQ9eFI13NCQ/default.jpg</td>\n",
       "      <td>False</td>\n",
       "      <td>True</td>\n",
       "      <td>My Cuphead: The Delicious Last Course Let's Pl...</td>\n",
       "    </tr>\n",
       "  </tbody>\n",
       "</table>\n",
       "</div>"
      ],
      "text/plain": [
       "     country     video_id                                              title  \\\n",
       "3216     NaN  eB-A1Y0Dswc                             Thank you for watching   \n",
       "3217     NaN  KJGTtzccOHU  Pokemon Emerald but every battle is extremely ...   \n",
       "3218     NaN  be8mqaTi_DI  Victor Cibrian x Fuerza Regida x Luis R Conriq...   \n",
       "3219     NaN  14aYHc7ybu0  WE STAYED AT A 1 STAR HOTEL FOR 24 HOURS | coc...   \n",
       "3220     NaN  mQ9eFI13NCQ  I 100%'d Cuphead: The Delicious Last Course, H...   \n",
       "\n",
       "               publishedAt                 channelId  \\\n",
       "3216  2022-07-05T21:18:33Z  UCS5tt2z_DFvG7-39J3aE-bQ   \n",
       "3217  2022-07-05T01:55:10Z  UC0VVYtw21rg2cokUystu2Dw   \n",
       "3218  2022-07-04T21:00:36Z  UC648rgJOboZlgcDbW00vTSA   \n",
       "3219  2022-07-05T13:40:04Z  UCSGoIq_tVESqNYF1Re-zn1Q   \n",
       "3220  2022-07-04T16:04:33Z  UCRgzckrm1Svf-Y_dIWsTPTg   \n",
       "\n",
       "                  channelTitle  categoryId trending_date  \\\n",
       "3216             Life of Boris          22      22.11.07   \n",
       "3217                  SmallAnt          20      22.11.07   \n",
       "3218            Rancho Humilde          10      22.11.07   \n",
       "3219                 HJ Evelyn          24      22.11.07   \n",
       "3220  The Andrew Collette Show          20      22.11.07   \n",
       "\n",
       "                                                   tags  view_count  \\\n",
       "3216  lifeofboris|life of boris|english subtitles|ye...      864216   \n",
       "3217  pokemon|smallant|smallant1|challenge|pokemon c...     1311698   \n",
       "3218  Rancho Humilde|Legado 7|El De La Guitarra|Fuer...     2256933   \n",
       "3219  hjevelyn|Evelyn ha|Emily ha|erica ha|korean si...      922668   \n",
       "3220  cuphead|cuphead dlc|cuphead the delicious last...     1176289   \n",
       "\n",
       "      comment_count                                  thumbnail_link  \\\n",
       "3216          14431  https://i.ytimg.com/vi/eB-A1Y0Dswc/default.jpg   \n",
       "3217           1232  https://i.ytimg.com/vi/KJGTtzccOHU/default.jpg   \n",
       "3218            597  https://i.ytimg.com/vi/be8mqaTi_DI/default.jpg   \n",
       "3219           2951  https://i.ytimg.com/vi/14aYHc7ybu0/default.jpg   \n",
       "3220            620  https://i.ytimg.com/vi/mQ9eFI13NCQ/default.jpg   \n",
       "\n",
       "      comments_disabled  ratings_disabled  \\\n",
       "3216              False              True   \n",
       "3217              False              True   \n",
       "3218              False              True   \n",
       "3219              False              True   \n",
       "3220              False              True   \n",
       "\n",
       "                                            description  \n",
       "3216  New channel: https://www.youtube.com/channel/U...  \n",
       "3217  Pokemon emerald but every battle is a 1v2You s...  \n",
       "3218  SuscrÃ­bete: https://Rancho.lnk.to/RHYoutube\\r...  \n",
       "3219  never again ahaha.... CHECK OUT OUR MERCH: htt...  \n",
       "3220  My Cuphead: The Delicious Last Course Let's Pl...  "
      ]
     },
     "execution_count": 69,
     "metadata": {},
     "output_type": "execute_result"
    }
   ],
   "source": [
    "data = pd.read_csv('youtube_trending_mediterranean.csv')\n",
    "data.tail(5)"
   ]
  },
  {
   "cell_type": "markdown",
   "id": "130c305d",
   "metadata": {
    "id": "130c305d"
   },
   "source": [
    "Then, look at the data and tell what they are, how many rows and columns are there in the table?\n",
    "\n",
    "- https://pandas.pydata.org/pandas-docs/stable/reference/api/pandas.DataFrame.shape.html#pandas.DataFrame.shape"
   ]
  },
  {
   "cell_type": "code",
   "execution_count": 70,
   "id": "50e84365",
   "metadata": {
    "ExecuteTime": {
     "end_time": "2024-02-06T07:52:40.130571Z",
     "start_time": "2024-02-06T07:52:40.123598Z"
    },
    "id": "50e84365",
    "outputId": "cf23ebb6-fe8a-4d97-887d-87a1b2bae0b1"
   },
   "outputs": [
    {
     "data": {
      "text/plain": [
       "((3221, 15),\n",
       " Index(['country', 'video_id', 'title', 'publishedAt', 'channelId',\n",
       "        'channelTitle', 'categoryId', 'trending_date', 'tags', 'view_count',\n",
       "        'comment_count', 'thumbnail_link', 'comments_disabled',\n",
       "        'ratings_disabled', 'description'],\n",
       "       dtype='object'))"
      ]
     },
     "execution_count": 70,
     "metadata": {},
     "output_type": "execute_result"
    }
   ],
   "source": [
    "# 3221 rows, 15 columns\n",
    "data.shape, data.columns"
   ]
  },
  {
   "cell_type": "markdown",
   "id": "b7e814bf",
   "metadata": {
    "id": "b7e814bf"
   },
   "source": [
    "Then we can start our analysis column by column. Let's look at `country` column.\n",
    "\n",
    "For how many countries is there information about videos in the table? We will assume the absence of a country does not count as +1 value?\n",
    "\n",
    "- https://pandas.pydata.org/pandas-docs/stable/reference/api/pandas.Series.nunique.html#pandas.Series.nunique"
   ]
  },
  {
   "cell_type": "code",
   "execution_count": 71,
   "id": "4e853da6",
   "metadata": {
    "ExecuteTime": {
     "end_time": "2024-02-06T07:52:40.141412Z",
     "start_time": "2024-02-06T07:52:40.135703Z"
    },
    "id": "4e853da6",
    "outputId": "6a79d3a2-ba53-46c5-9f5b-19e27235bc36"
   },
   "outputs": [
    {
     "data": {
      "text/plain": [
       "19"
      ]
     },
     "execution_count": 71,
     "metadata": {},
     "output_type": "execute_result"
    }
   ],
   "source": [
    "data.country.nunique(dropna=True)"
   ]
  },
  {
   "cell_type": "markdown",
   "id": "a9c29f66",
   "metadata": {
    "id": "a9c29f66"
   },
   "source": [
    "How many videos (i.e. entries in the table) are there with allowed and prohibited comments? (column `comments_disabled`)\n",
    "\n",
    "- https://pandas.pydata.org/pandas-docs/stable/reference/api/pandas.Series.value_counts.html#pandas.Series.value_counts"
   ]
  },
  {
   "cell_type": "code",
   "execution_count": 72,
   "id": "08ccb575",
   "metadata": {
    "ExecuteTime": {
     "end_time": "2024-02-06T07:52:40.151133Z",
     "start_time": "2024-02-06T07:52:40.143850Z"
    },
    "id": "08ccb575",
    "outputId": "dd813cf2-6881-45f4-a148-1aa660bc29de"
   },
   "outputs": [
    {
     "data": {
      "text/plain": [
       "False    3193\n",
       "True       28\n",
       "Name: comments_disabled, dtype: int64"
      ]
     },
     "execution_count": 72,
     "metadata": {},
     "output_type": "execute_result"
    }
   ],
   "source": [
    "data.comments_disabled.value_counts()"
   ]
  },
  {
   "cell_type": "markdown",
   "id": "60000f02",
   "metadata": {
    "id": "60000f02"
   },
   "source": [
    "What is the maximum number of views for videos included in the table? (column `view_count`)\n",
    "\n",
    "- https://pandas.pydata.org/pandas-docs/stable/reference/api/pandas.Series.max.html#pandas.Series.max"
   ]
  },
  {
   "cell_type": "code",
   "execution_count": 73,
   "id": "4663d600",
   "metadata": {
    "ExecuteTime": {
     "end_time": "2024-02-06T07:52:40.159030Z",
     "start_time": "2024-02-06T07:52:40.154024Z"
    },
    "id": "4663d600",
    "outputId": "3766f236-e106-4924-812e-3bb37ef34287"
   },
   "outputs": [
    {
     "data": {
      "text/plain": [
       "123034293"
      ]
     },
     "execution_count": 73,
     "metadata": {},
     "output_type": "execute_result"
    }
   ],
   "source": [
    "data.view_count.max()"
   ]
  },
  {
   "cell_type": "markdown",
   "id": "dcd9a921",
   "metadata": {
    "id": "dcd9a921"
   },
   "source": [
    "Are there any gaps in the data? In which columns?\n",
    "\n",
    "You can read more about working with missing values [here](https://pandas.pydata.org/pandas-docs/stable/user_guide/missing_data.html).\n",
    "\n",
    "- https://pandas.pydata.org/pandas-docs/stable/reference/api/pandas.DataFrame.isnull.html#pandas.DataFrame.isnull"
   ]
  },
  {
   "cell_type": "code",
   "execution_count": 74,
   "id": "56ab638e",
   "metadata": {
    "ExecuteTime": {
     "end_time": "2024-02-06T07:52:40.174082Z",
     "start_time": "2024-02-06T07:52:40.161477Z"
    },
    "id": "56ab638e",
    "outputId": "de8a6590-9550-4902-86b0-e23a5caecb08"
   },
   "outputs": [
    {
     "data": {
      "text/plain": [
       "country              200\n",
       "video_id               0\n",
       "title                  0\n",
       "publishedAt            0\n",
       "channelId              0\n",
       "channelTitle           0\n",
       "categoryId             0\n",
       "trending_date          0\n",
       "tags                   0\n",
       "view_count             0\n",
       "comment_count          0\n",
       "thumbnail_link         0\n",
       "comments_disabled      0\n",
       "ratings_disabled       0\n",
       "description          131\n",
       "dtype: int64"
      ]
     },
     "execution_count": 74,
     "metadata": {},
     "output_type": "execute_result"
    }
   ],
   "source": [
    "data.isnull().sum()"
   ]
  },
  {
   "cell_type": "markdown",
   "id": "082a3bd9",
   "metadata": {
    "id": "082a3bd9"
   },
   "source": [
    "Pandas can perform basic preprocessing. For example, we can fill the gaps with a blank line for text columns, and remove blank lines for columns with categorical values.\n",
    "\n",
    "We will assume that the values of a categorical variable determine the fact of belonging to a certain category; there should be a limited number of categories, much smaller than the size of the dataset.\n",
    "\n",
    "- https://pandas.pydata.org/pandas-docs/stable/reference/api/pandas.DataFrame.fillna.html#pandas.DataFrame.fillna\n",
    "- https://pandas.pydata.org/pandas-docs/stable/reference/api/pandas.DataFrame.dropna.html#pandas.DataFrame.dropna"
   ]
  },
  {
   "cell_type": "code",
   "execution_count": 75,
   "id": "bc64ebd7",
   "metadata": {
    "ExecuteTime": {
     "end_time": "2024-02-06T07:52:40.188547Z",
     "start_time": "2024-02-06T07:52:40.176360Z"
    },
    "id": "bc64ebd7"
   },
   "outputs": [],
   "source": [
    "data.fillna({\"description\": \"\"}, inplace=True)\n",
    "data.dropna(inplace=True)"
   ]
  },
  {
   "cell_type": "code",
   "execution_count": 76,
   "id": "fa8058a9",
   "metadata": {
    "ExecuteTime": {
     "end_time": "2024-02-06T07:52:40.203072Z",
     "start_time": "2024-02-06T07:52:40.190826Z"
    },
    "id": "fa8058a9",
    "outputId": "8aa00d00-2f34-4963-d2d0-2d257abd22a0"
   },
   "outputs": [
    {
     "data": {
      "text/plain": [
       "((3021, 15),\n",
       " country              0\n",
       " video_id             0\n",
       " title                0\n",
       " publishedAt          0\n",
       " channelId            0\n",
       " channelTitle         0\n",
       " categoryId           0\n",
       " trending_date        0\n",
       " tags                 0\n",
       " view_count           0\n",
       " comment_count        0\n",
       " thumbnail_link       0\n",
       " comments_disabled    0\n",
       " ratings_disabled     0\n",
       " description          0\n",
       " dtype: int64)"
      ]
     },
     "execution_count": 76,
     "metadata": {},
     "output_type": "execute_result"
    }
   ],
   "source": [
    "data.shape, data.isnull().sum()"
   ]
  },
  {
   "cell_type": "markdown",
   "id": "38f12aad",
   "metadata": {
    "id": "38f12aad"
   },
   "source": [
    "Then we can look at the `publishedAt` column and determine what type is it?"
   ]
  },
  {
   "cell_type": "code",
   "execution_count": 77,
   "id": "c2ee1766",
   "metadata": {
    "ExecuteTime": {
     "end_time": "2024-02-06T07:52:40.216437Z",
     "start_time": "2024-02-06T07:52:40.209253Z"
    },
    "id": "c2ee1766",
    "outputId": "486ba7f8-f342-47f3-9939-791592036894"
   },
   "outputs": [
    {
     "data": {
      "text/plain": [
       "0       2022-07-07T22:00:12Z\n",
       "1       2022-06-30T22:00:11Z\n",
       "2       2022-07-02T22:00:11Z\n",
       "3       2022-07-07T22:00:12Z\n",
       "4       2022-06-30T18:00:26Z\n",
       "                ...         \n",
       "3016    2022-07-05T18:46:34Z\n",
       "3017    2022-07-04T09:00:09Z\n",
       "3018    2022-07-03T20:00:18Z\n",
       "3019    2022-07-01T20:47:38Z\n",
       "3020    2022-07-06T17:09:00Z\n",
       "Name: publishedAt, Length: 3021, dtype: object"
      ]
     },
     "execution_count": 77,
     "metadata": {},
     "output_type": "execute_result"
    }
   ],
   "source": [
    "data.publishedAt"
   ]
  },
  {
   "cell_type": "markdown",
   "id": "87bb388b",
   "metadata": {
    "id": "87bb388b"
   },
   "source": [
    "Pandas can process time series out of the box. But we need to explicitly specify correct data type for such columns. So we change the column type to datetime.\n",
    "\n",
    "Then we can analyze distribution of videos by month. For example we can determine which month had the most videos added?\n",
    "\n",
    "Useful materials: https://pandas.pydata.org/pandas-docs/stable/user_guide/timeseries.html\n",
    "\n",
    "- https://pandas.pydata.org/pandas-docs/stable/reference/api/pandas.to_datetime.html#pandas-to-datetime\n",
    "- https://pandas.pydata.org/pandas-docs/stable/reference/api/pandas.Series.dt.month.html#pandas.Series.dt.month"
   ]
  },
  {
   "cell_type": "code",
   "execution_count": 78,
   "id": "0d5ff4f7",
   "metadata": {
    "ExecuteTime": {
     "end_time": "2024-02-06T07:52:40.230765Z",
     "start_time": "2024-02-06T07:52:40.219823Z"
    },
    "id": "0d5ff4f7",
    "outputId": "1ad03a9b-5a1e-4609-f7ba-014547d8a261"
   },
   "outputs": [
    {
     "data": {
      "text/plain": [
       "0      2022-07-07 22:00:12+00:00\n",
       "1      2022-06-30 22:00:11+00:00\n",
       "2      2022-07-02 22:00:11+00:00\n",
       "3      2022-07-07 22:00:12+00:00\n",
       "4      2022-06-30 18:00:26+00:00\n",
       "                  ...           \n",
       "3016   2022-07-05 18:46:34+00:00\n",
       "3017   2022-07-04 09:00:09+00:00\n",
       "3018   2022-07-03 20:00:18+00:00\n",
       "3019   2022-07-01 20:47:38+00:00\n",
       "3020   2022-07-06 17:09:00+00:00\n",
       "Name: publishedAt, Length: 3021, dtype: datetime64[ns, UTC]"
      ]
     },
     "execution_count": 78,
     "metadata": {},
     "output_type": "execute_result"
    }
   ],
   "source": [
    "data['publishedAt'] = pd.to_datetime(data.publishedAt)\n",
    "data.publishedAt"
   ]
  },
  {
   "cell_type": "code",
   "execution_count": 79,
   "id": "ad2ccb67",
   "metadata": {
    "ExecuteTime": {
     "end_time": "2024-02-06T07:52:40.240467Z",
     "start_time": "2024-02-06T07:52:40.233275Z"
    },
    "id": "ad2ccb67",
    "outputId": "1b03c6ef-5109-4912-ef41-0dd9fa5920c7"
   },
   "outputs": [
    {
     "data": {
      "text/plain": [
       "7    1955\n",
       "6    1066\n",
       "Name: publishedAt, dtype: int64"
      ]
     },
     "execution_count": 79,
     "metadata": {},
     "output_type": "execute_result"
    }
   ],
   "source": [
    "data['publishedAt'].dt.month.value_counts()"
   ]
  },
  {
   "cell_type": "markdown",
   "id": "795352d4",
   "metadata": {
    "id": "795352d4"
   },
   "source": [
    "Now, look at the `description` column. Here we will work with textual data. Many useful functions for string manipulation are accessible through `.str` attribute.\n",
    "\n",
    "\n",
    "Useful materials:\n",
    "* About working with text data in pandas: https://pandas.pydata.org/pandas-docs/stable/user_guide/text.html\n",
    "\n",
    "- https://pandas.pydata.org/pandas-docs/stable/reference/api/pandas.Series.str.lower.html#pandas.Series.str.lower\n",
    "- https://pandas.pydata.org/pandas-docs/stable/reference/api/pandas.Series.str.replace.html#pandas.Series.str.replace"
   ]
  },
  {
   "cell_type": "markdown",
   "id": "c659606c",
   "metadata": {
    "id": "c659606c"
   },
   "source": [
    "* Let's have a look at some `description`, for instance for a video with `viseo_id = 'Oxexirlmdig'`"
   ]
  },
  {
   "cell_type": "code",
   "execution_count": 80,
   "id": "71bd45bd",
   "metadata": {
    "ExecuteTime": {
     "end_time": "2024-02-06T07:52:40.249436Z",
     "start_time": "2024-02-06T07:52:40.243151Z"
    },
    "id": "71bd45bd",
    "outputId": "86d55c0b-eb29-4a7a-e48b-952fe264a119"
   },
   "outputs": [
    {
     "data": {
      "text/plain": [
       "'Music line & Lyrics : GHETTO GEASY & MAJKMusic Produced : BIGDEAL RECORDS Mix & Master: BIGDEAL RECORDSAvailable on:Spotify: https://open.spotify.com/album/3qmQlAeQM4j86NMEzCWyX4iTunes: https://music.apple.com/es/album/mari-single/1632054646Shazam: https://www.shazam.com/track/621534331/marihttps://acromaxmedia.lnk.to/Mari'"
      ]
     },
     "execution_count": 80,
     "metadata": {},
     "output_type": "execute_result"
    }
   ],
   "source": [
    "data.loc[data.video_id == 'Oxexirlmdig'].iloc[0].description"
   ]
  },
  {
   "cell_type": "markdown",
   "id": "9effa541",
   "metadata": {
    "id": "9effa541"
   },
   "source": [
    "Such description is pretty messy. We can preprocess its a little bit:\n",
    "* Convert strings to lowercase and trim unnecessary spaces on the right and left.\n",
    "* Replace URLs in descriptions with a special tag `<URL>`."
   ]
  },
  {
   "cell_type": "code",
   "execution_count": 81,
   "id": "05806f25",
   "metadata": {
    "ExecuteTime": {
     "end_time": "2024-02-06T07:52:40.322238Z",
     "start_time": "2024-02-06T07:52:40.251927Z"
    },
    "id": "05806f25"
   },
   "outputs": [],
   "source": [
    "data.description = data.description.str.lower().str.strip()"
   ]
  },
  {
   "cell_type": "code",
   "execution_count": 82,
   "id": "40116592",
   "metadata": {
    "ExecuteTime": {
     "end_time": "2024-02-06T07:52:40.356456Z",
     "start_time": "2024-02-06T07:52:40.327111Z"
    },
    "id": "40116592",
    "outputId": "290afff9-273a-4d4b-8776-2890390cc435"
   },
   "outputs": [
    {
     "data": {
      "text/plain": [
       "'music line & lyrics : ghetto geasy & majkmusic produced : bigdeal records mix & master: bigdeal recordsavailable on:spotify: <URL> <URL> <URL>'"
      ]
     },
     "execution_count": 82,
     "metadata": {},
     "output_type": "execute_result"
    }
   ],
   "source": [
    "data.description = data.description.str.replace(r'http\\S+', '<URL>', regex=True)\n",
    "data.loc[data.video_id == 'Oxexirlmdig'].iloc[0].description"
   ]
  },
  {
   "cell_type": "markdown",
   "id": "54c59cd9",
   "metadata": {
    "id": "54c59cd9"
   },
   "source": [
    "Then we can analyze some statistics. Which $5$ videos received the most views in Italy? As an answer, we will provide the names of the required channels, sorted in descending order of the number of views of the most popular videos\n",
    "\n",
    "- https://pandas.pydata.org/pandas-docs/stable/reference/api/pandas.DataFrame.sort_values.html"
   ]
  },
  {
   "cell_type": "code",
   "execution_count": 83,
   "id": "0de124f5",
   "metadata": {
    "ExecuteTime": {
     "end_time": "2024-02-06T07:52:40.405304Z",
     "start_time": "2024-02-06T07:52:40.387612Z"
    },
    "id": "0de124f5",
    "outputId": "3854bb2a-a1cf-4616-928f-d69a2624eeff"
   },
   "outputs": [
    {
     "data": {
      "text/html": [
       "<div>\n",
       "<style scoped>\n",
       "    .dataframe tbody tr th:only-of-type {\n",
       "        vertical-align: middle;\n",
       "    }\n",
       "\n",
       "    .dataframe tbody tr th {\n",
       "        vertical-align: top;\n",
       "    }\n",
       "\n",
       "    .dataframe thead th {\n",
       "        text-align: right;\n",
       "    }\n",
       "</style>\n",
       "<table border=\"1\" class=\"dataframe\">\n",
       "  <thead>\n",
       "    <tr style=\"text-align: right;\">\n",
       "      <th></th>\n",
       "      <th>country</th>\n",
       "      <th>video_id</th>\n",
       "      <th>title</th>\n",
       "      <th>publishedAt</th>\n",
       "      <th>channelId</th>\n",
       "      <th>channelTitle</th>\n",
       "      <th>categoryId</th>\n",
       "      <th>trending_date</th>\n",
       "      <th>tags</th>\n",
       "      <th>view_count</th>\n",
       "      <th>comment_count</th>\n",
       "      <th>thumbnail_link</th>\n",
       "      <th>comments_disabled</th>\n",
       "      <th>ratings_disabled</th>\n",
       "      <th>description</th>\n",
       "    </tr>\n",
       "  </thead>\n",
       "  <tbody>\n",
       "    <tr>\n",
       "      <th>1630</th>\n",
       "      <td>IT</td>\n",
       "      <td>e6suFNbou5Y</td>\n",
       "      <td>Oddly satisfying ð¤ªð¤ªð¤ª Kids donât try...</td>\n",
       "      <td>2022-07-04 01:49:54+00:00</td>\n",
       "      <td>UClFN9LShD_Pv0wnSeUKbUZw</td>\n",
       "      <td>That Little Puff</td>\n",
       "      <td>15</td>\n",
       "      <td>22.11.07</td>\n",
       "      <td>[none]</td>\n",
       "      <td>82864422</td>\n",
       "      <td>3637</td>\n",
       "      <td>https://i.ytimg.com/vi/e6suFNbou5Y/default.jpg</td>\n",
       "      <td>False</td>\n",
       "      <td>True</td>\n",
       "      <td></td>\n",
       "    </tr>\n",
       "    <tr>\n",
       "      <th>1599</th>\n",
       "      <td>IT</td>\n",
       "      <td>dYRITmpFbJ4</td>\n",
       "      <td>aespa ìì¤í 'Girls' MV</td>\n",
       "      <td>2022-07-08 04:00:14+00:00</td>\n",
       "      <td>UCEf_Bc-KVd7onSeifS3py9g</td>\n",
       "      <td>SMTOWN</td>\n",
       "      <td>10</td>\n",
       "      <td>22.11.07</td>\n",
       "      <td>[none]</td>\n",
       "      <td>47227373</td>\n",
       "      <td>180232</td>\n",
       "      <td>https://i.ytimg.com/vi/dYRITmpFbJ4/default.jpg</td>\n",
       "      <td>False</td>\n",
       "      <td>True</td>\n",
       "      <td>aespa's 2nd mini album girls is out!listen and...</td>\n",
       "    </tr>\n",
       "    <tr>\n",
       "      <th>1570</th>\n",
       "      <td>IT</td>\n",
       "      <td>xEIldng2HR8</td>\n",
       "      <td>Ok.. ð</td>\n",
       "      <td>2022-07-03 15:29:41+00:00</td>\n",
       "      <td>UClk5AUhvoAzN41inRfdLPYw</td>\n",
       "      <td>Celine &amp; Michiel</td>\n",
       "      <td>24</td>\n",
       "      <td>22.11.07</td>\n",
       "      <td>[none]</td>\n",
       "      <td>37011562</td>\n",
       "      <td>4043</td>\n",
       "      <td>https://i.ytimg.com/vi/xEIldng2HR8/default.jpg</td>\n",
       "      <td>False</td>\n",
       "      <td>True</td>\n",
       "      <td>abonneer voor meer!shoutout the window master:...</td>\n",
       "    </tr>\n",
       "    <tr>\n",
       "      <th>1631</th>\n",
       "      <td>IT</td>\n",
       "      <td>gjZdcyo98EY</td>\n",
       "      <td>This is unreal ð³ (via @colognebombs)</td>\n",
       "      <td>2022-07-03 15:00:32+00:00</td>\n",
       "      <td>UCQZi2YXSxc6BSK4mZHql8ag</td>\n",
       "      <td>SportsNation</td>\n",
       "      <td>17</td>\n",
       "      <td>22.11.07</td>\n",
       "      <td>sportsnation|#shorts|sportsnation espn|espn|di...</td>\n",
       "      <td>31997011</td>\n",
       "      <td>3340</td>\n",
       "      <td>https://i.ytimg.com/vi/gjZdcyo98EY/default.jpg</td>\n",
       "      <td>False</td>\n",
       "      <td>True</td>\n",
       "      <td>this is unreal ð³ (via @colognebombs)</td>\n",
       "    </tr>\n",
       "    <tr>\n",
       "      <th>1656</th>\n",
       "      <td>IT</td>\n",
       "      <td>6WK7rNcz6DA</td>\n",
       "      <td>Perfect!!! #beatbox #tiktok</td>\n",
       "      <td>2022-07-04 09:18:13+00:00</td>\n",
       "      <td>UCdX5KXiCTPYWYZscfphgQ4g</td>\n",
       "      <td>BeatboxJCOP</td>\n",
       "      <td>1</td>\n",
       "      <td>22.11.07</td>\n",
       "      <td>[none]</td>\n",
       "      <td>28036908</td>\n",
       "      <td>3709</td>\n",
       "      <td>https://i.ytimg.com/vi/6WK7rNcz6DA/default.jpg</td>\n",
       "      <td>False</td>\n",
       "      <td>True</td>\n",
       "      <td></td>\n",
       "    </tr>\n",
       "  </tbody>\n",
       "</table>\n",
       "</div>"
      ],
      "text/plain": [
       "     country     video_id                                              title  \\\n",
       "1630      IT  e6suFNbou5Y  Oddly satisfying ð¤ªð¤ªð¤ª Kids donât try...   \n",
       "1599      IT  dYRITmpFbJ4                         aespa ìì¤í 'Girls' MV   \n",
       "1570      IT  xEIldng2HR8                                          Ok.. ð   \n",
       "1631      IT  gjZdcyo98EY            This is unreal ð³ (via @colognebombs)   \n",
       "1656      IT  6WK7rNcz6DA                        Perfect!!! #beatbox #tiktok   \n",
       "\n",
       "                   publishedAt                 channelId      channelTitle  \\\n",
       "1630 2022-07-04 01:49:54+00:00  UClFN9LShD_Pv0wnSeUKbUZw  That Little Puff   \n",
       "1599 2022-07-08 04:00:14+00:00  UCEf_Bc-KVd7onSeifS3py9g            SMTOWN   \n",
       "1570 2022-07-03 15:29:41+00:00  UClk5AUhvoAzN41inRfdLPYw  Celine & Michiel   \n",
       "1631 2022-07-03 15:00:32+00:00  UCQZi2YXSxc6BSK4mZHql8ag      SportsNation   \n",
       "1656 2022-07-04 09:18:13+00:00  UCdX5KXiCTPYWYZscfphgQ4g       BeatboxJCOP   \n",
       "\n",
       "      categoryId trending_date  \\\n",
       "1630          15      22.11.07   \n",
       "1599          10      22.11.07   \n",
       "1570          24      22.11.07   \n",
       "1631          17      22.11.07   \n",
       "1656           1      22.11.07   \n",
       "\n",
       "                                                   tags  view_count  \\\n",
       "1630                                             [none]    82864422   \n",
       "1599                                             [none]    47227373   \n",
       "1570                                             [none]    37011562   \n",
       "1631  sportsnation|#shorts|sportsnation espn|espn|di...    31997011   \n",
       "1656                                             [none]    28036908   \n",
       "\n",
       "      comment_count                                  thumbnail_link  \\\n",
       "1630           3637  https://i.ytimg.com/vi/e6suFNbou5Y/default.jpg   \n",
       "1599         180232  https://i.ytimg.com/vi/dYRITmpFbJ4/default.jpg   \n",
       "1570           4043  https://i.ytimg.com/vi/xEIldng2HR8/default.jpg   \n",
       "1631           3340  https://i.ytimg.com/vi/gjZdcyo98EY/default.jpg   \n",
       "1656           3709  https://i.ytimg.com/vi/6WK7rNcz6DA/default.jpg   \n",
       "\n",
       "      comments_disabled  ratings_disabled  \\\n",
       "1630              False              True   \n",
       "1599              False              True   \n",
       "1570              False              True   \n",
       "1631              False              True   \n",
       "1656              False              True   \n",
       "\n",
       "                                            description  \n",
       "1630                                                     \n",
       "1599  aespa's 2nd mini album girls is out!listen and...  \n",
       "1570  abonneer voor meer!shoutout the window master:...  \n",
       "1631            this is unreal ð³ (via @colognebombs)  \n",
       "1656                                                     "
      ]
     },
     "execution_count": 83,
     "metadata": {},
     "output_type": "execute_result"
    }
   ],
   "source": [
    "data[data.country == 'IT'].sort_values(by='view_count', ascending=False).head(5)"
   ]
  },
  {
   "cell_type": "markdown",
   "id": "f653f932",
   "metadata": {
    "id": "f653f932"
   },
   "source": [
    "Which video was published in the most countries?\n",
    "\n",
    "- https://pandas.pydata.org/pandas-docs/stable/reference/api/pandas.DataFrame.groupby.html\n",
    "- https://pandas.pydata.org/pandas-docs/stable/reference/api/pandas.DataFrame.sort_values.html"
   ]
  },
  {
   "cell_type": "code",
   "execution_count": 84,
   "id": "a63f2784",
   "metadata": {
    "ExecuteTime": {
     "end_time": "2024-02-06T07:52:40.557906Z",
     "start_time": "2024-02-06T07:52:40.547918Z"
    },
    "id": "a63f2784",
    "outputId": "ee29224d-39e9-4efc-970c-991507dd55d8"
   },
   "outputs": [
    {
     "data": {
      "text/plain": [
       "video_id\n",
       "bM6ren2tPU8    17\n",
       "#NAME?         15\n",
       "nopEs-K4ExM    14\n",
       "dIQGI36BxDE    14\n",
       "pKdBFeewZYE    14\n",
       "               ..\n",
       "aMk2jS96PgM     1\n",
       "aVRZzShAomE     1\n",
       "aXYQcYRsZiQ     1\n",
       "aakXw1N5AmA     1\n",
       "VaeoPehBqTA     1\n",
       "Name: country, Length: 1540, dtype: int64"
      ]
     },
     "execution_count": 84,
     "metadata": {},
     "output_type": "execute_result"
    }
   ],
   "source": [
    "data.groupby('video_id').country.nunique().sort_values()[::-1]"
   ]
  },
  {
   "cell_type": "code",
   "execution_count": 85,
   "id": "394f014b",
   "metadata": {
    "ExecuteTime": {
     "end_time": "2024-02-06T07:52:40.637950Z",
     "start_time": "2024-02-06T07:52:40.630479Z"
    },
    "id": "394f014b",
    "outputId": "e2b3ce9b-4e34-4ed4-9519-db1831168388"
   },
   "outputs": [
    {
     "data": {
      "text/plain": [
       "'Race Highlights | 2022 British Grand Prix'"
      ]
     },
     "execution_count": 85,
     "metadata": {},
     "output_type": "execute_result"
    }
   ],
   "source": [
    "data[data.video_id == 'bM6ren2tPU8'].iloc[0].title"
   ]
  },
  {
   "cell_type": "markdown",
   "id": "c01338a6",
   "metadata": {
    "id": "c01338a6"
   },
   "source": [
    "What is the maximum number of views (`view_count` column) for videos released in France or Italy (`'FR'` or `'IT'` in the `country` column) in July (`publishedAt` column)?\n",
    "\n",
    "- https://pandas.pydata.org/pandas-docs/stable/reference/api/pandas.DataFrame.isin.html"
   ]
  },
  {
   "cell_type": "code",
   "execution_count": 86,
   "id": "3a4cf973",
   "metadata": {
    "ExecuteTime": {
     "end_time": "2024-02-06T07:52:40.803555Z",
     "start_time": "2024-02-06T07:52:40.795425Z"
    },
    "id": "3a4cf973",
    "outputId": "0b33d3f0-a286-4bf6-a373-ad278aa1d051"
   },
   "outputs": [
    {
     "data": {
      "text/plain": [
       "82864422"
      ]
     },
     "execution_count": 86,
     "metadata": {},
     "output_type": "execute_result"
    }
   ],
   "source": [
    "data[(data.country.isin(['IT', 'FR']) & (data.publishedAt.dt.month == 7))].view_count.max()"
   ]
  },
  {
   "cell_type": "markdown",
   "id": "c545bc21",
   "metadata": {
    "id": "c545bc21"
   },
   "source": [
    "Look at the channel names from category $17$. What category do you think this is?"
   ]
  },
  {
   "cell_type": "code",
   "execution_count": 87,
   "id": "75cee13f",
   "metadata": {
    "ExecuteTime": {
     "end_time": "2024-02-06T07:52:40.968683Z",
     "start_time": "2024-02-06T07:52:40.961808Z"
    },
    "id": "75cee13f",
    "outputId": "2e294ea1-8dd2-47be-efb3-6a51126a413f"
   },
   "outputs": [
    {
     "data": {
      "text/plain": [
       "array(['Omar Raja - ESPN', 'FORMULA 1', 'Dude Perfect', 'TyC Sports',\n",
       "       'SportsNation', 'DJOTAFREESTYLE', 'Sport Klub', 'Wimbledon',\n",
       "       'B/R Football', 'Madney', 'KarpouziFetaGaming', 'Windies Cricket',\n",
       "       'FenerbahÃ§e SK', 'King Bet', 'FreeDawkins',\n",
       "       'Ù\\x85Ø\\xadÙ\\x85Ø¯ Ø¹Ø¯Ù\\x86Ø§Ù\\x86 Mohamad Adnan', 'BROZ',\n",
       "       'CAF TV', 'Kora Plus', 'FIBA - The Basketball Channel',\n",
       "       'Mejora Tu Padel', 'Real Betis BalompiÃ©', 'Eurosport France',\n",
       "       'FC Barcelona', 'CONMEBOL Libertadores', 'ESPN Deportes',\n",
       "       'DoctorePoLLo', 'France Rugby', 'THE GOAT MMA BOXING',\n",
       "       'Juju Fitcats', 'Pierre SORIOT', 'All Blacks', 'Irish Rugby TV',\n",
       "       'VINSKY', 'Wide World of Sports', 'Arsenal',\n",
       "       'FIA World Endurance Championship', 'KaratÃ© Bushido Officiel',\n",
       "       'Eric Flag', 'Justine GALLICE Fitness', 'beIN SPORTS France',\n",
       "       'Riding Zone', 'Tour de France', 'Foot Mercato',\n",
       "       'Stade Rennais F.C. - Officiel', 'Marius Chasse', 'VAL FOOT',\n",
       "       'Wiloo', 'PSG - Paris Saint-Germain', 'Betarades.gr', 'Inter',\n",
       "       'Juventus', 'AS Roma', 'CalcioNapoli24', 'Gli Autogol', 'EsteNews',\n",
       "       'BeNv3', 'Thiago Productions', 'Sky Sport', 'WWE', 'MFM Sport',\n",
       "       'Elbotola', 'England & Wales Cricket Board', 'The United Stand',\n",
       "       'Manchester United', 'UFC - Ultimate Fighting Championship',\n",
       "       'AC Milan', 'Eurosport', 'ITV Sport', 'GCN Racing',\n",
       "       'JxmyHighroller', 'Elheddaf TV Compte', 'beIN SPORTS TÃ¼rkiye',\n",
       "       'Karakullukcu', 'SansÃ¼rsÃ¼z Futbol', 'BeÅ\\x9fiktaÅ\\x9f JK',\n",
       "       'S Sport'], dtype=object)"
      ]
     },
     "execution_count": 87,
     "metadata": {},
     "output_type": "execute_result"
    }
   ],
   "source": [
    "data[data.categoryId == 17].channelTitle.unique()"
   ]
  },
  {
   "cell_type": "markdown",
   "id": "ac5779c9",
   "metadata": {
    "id": "ac5779c9"
   },
   "source": [
    "Let's assume that a mistake was made, and all videos from category $17$ belong to category $16$. Correct the necessary values in the `categoryId` column, and then display all unique categories.\n",
    "\n",
    "Note that when you select fields using the `[]` indexing operator, a copy of the selected values is returned. If you try to assign new values for some table fields in this way, a warning will be issued. A more reliable way is to use the `.loc` and `.iloc` operators. You can read more about indexing and row selection [here](https://pandas.pydata.org/pandas-docs/stable/user_guide/indexing.html)."
   ]
  },
  {
   "cell_type": "code",
   "execution_count": 88,
   "id": "8702f030",
   "metadata": {
    "ExecuteTime": {
     "end_time": "2024-02-06T07:52:41.132574Z",
     "start_time": "2024-02-06T07:52:41.129004Z"
    },
    "id": "8702f030"
   },
   "outputs": [],
   "source": [
    "data.loc[data.categoryId == 17, 'categoryId'] = 16"
   ]
  },
  {
   "cell_type": "code",
   "execution_count": 89,
   "id": "647c5358",
   "metadata": {
    "ExecuteTime": {
     "end_time": "2024-02-06T07:52:41.217959Z",
     "start_time": "2024-02-06T07:52:41.212965Z"
    },
    "id": "647c5358",
    "outputId": "f8b5a307-b133-4ef3-ade7-37c850cc2051"
   },
   "outputs": [
    {
     "data": {
      "text/plain": [
       "array([24, 10,  1, 15, 22, 23, 27, 16, 20, 26, 25,  2, 19, 28])"
      ]
     },
     "execution_count": 89,
     "metadata": {},
     "output_type": "execute_result"
    }
   ],
   "source": [
    "data.categoryId.unique()"
   ]
  },
  {
   "cell_type": "markdown",
   "id": "c955af69",
   "metadata": {
    "id": "c955af69"
   },
   "source": [
    "Now for `tags` column:\n",
    "\n",
    "Replace lines with the value `'[none]'` with the empty string:"
   ]
  },
  {
   "cell_type": "code",
   "execution_count": 90,
   "id": "5d087490",
   "metadata": {
    "ExecuteTime": {
     "end_time": "2024-02-06T07:52:41.388717Z",
     "start_time": "2024-02-06T07:52:41.381017Z"
    },
    "id": "5d087490"
   },
   "outputs": [],
   "source": [
    "data['tags'] = data['tags'].str.replace('none', '')"
   ]
  },
  {
   "cell_type": "markdown",
   "id": "7a564e57",
   "metadata": {
    "id": "7a564e57"
   },
   "source": [
    "Pre-process the tags - remove extra spaces, convert to lower case:"
   ]
  },
  {
   "cell_type": "code",
   "execution_count": 91,
   "id": "dc778506",
   "metadata": {
    "ExecuteTime": {
     "end_time": "2024-02-06T07:52:41.561314Z",
     "start_time": "2024-02-06T07:52:41.547025Z"
    },
    "id": "dc778506"
   },
   "outputs": [],
   "source": [
    "data['tags'] = data['tags'].str.strip()\n",
    "data['tags'] = data['tags'].str.lower()"
   ]
  },
  {
   "cell_type": "markdown",
   "id": "30bfa5cf",
   "metadata": {
    "id": "30bfa5cf"
   },
   "source": [
    "What is the most popular tag? Please note that each video can have more than $1$ tag\n",
    "\n",
    "- https://pandas.pydata.org/pandas-docs/stable/reference/api/pandas.DataFrame.explode.html"
   ]
  },
  {
   "cell_type": "code",
   "execution_count": 92,
   "id": "ed60dffd",
   "metadata": {
    "ExecuteTime": {
     "end_time": "2024-02-06T07:52:41.798367Z",
     "start_time": "2024-02-06T07:52:41.715164Z"
    },
    "id": "ed60dffd",
    "outputId": "4acaa772-c010-4679-d8f9-cf0e78f6fbd1"
   },
   "outputs": [
    {
     "data": {
      "text/plain": [
       "[]                                   586\n",
       "challenge                            133\n",
       "øªø­ø¯ù                             127\n",
       "øªø­ø¯ùø§øª                         124\n",
       "minecraft                             74\n",
       "                                    ... \n",
       "league                                 1\n",
       "star guardian                          1\n",
       "star guardian 2022                     1\n",
       "star guardian cinematic                1\n",
       "tozluyaka 2. bã¶lã¼m 2. fragmanä±      1\n",
       "Name: tags, Length: 18310, dtype: int64"
      ]
     },
     "execution_count": 92,
     "metadata": {},
     "output_type": "execute_result"
    }
   ],
   "source": [
    "data['tags'] = data['tags'].str.split(\"|\")\n",
    "data.explode('tags')['tags'].value_counts()"
   ]
  },
  {
   "cell_type": "markdown",
   "id": "90f2756f",
   "metadata": {
    "id": "90f2756f"
   },
   "source": [
    "#### `Visual analysis`"
   ]
  },
  {
   "cell_type": "markdown",
   "id": "163528e9",
   "metadata": {
    "id": "163528e9"
   },
   "source": [
    "Sometimes visual analysis can be more clear that textual analysis. Pandas provide some methods to simplify plots creation and visualization."
   ]
  },
  {
   "cell_type": "markdown",
   "id": "966e205a",
   "metadata": {
    "ExecuteTime": {
     "end_time": "2024-02-06T07:43:50.288052Z",
     "start_time": "2024-02-06T07:43:50.277641Z"
    },
    "id": "966e205a"
   },
   "source": [
    "We can create simple line plots using `.plot` method:\n",
    "\n",
    "Build a line plot of the number of videos released versus the date of publication:"
   ]
  },
  {
   "cell_type": "code",
   "execution_count": 93,
   "id": "3100be8f",
   "metadata": {
    "ExecuteTime": {
     "end_time": "2024-02-06T07:52:42.347404Z",
     "start_time": "2024-02-06T07:52:42.051904Z"
    },
    "id": "3100be8f",
    "outputId": "4dbf1f79-0065-42f1-81c7-4adbcdf00f82"
   },
   "outputs": [
    {
     "data": {
      "image/svg+xml": [
       "<?xml version=\"1.0\" encoding=\"utf-8\" standalone=\"no\"?>\n",
       "<!DOCTYPE svg PUBLIC \"-//W3C//DTD SVG 1.1//EN\"\n",
       "  \"http://www.w3.org/Graphics/SVG/1.1/DTD/svg11.dtd\">\n",
       "<svg xmlns:xlink=\"http://www.w3.org/1999/xlink\" width=\"612.165625pt\" height=\"375.33367pt\" viewBox=\"0 0 612.165625 375.33367\" xmlns=\"http://www.w3.org/2000/svg\" version=\"1.1\">\n",
       " <metadata>\n",
       "  <rdf:RDF xmlns:dc=\"http://purl.org/dc/elements/1.1/\" xmlns:cc=\"http://creativecommons.org/ns#\" xmlns:rdf=\"http://www.w3.org/1999/02/22-rdf-syntax-ns#\">\n",
       "   <cc:Work>\n",
       "    <dc:type rdf:resource=\"http://purl.org/dc/dcmitype/StillImage\"/>\n",
       "    <dc:date>2025-02-25T17:53:03.469849</dc:date>\n",
       "    <dc:format>image/svg+xml</dc:format>\n",
       "    <dc:creator>\n",
       "     <cc:Agent>\n",
       "      <dc:title>Matplotlib v3.7.1, https://matplotlib.org/</dc:title>\n",
       "     </cc:Agent>\n",
       "    </dc:creator>\n",
       "   </cc:Work>\n",
       "  </rdf:RDF>\n",
       " </metadata>\n",
       " <defs>\n",
       "  <style type=\"text/css\">*{stroke-linejoin: round; stroke-linecap: butt}</style>\n",
       " </defs>\n",
       " <g id=\"figure_1\">\n",
       "  <g id=\"patch_1\">\n",
       "   <path d=\"M 0 375.33367 \n",
       "L 612.165625 375.33367 \n",
       "L 612.165625 -0 \n",
       "L 0 -0 \n",
       "z\n",
       "\" style=\"fill: #ffffff\"/>\n",
       "  </g>\n",
       "  <g id=\"axes_1\">\n",
       "   <g id=\"patch_2\">\n",
       "    <path d=\"M 46.965625 299.518125 \n",
       "L 604.965625 299.518125 \n",
       "L 604.965625 22.318125 \n",
       "L 46.965625 22.318125 \n",
       "z\n",
       "\" style=\"fill: #ffffff\"/>\n",
       "   </g>\n",
       "   <g id=\"matplotlib.axis_1\">\n",
       "    <g id=\"xtick_1\">\n",
       "     <g id=\"line2d_1\">\n",
       "      <path d=\"M 86.42017 299.518125 \n",
       "L 86.42017 22.318125 \n",
       "\" clip-path=\"url(#pcc67f2e1dc)\" style=\"fill: none; stroke: #b0b0b0; stroke-width: 0.8; stroke-linecap: square\"/>\n",
       "     </g>\n",
       "     <g id=\"line2d_2\">\n",
       "      <defs>\n",
       "       <path id=\"mae3a7d519d\" d=\"M 0 0 \n",
       "L 0 3.5 \n",
       "\" style=\"stroke: #000000; stroke-width: 0.8\"/>\n",
       "      </defs>\n",
       "      <g>\n",
       "       <use xlink:href=\"#mae3a7d519d\" x=\"86.42017\" y=\"299.518125\" style=\"stroke: #000000; stroke-width: 0.8\"/>\n",
       "      </g>\n",
       "     </g>\n",
       "     <g id=\"text_1\">\n",
       "      <!-- 2022-06-05 -->\n",
       "      <g transform=\"translate(67.824367 352.984984) rotate(-45) scale(0.1 -0.1)\">\n",
       "       <defs>\n",
       "        <path id=\"DejaVuSans-32\" d=\"M 1228 531 \n",
       "L 3431 531 \n",
       "L 3431 0 \n",
       "L 469 0 \n",
       "L 469 531 \n",
       "Q 828 903 1448 1529 \n",
       "Q 2069 2156 2228 2338 \n",
       "Q 2531 2678 2651 2914 \n",
       "Q 2772 3150 2772 3378 \n",
       "Q 2772 3750 2511 3984 \n",
       "Q 2250 4219 1831 4219 \n",
       "Q 1534 4219 1204 4116 \n",
       "Q 875 4013 500 3803 \n",
       "L 500 4441 \n",
       "Q 881 4594 1212 4672 \n",
       "Q 1544 4750 1819 4750 \n",
       "Q 2544 4750 2975 4387 \n",
       "Q 3406 4025 3406 3419 \n",
       "Q 3406 3131 3298 2873 \n",
       "Q 3191 2616 2906 2266 \n",
       "Q 2828 2175 2409 1742 \n",
       "Q 1991 1309 1228 531 \n",
       "z\n",
       "\" transform=\"scale(0.015625)\"/>\n",
       "        <path id=\"DejaVuSans-30\" d=\"M 2034 4250 \n",
       "Q 1547 4250 1301 3770 \n",
       "Q 1056 3291 1056 2328 \n",
       "Q 1056 1369 1301 889 \n",
       "Q 1547 409 2034 409 \n",
       "Q 2525 409 2770 889 \n",
       "Q 3016 1369 3016 2328 \n",
       "Q 3016 3291 2770 3770 \n",
       "Q 2525 4250 2034 4250 \n",
       "z\n",
       "M 2034 4750 \n",
       "Q 2819 4750 3233 4129 \n",
       "Q 3647 3509 3647 2328 \n",
       "Q 3647 1150 3233 529 \n",
       "Q 2819 -91 2034 -91 \n",
       "Q 1250 -91 836 529 \n",
       "Q 422 1150 422 2328 \n",
       "Q 422 3509 836 4129 \n",
       "Q 1250 4750 2034 4750 \n",
       "z\n",
       "\" transform=\"scale(0.015625)\"/>\n",
       "        <path id=\"DejaVuSans-2d\" d=\"M 313 2009 \n",
       "L 1997 2009 \n",
       "L 1997 1497 \n",
       "L 313 1497 \n",
       "L 313 2009 \n",
       "z\n",
       "\" transform=\"scale(0.015625)\"/>\n",
       "        <path id=\"DejaVuSans-36\" d=\"M 2113 2584 \n",
       "Q 1688 2584 1439 2293 \n",
       "Q 1191 2003 1191 1497 \n",
       "Q 1191 994 1439 701 \n",
       "Q 1688 409 2113 409 \n",
       "Q 2538 409 2786 701 \n",
       "Q 3034 994 3034 1497 \n",
       "Q 3034 2003 2786 2293 \n",
       "Q 2538 2584 2113 2584 \n",
       "z\n",
       "M 3366 4563 \n",
       "L 3366 3988 \n",
       "Q 3128 4100 2886 4159 \n",
       "Q 2644 4219 2406 4219 \n",
       "Q 1781 4219 1451 3797 \n",
       "Q 1122 3375 1075 2522 \n",
       "Q 1259 2794 1537 2939 \n",
       "Q 1816 3084 2150 3084 \n",
       "Q 2853 3084 3261 2657 \n",
       "Q 3669 2231 3669 1497 \n",
       "Q 3669 778 3244 343 \n",
       "Q 2819 -91 2113 -91 \n",
       "Q 1303 -91 875 529 \n",
       "Q 447 1150 447 2328 \n",
       "Q 447 3434 972 4092 \n",
       "Q 1497 4750 2381 4750 \n",
       "Q 2619 4750 2861 4703 \n",
       "Q 3103 4656 3366 4563 \n",
       "z\n",
       "\" transform=\"scale(0.015625)\"/>\n",
       "        <path id=\"DejaVuSans-35\" d=\"M 691 4666 \n",
       "L 3169 4666 \n",
       "L 3169 4134 \n",
       "L 1269 4134 \n",
       "L 1269 2991 \n",
       "Q 1406 3038 1543 3061 \n",
       "Q 1681 3084 1819 3084 \n",
       "Q 2600 3084 3056 2656 \n",
       "Q 3513 2228 3513 1497 \n",
       "Q 3513 744 3044 326 \n",
       "Q 2575 -91 1722 -91 \n",
       "Q 1428 -91 1123 -41 \n",
       "Q 819 9 494 109 \n",
       "L 494 744 \n",
       "Q 775 591 1075 516 \n",
       "Q 1375 441 1709 441 \n",
       "Q 2250 441 2565 725 \n",
       "Q 2881 1009 2881 1497 \n",
       "Q 2881 1984 2565 2268 \n",
       "Q 2250 2553 1709 2553 \n",
       "Q 1456 2553 1204 2497 \n",
       "Q 953 2441 691 2322 \n",
       "L 691 4666 \n",
       "z\n",
       "\" transform=\"scale(0.015625)\"/>\n",
       "       </defs>\n",
       "       <use xlink:href=\"#DejaVuSans-32\"/>\n",
       "       <use xlink:href=\"#DejaVuSans-30\" x=\"63.623047\"/>\n",
       "       <use xlink:href=\"#DejaVuSans-32\" x=\"127.246094\"/>\n",
       "       <use xlink:href=\"#DejaVuSans-32\" x=\"190.869141\"/>\n",
       "       <use xlink:href=\"#DejaVuSans-2d\" x=\"254.492188\"/>\n",
       "       <use xlink:href=\"#DejaVuSans-30\" x=\"290.576172\"/>\n",
       "       <use xlink:href=\"#DejaVuSans-36\" x=\"354.199219\"/>\n",
       "       <use xlink:href=\"#DejaVuSans-2d\" x=\"417.822266\"/>\n",
       "       <use xlink:href=\"#DejaVuSans-30\" x=\"453.90625\"/>\n",
       "       <use xlink:href=\"#DejaVuSans-35\" x=\"517.529297\"/>\n",
       "      </g>\n",
       "     </g>\n",
       "    </g>\n",
       "    <g id=\"xtick_2\">\n",
       "     <g id=\"line2d_3\">\n",
       "      <path d=\"M 142.783807 299.518125 \n",
       "L 142.783807 22.318125 \n",
       "\" clip-path=\"url(#pcc67f2e1dc)\" style=\"fill: none; stroke: #b0b0b0; stroke-width: 0.8; stroke-linecap: square\"/>\n",
       "     </g>\n",
       "     <g id=\"line2d_4\">\n",
       "      <g>\n",
       "       <use xlink:href=\"#mae3a7d519d\" x=\"142.783807\" y=\"299.518125\" style=\"stroke: #000000; stroke-width: 0.8\"/>\n",
       "      </g>\n",
       "     </g>\n",
       "     <g id=\"text_2\">\n",
       "      <!-- 2022-06-09 -->\n",
       "      <g transform=\"translate(124.188003 352.984984) rotate(-45) scale(0.1 -0.1)\">\n",
       "       <defs>\n",
       "        <path id=\"DejaVuSans-39\" d=\"M 703 97 \n",
       "L 703 672 \n",
       "Q 941 559 1184 500 \n",
       "Q 1428 441 1663 441 \n",
       "Q 2288 441 2617 861 \n",
       "Q 2947 1281 2994 2138 \n",
       "Q 2813 1869 2534 1725 \n",
       "Q 2256 1581 1919 1581 \n",
       "Q 1219 1581 811 2004 \n",
       "Q 403 2428 403 3163 \n",
       "Q 403 3881 828 4315 \n",
       "Q 1253 4750 1959 4750 \n",
       "Q 2769 4750 3195 4129 \n",
       "Q 3622 3509 3622 2328 \n",
       "Q 3622 1225 3098 567 \n",
       "Q 2575 -91 1691 -91 \n",
       "Q 1453 -91 1209 -44 \n",
       "Q 966 3 703 97 \n",
       "z\n",
       "M 1959 2075 \n",
       "Q 2384 2075 2632 2365 \n",
       "Q 2881 2656 2881 3163 \n",
       "Q 2881 3666 2632 3958 \n",
       "Q 2384 4250 1959 4250 \n",
       "Q 1534 4250 1286 3958 \n",
       "Q 1038 3666 1038 3163 \n",
       "Q 1038 2656 1286 2365 \n",
       "Q 1534 2075 1959 2075 \n",
       "z\n",
       "\" transform=\"scale(0.015625)\"/>\n",
       "       </defs>\n",
       "       <use xlink:href=\"#DejaVuSans-32\"/>\n",
       "       <use xlink:href=\"#DejaVuSans-30\" x=\"63.623047\"/>\n",
       "       <use xlink:href=\"#DejaVuSans-32\" x=\"127.246094\"/>\n",
       "       <use xlink:href=\"#DejaVuSans-32\" x=\"190.869141\"/>\n",
       "       <use xlink:href=\"#DejaVuSans-2d\" x=\"254.492188\"/>\n",
       "       <use xlink:href=\"#DejaVuSans-30\" x=\"290.576172\"/>\n",
       "       <use xlink:href=\"#DejaVuSans-36\" x=\"354.199219\"/>\n",
       "       <use xlink:href=\"#DejaVuSans-2d\" x=\"417.822266\"/>\n",
       "       <use xlink:href=\"#DejaVuSans-30\" x=\"453.90625\"/>\n",
       "       <use xlink:href=\"#DejaVuSans-39\" x=\"517.529297\"/>\n",
       "      </g>\n",
       "     </g>\n",
       "    </g>\n",
       "    <g id=\"xtick_3\">\n",
       "     <g id=\"line2d_5\">\n",
       "      <path d=\"M 199.147443 299.518125 \n",
       "L 199.147443 22.318125 \n",
       "\" clip-path=\"url(#pcc67f2e1dc)\" style=\"fill: none; stroke: #b0b0b0; stroke-width: 0.8; stroke-linecap: square\"/>\n",
       "     </g>\n",
       "     <g id=\"line2d_6\">\n",
       "      <g>\n",
       "       <use xlink:href=\"#mae3a7d519d\" x=\"199.147443\" y=\"299.518125\" style=\"stroke: #000000; stroke-width: 0.8\"/>\n",
       "      </g>\n",
       "     </g>\n",
       "     <g id=\"text_3\">\n",
       "      <!-- 2022-06-13 -->\n",
       "      <g transform=\"translate(180.55164 352.984984) rotate(-45) scale(0.1 -0.1)\">\n",
       "       <defs>\n",
       "        <path id=\"DejaVuSans-31\" d=\"M 794 531 \n",
       "L 1825 531 \n",
       "L 1825 4091 \n",
       "L 703 3866 \n",
       "L 703 4441 \n",
       "L 1819 4666 \n",
       "L 2450 4666 \n",
       "L 2450 531 \n",
       "L 3481 531 \n",
       "L 3481 0 \n",
       "L 794 0 \n",
       "L 794 531 \n",
       "z\n",
       "\" transform=\"scale(0.015625)\"/>\n",
       "        <path id=\"DejaVuSans-33\" d=\"M 2597 2516 \n",
       "Q 3050 2419 3304 2112 \n",
       "Q 3559 1806 3559 1356 \n",
       "Q 3559 666 3084 287 \n",
       "Q 2609 -91 1734 -91 \n",
       "Q 1441 -91 1130 -33 \n",
       "Q 819 25 488 141 \n",
       "L 488 750 \n",
       "Q 750 597 1062 519 \n",
       "Q 1375 441 1716 441 \n",
       "Q 2309 441 2620 675 \n",
       "Q 2931 909 2931 1356 \n",
       "Q 2931 1769 2642 2001 \n",
       "Q 2353 2234 1838 2234 \n",
       "L 1294 2234 \n",
       "L 1294 2753 \n",
       "L 1863 2753 \n",
       "Q 2328 2753 2575 2939 \n",
       "Q 2822 3125 2822 3475 \n",
       "Q 2822 3834 2567 4026 \n",
       "Q 2313 4219 1838 4219 \n",
       "Q 1578 4219 1281 4162 \n",
       "Q 984 4106 628 3988 \n",
       "L 628 4550 \n",
       "Q 988 4650 1302 4700 \n",
       "Q 1616 4750 1894 4750 \n",
       "Q 2613 4750 3031 4423 \n",
       "Q 3450 4097 3450 3541 \n",
       "Q 3450 3153 3228 2886 \n",
       "Q 3006 2619 2597 2516 \n",
       "z\n",
       "\" transform=\"scale(0.015625)\"/>\n",
       "       </defs>\n",
       "       <use xlink:href=\"#DejaVuSans-32\"/>\n",
       "       <use xlink:href=\"#DejaVuSans-30\" x=\"63.623047\"/>\n",
       "       <use xlink:href=\"#DejaVuSans-32\" x=\"127.246094\"/>\n",
       "       <use xlink:href=\"#DejaVuSans-32\" x=\"190.869141\"/>\n",
       "       <use xlink:href=\"#DejaVuSans-2d\" x=\"254.492188\"/>\n",
       "       <use xlink:href=\"#DejaVuSans-30\" x=\"290.576172\"/>\n",
       "       <use xlink:href=\"#DejaVuSans-36\" x=\"354.199219\"/>\n",
       "       <use xlink:href=\"#DejaVuSans-2d\" x=\"417.822266\"/>\n",
       "       <use xlink:href=\"#DejaVuSans-31\" x=\"453.90625\"/>\n",
       "       <use xlink:href=\"#DejaVuSans-33\" x=\"517.529297\"/>\n",
       "      </g>\n",
       "     </g>\n",
       "    </g>\n",
       "    <g id=\"xtick_4\">\n",
       "     <g id=\"line2d_7\">\n",
       "      <path d=\"M 255.51108 299.518125 \n",
       "L 255.51108 22.318125 \n",
       "\" clip-path=\"url(#pcc67f2e1dc)\" style=\"fill: none; stroke: #b0b0b0; stroke-width: 0.8; stroke-linecap: square\"/>\n",
       "     </g>\n",
       "     <g id=\"line2d_8\">\n",
       "      <g>\n",
       "       <use xlink:href=\"#mae3a7d519d\" x=\"255.51108\" y=\"299.518125\" style=\"stroke: #000000; stroke-width: 0.8\"/>\n",
       "      </g>\n",
       "     </g>\n",
       "     <g id=\"text_4\">\n",
       "      <!-- 2022-06-17 -->\n",
       "      <g transform=\"translate(236.915276 352.984984) rotate(-45) scale(0.1 -0.1)\">\n",
       "       <defs>\n",
       "        <path id=\"DejaVuSans-37\" d=\"M 525 4666 \n",
       "L 3525 4666 \n",
       "L 3525 4397 \n",
       "L 1831 0 \n",
       "L 1172 0 \n",
       "L 2766 4134 \n",
       "L 525 4134 \n",
       "L 525 4666 \n",
       "z\n",
       "\" transform=\"scale(0.015625)\"/>\n",
       "       </defs>\n",
       "       <use xlink:href=\"#DejaVuSans-32\"/>\n",
       "       <use xlink:href=\"#DejaVuSans-30\" x=\"63.623047\"/>\n",
       "       <use xlink:href=\"#DejaVuSans-32\" x=\"127.246094\"/>\n",
       "       <use xlink:href=\"#DejaVuSans-32\" x=\"190.869141\"/>\n",
       "       <use xlink:href=\"#DejaVuSans-2d\" x=\"254.492188\"/>\n",
       "       <use xlink:href=\"#DejaVuSans-30\" x=\"290.576172\"/>\n",
       "       <use xlink:href=\"#DejaVuSans-36\" x=\"354.199219\"/>\n",
       "       <use xlink:href=\"#DejaVuSans-2d\" x=\"417.822266\"/>\n",
       "       <use xlink:href=\"#DejaVuSans-31\" x=\"453.90625\"/>\n",
       "       <use xlink:href=\"#DejaVuSans-37\" x=\"517.529297\"/>\n",
       "      </g>\n",
       "     </g>\n",
       "    </g>\n",
       "    <g id=\"xtick_5\">\n",
       "     <g id=\"line2d_9\">\n",
       "      <path d=\"M 311.874716 299.518125 \n",
       "L 311.874716 22.318125 \n",
       "\" clip-path=\"url(#pcc67f2e1dc)\" style=\"fill: none; stroke: #b0b0b0; stroke-width: 0.8; stroke-linecap: square\"/>\n",
       "     </g>\n",
       "     <g id=\"line2d_10\">\n",
       "      <g>\n",
       "       <use xlink:href=\"#mae3a7d519d\" x=\"311.874716\" y=\"299.518125\" style=\"stroke: #000000; stroke-width: 0.8\"/>\n",
       "      </g>\n",
       "     </g>\n",
       "     <g id=\"text_5\">\n",
       "      <!-- 2022-06-21 -->\n",
       "      <g transform=\"translate(293.278912 352.984984) rotate(-45) scale(0.1 -0.1)\">\n",
       "       <use xlink:href=\"#DejaVuSans-32\"/>\n",
       "       <use xlink:href=\"#DejaVuSans-30\" x=\"63.623047\"/>\n",
       "       <use xlink:href=\"#DejaVuSans-32\" x=\"127.246094\"/>\n",
       "       <use xlink:href=\"#DejaVuSans-32\" x=\"190.869141\"/>\n",
       "       <use xlink:href=\"#DejaVuSans-2d\" x=\"254.492188\"/>\n",
       "       <use xlink:href=\"#DejaVuSans-30\" x=\"290.576172\"/>\n",
       "       <use xlink:href=\"#DejaVuSans-36\" x=\"354.199219\"/>\n",
       "       <use xlink:href=\"#DejaVuSans-2d\" x=\"417.822266\"/>\n",
       "       <use xlink:href=\"#DejaVuSans-32\" x=\"453.90625\"/>\n",
       "       <use xlink:href=\"#DejaVuSans-31\" x=\"517.529297\"/>\n",
       "      </g>\n",
       "     </g>\n",
       "    </g>\n",
       "    <g id=\"xtick_6\">\n",
       "     <g id=\"line2d_11\">\n",
       "      <path d=\"M 368.238352 299.518125 \n",
       "L 368.238352 22.318125 \n",
       "\" clip-path=\"url(#pcc67f2e1dc)\" style=\"fill: none; stroke: #b0b0b0; stroke-width: 0.8; stroke-linecap: square\"/>\n",
       "     </g>\n",
       "     <g id=\"line2d_12\">\n",
       "      <g>\n",
       "       <use xlink:href=\"#mae3a7d519d\" x=\"368.238352\" y=\"299.518125\" style=\"stroke: #000000; stroke-width: 0.8\"/>\n",
       "      </g>\n",
       "     </g>\n",
       "     <g id=\"text_6\">\n",
       "      <!-- 2022-06-25 -->\n",
       "      <g transform=\"translate(349.642549 352.984984) rotate(-45) scale(0.1 -0.1)\">\n",
       "       <use xlink:href=\"#DejaVuSans-32\"/>\n",
       "       <use xlink:href=\"#DejaVuSans-30\" x=\"63.623047\"/>\n",
       "       <use xlink:href=\"#DejaVuSans-32\" x=\"127.246094\"/>\n",
       "       <use xlink:href=\"#DejaVuSans-32\" x=\"190.869141\"/>\n",
       "       <use xlink:href=\"#DejaVuSans-2d\" x=\"254.492188\"/>\n",
       "       <use xlink:href=\"#DejaVuSans-30\" x=\"290.576172\"/>\n",
       "       <use xlink:href=\"#DejaVuSans-36\" x=\"354.199219\"/>\n",
       "       <use xlink:href=\"#DejaVuSans-2d\" x=\"417.822266\"/>\n",
       "       <use xlink:href=\"#DejaVuSans-32\" x=\"453.90625\"/>\n",
       "       <use xlink:href=\"#DejaVuSans-35\" x=\"517.529297\"/>\n",
       "      </g>\n",
       "     </g>\n",
       "    </g>\n",
       "    <g id=\"xtick_7\">\n",
       "     <g id=\"line2d_13\">\n",
       "      <path d=\"M 424.601989 299.518125 \n",
       "L 424.601989 22.318125 \n",
       "\" clip-path=\"url(#pcc67f2e1dc)\" style=\"fill: none; stroke: #b0b0b0; stroke-width: 0.8; stroke-linecap: square\"/>\n",
       "     </g>\n",
       "     <g id=\"line2d_14\">\n",
       "      <g>\n",
       "       <use xlink:href=\"#mae3a7d519d\" x=\"424.601989\" y=\"299.518125\" style=\"stroke: #000000; stroke-width: 0.8\"/>\n",
       "      </g>\n",
       "     </g>\n",
       "     <g id=\"text_7\">\n",
       "      <!-- 2022-06-29 -->\n",
       "      <g transform=\"translate(406.006185 352.984984) rotate(-45) scale(0.1 -0.1)\">\n",
       "       <use xlink:href=\"#DejaVuSans-32\"/>\n",
       "       <use xlink:href=\"#DejaVuSans-30\" x=\"63.623047\"/>\n",
       "       <use xlink:href=\"#DejaVuSans-32\" x=\"127.246094\"/>\n",
       "       <use xlink:href=\"#DejaVuSans-32\" x=\"190.869141\"/>\n",
       "       <use xlink:href=\"#DejaVuSans-2d\" x=\"254.492188\"/>\n",
       "       <use xlink:href=\"#DejaVuSans-30\" x=\"290.576172\"/>\n",
       "       <use xlink:href=\"#DejaVuSans-36\" x=\"354.199219\"/>\n",
       "       <use xlink:href=\"#DejaVuSans-2d\" x=\"417.822266\"/>\n",
       "       <use xlink:href=\"#DejaVuSans-32\" x=\"453.90625\"/>\n",
       "       <use xlink:href=\"#DejaVuSans-39\" x=\"517.529297\"/>\n",
       "      </g>\n",
       "     </g>\n",
       "    </g>\n",
       "    <g id=\"xtick_8\">\n",
       "     <g id=\"line2d_15\">\n",
       "      <path d=\"M 452.783807 299.518125 \n",
       "L 452.783807 22.318125 \n",
       "\" clip-path=\"url(#pcc67f2e1dc)\" style=\"fill: none; stroke: #b0b0b0; stroke-width: 0.8; stroke-linecap: square\"/>\n",
       "     </g>\n",
       "     <g id=\"line2d_16\">\n",
       "      <g>\n",
       "       <use xlink:href=\"#mae3a7d519d\" x=\"452.783807\" y=\"299.518125\" style=\"stroke: #000000; stroke-width: 0.8\"/>\n",
       "      </g>\n",
       "     </g>\n",
       "     <g id=\"text_8\">\n",
       "      <!-- 2022-07-01 -->\n",
       "      <g transform=\"translate(434.188003 352.984984) rotate(-45) scale(0.1 -0.1)\">\n",
       "       <use xlink:href=\"#DejaVuSans-32\"/>\n",
       "       <use xlink:href=\"#DejaVuSans-30\" x=\"63.623047\"/>\n",
       "       <use xlink:href=\"#DejaVuSans-32\" x=\"127.246094\"/>\n",
       "       <use xlink:href=\"#DejaVuSans-32\" x=\"190.869141\"/>\n",
       "       <use xlink:href=\"#DejaVuSans-2d\" x=\"254.492188\"/>\n",
       "       <use xlink:href=\"#DejaVuSans-30\" x=\"290.576172\"/>\n",
       "       <use xlink:href=\"#DejaVuSans-37\" x=\"354.199219\"/>\n",
       "       <use xlink:href=\"#DejaVuSans-2d\" x=\"417.822266\"/>\n",
       "       <use xlink:href=\"#DejaVuSans-30\" x=\"453.90625\"/>\n",
       "       <use xlink:href=\"#DejaVuSans-31\" x=\"517.529297\"/>\n",
       "      </g>\n",
       "     </g>\n",
       "    </g>\n",
       "    <g id=\"xtick_9\">\n",
       "     <g id=\"line2d_17\">\n",
       "      <path d=\"M 509.147443 299.518125 \n",
       "L 509.147443 22.318125 \n",
       "\" clip-path=\"url(#pcc67f2e1dc)\" style=\"fill: none; stroke: #b0b0b0; stroke-width: 0.8; stroke-linecap: square\"/>\n",
       "     </g>\n",
       "     <g id=\"line2d_18\">\n",
       "      <g>\n",
       "       <use xlink:href=\"#mae3a7d519d\" x=\"509.147443\" y=\"299.518125\" style=\"stroke: #000000; stroke-width: 0.8\"/>\n",
       "      </g>\n",
       "     </g>\n",
       "     <g id=\"text_9\">\n",
       "      <!-- 2022-07-05 -->\n",
       "      <g transform=\"translate(490.55164 352.984984) rotate(-45) scale(0.1 -0.1)\">\n",
       "       <use xlink:href=\"#DejaVuSans-32\"/>\n",
       "       <use xlink:href=\"#DejaVuSans-30\" x=\"63.623047\"/>\n",
       "       <use xlink:href=\"#DejaVuSans-32\" x=\"127.246094\"/>\n",
       "       <use xlink:href=\"#DejaVuSans-32\" x=\"190.869141\"/>\n",
       "       <use xlink:href=\"#DejaVuSans-2d\" x=\"254.492188\"/>\n",
       "       <use xlink:href=\"#DejaVuSans-30\" x=\"290.576172\"/>\n",
       "       <use xlink:href=\"#DejaVuSans-37\" x=\"354.199219\"/>\n",
       "       <use xlink:href=\"#DejaVuSans-2d\" x=\"417.822266\"/>\n",
       "       <use xlink:href=\"#DejaVuSans-30\" x=\"453.90625\"/>\n",
       "       <use xlink:href=\"#DejaVuSans-35\" x=\"517.529297\"/>\n",
       "      </g>\n",
       "     </g>\n",
       "    </g>\n",
       "    <g id=\"xtick_10\">\n",
       "     <g id=\"line2d_19\">\n",
       "      <path d=\"M 565.51108 299.518125 \n",
       "L 565.51108 22.318125 \n",
       "\" clip-path=\"url(#pcc67f2e1dc)\" style=\"fill: none; stroke: #b0b0b0; stroke-width: 0.8; stroke-linecap: square\"/>\n",
       "     </g>\n",
       "     <g id=\"line2d_20\">\n",
       "      <g>\n",
       "       <use xlink:href=\"#mae3a7d519d\" x=\"565.51108\" y=\"299.518125\" style=\"stroke: #000000; stroke-width: 0.8\"/>\n",
       "      </g>\n",
       "     </g>\n",
       "     <g id=\"text_10\">\n",
       "      <!-- 2022-07-09 -->\n",
       "      <g transform=\"translate(546.915276 352.984984) rotate(-45) scale(0.1 -0.1)\">\n",
       "       <use xlink:href=\"#DejaVuSans-32\"/>\n",
       "       <use xlink:href=\"#DejaVuSans-30\" x=\"63.623047\"/>\n",
       "       <use xlink:href=\"#DejaVuSans-32\" x=\"127.246094\"/>\n",
       "       <use xlink:href=\"#DejaVuSans-32\" x=\"190.869141\"/>\n",
       "       <use xlink:href=\"#DejaVuSans-2d\" x=\"254.492188\"/>\n",
       "       <use xlink:href=\"#DejaVuSans-30\" x=\"290.576172\"/>\n",
       "       <use xlink:href=\"#DejaVuSans-37\" x=\"354.199219\"/>\n",
       "       <use xlink:href=\"#DejaVuSans-2d\" x=\"417.822266\"/>\n",
       "       <use xlink:href=\"#DejaVuSans-30\" x=\"453.90625\"/>\n",
       "       <use xlink:href=\"#DejaVuSans-39\" x=\"517.529297\"/>\n",
       "      </g>\n",
       "     </g>\n",
       "    </g>\n",
       "    <g id=\"text_11\">\n",
       "     <!-- Publication date -->\n",
       "     <g transform=\"translate(285.6625 366.053983) scale(0.1 -0.1)\">\n",
       "      <defs>\n",
       "       <path id=\"DejaVuSans-50\" d=\"M 1259 4147 \n",
       "L 1259 2394 \n",
       "L 2053 2394 \n",
       "Q 2494 2394 2734 2622 \n",
       "Q 2975 2850 2975 3272 \n",
       "Q 2975 3691 2734 3919 \n",
       "Q 2494 4147 2053 4147 \n",
       "L 1259 4147 \n",
       "z\n",
       "M 628 4666 \n",
       "L 2053 4666 \n",
       "Q 2838 4666 3239 4311 \n",
       "Q 3641 3956 3641 3272 \n",
       "Q 3641 2581 3239 2228 \n",
       "Q 2838 1875 2053 1875 \n",
       "L 1259 1875 \n",
       "L 1259 0 \n",
       "L 628 0 \n",
       "L 628 4666 \n",
       "z\n",
       "\" transform=\"scale(0.015625)\"/>\n",
       "       <path id=\"DejaVuSans-75\" d=\"M 544 1381 \n",
       "L 544 3500 \n",
       "L 1119 3500 \n",
       "L 1119 1403 \n",
       "Q 1119 906 1312 657 \n",
       "Q 1506 409 1894 409 \n",
       "Q 2359 409 2629 706 \n",
       "Q 2900 1003 2900 1516 \n",
       "L 2900 3500 \n",
       "L 3475 3500 \n",
       "L 3475 0 \n",
       "L 2900 0 \n",
       "L 2900 538 \n",
       "Q 2691 219 2414 64 \n",
       "Q 2138 -91 1772 -91 \n",
       "Q 1169 -91 856 284 \n",
       "Q 544 659 544 1381 \n",
       "z\n",
       "M 1991 3584 \n",
       "L 1991 3584 \n",
       "z\n",
       "\" transform=\"scale(0.015625)\"/>\n",
       "       <path id=\"DejaVuSans-62\" d=\"M 3116 1747 \n",
       "Q 3116 2381 2855 2742 \n",
       "Q 2594 3103 2138 3103 \n",
       "Q 1681 3103 1420 2742 \n",
       "Q 1159 2381 1159 1747 \n",
       "Q 1159 1113 1420 752 \n",
       "Q 1681 391 2138 391 \n",
       "Q 2594 391 2855 752 \n",
       "Q 3116 1113 3116 1747 \n",
       "z\n",
       "M 1159 2969 \n",
       "Q 1341 3281 1617 3432 \n",
       "Q 1894 3584 2278 3584 \n",
       "Q 2916 3584 3314 3078 \n",
       "Q 3713 2572 3713 1747 \n",
       "Q 3713 922 3314 415 \n",
       "Q 2916 -91 2278 -91 \n",
       "Q 1894 -91 1617 61 \n",
       "Q 1341 213 1159 525 \n",
       "L 1159 0 \n",
       "L 581 0 \n",
       "L 581 4863 \n",
       "L 1159 4863 \n",
       "L 1159 2969 \n",
       "z\n",
       "\" transform=\"scale(0.015625)\"/>\n",
       "       <path id=\"DejaVuSans-6c\" d=\"M 603 4863 \n",
       "L 1178 4863 \n",
       "L 1178 0 \n",
       "L 603 0 \n",
       "L 603 4863 \n",
       "z\n",
       "\" transform=\"scale(0.015625)\"/>\n",
       "       <path id=\"DejaVuSans-69\" d=\"M 603 3500 \n",
       "L 1178 3500 \n",
       "L 1178 0 \n",
       "L 603 0 \n",
       "L 603 3500 \n",
       "z\n",
       "M 603 4863 \n",
       "L 1178 4863 \n",
       "L 1178 4134 \n",
       "L 603 4134 \n",
       "L 603 4863 \n",
       "z\n",
       "\" transform=\"scale(0.015625)\"/>\n",
       "       <path id=\"DejaVuSans-63\" d=\"M 3122 3366 \n",
       "L 3122 2828 \n",
       "Q 2878 2963 2633 3030 \n",
       "Q 2388 3097 2138 3097 \n",
       "Q 1578 3097 1268 2742 \n",
       "Q 959 2388 959 1747 \n",
       "Q 959 1106 1268 751 \n",
       "Q 1578 397 2138 397 \n",
       "Q 2388 397 2633 464 \n",
       "Q 2878 531 3122 666 \n",
       "L 3122 134 \n",
       "Q 2881 22 2623 -34 \n",
       "Q 2366 -91 2075 -91 \n",
       "Q 1284 -91 818 406 \n",
       "Q 353 903 353 1747 \n",
       "Q 353 2603 823 3093 \n",
       "Q 1294 3584 2113 3584 \n",
       "Q 2378 3584 2631 3529 \n",
       "Q 2884 3475 3122 3366 \n",
       "z\n",
       "\" transform=\"scale(0.015625)\"/>\n",
       "       <path id=\"DejaVuSans-61\" d=\"M 2194 1759 \n",
       "Q 1497 1759 1228 1600 \n",
       "Q 959 1441 959 1056 \n",
       "Q 959 750 1161 570 \n",
       "Q 1363 391 1709 391 \n",
       "Q 2188 391 2477 730 \n",
       "Q 2766 1069 2766 1631 \n",
       "L 2766 1759 \n",
       "L 2194 1759 \n",
       "z\n",
       "M 3341 1997 \n",
       "L 3341 0 \n",
       "L 2766 0 \n",
       "L 2766 531 \n",
       "Q 2569 213 2275 61 \n",
       "Q 1981 -91 1556 -91 \n",
       "Q 1019 -91 701 211 \n",
       "Q 384 513 384 1019 \n",
       "Q 384 1609 779 1909 \n",
       "Q 1175 2209 1959 2209 \n",
       "L 2766 2209 \n",
       "L 2766 2266 \n",
       "Q 2766 2663 2505 2880 \n",
       "Q 2244 3097 1772 3097 \n",
       "Q 1472 3097 1187 3025 \n",
       "Q 903 2953 641 2809 \n",
       "L 641 3341 \n",
       "Q 956 3463 1253 3523 \n",
       "Q 1550 3584 1831 3584 \n",
       "Q 2591 3584 2966 3190 \n",
       "Q 3341 2797 3341 1997 \n",
       "z\n",
       "\" transform=\"scale(0.015625)\"/>\n",
       "       <path id=\"DejaVuSans-74\" d=\"M 1172 4494 \n",
       "L 1172 3500 \n",
       "L 2356 3500 \n",
       "L 2356 3053 \n",
       "L 1172 3053 \n",
       "L 1172 1153 \n",
       "Q 1172 725 1289 603 \n",
       "Q 1406 481 1766 481 \n",
       "L 2356 481 \n",
       "L 2356 0 \n",
       "L 1766 0 \n",
       "Q 1100 0 847 248 \n",
       "Q 594 497 594 1153 \n",
       "L 594 3053 \n",
       "L 172 3053 \n",
       "L 172 3500 \n",
       "L 594 3500 \n",
       "L 594 4494 \n",
       "L 1172 4494 \n",
       "z\n",
       "\" transform=\"scale(0.015625)\"/>\n",
       "       <path id=\"DejaVuSans-6f\" d=\"M 1959 3097 \n",
       "Q 1497 3097 1228 2736 \n",
       "Q 959 2375 959 1747 \n",
       "Q 959 1119 1226 758 \n",
       "Q 1494 397 1959 397 \n",
       "Q 2419 397 2687 759 \n",
       "Q 2956 1122 2956 1747 \n",
       "Q 2956 2369 2687 2733 \n",
       "Q 2419 3097 1959 3097 \n",
       "z\n",
       "M 1959 3584 \n",
       "Q 2709 3584 3137 3096 \n",
       "Q 3566 2609 3566 1747 \n",
       "Q 3566 888 3137 398 \n",
       "Q 2709 -91 1959 -91 \n",
       "Q 1206 -91 779 398 \n",
       "Q 353 888 353 1747 \n",
       "Q 353 2609 779 3096 \n",
       "Q 1206 3584 1959 3584 \n",
       "z\n",
       "\" transform=\"scale(0.015625)\"/>\n",
       "       <path id=\"DejaVuSans-6e\" d=\"M 3513 2113 \n",
       "L 3513 0 \n",
       "L 2938 0 \n",
       "L 2938 2094 \n",
       "Q 2938 2591 2744 2837 \n",
       "Q 2550 3084 2163 3084 \n",
       "Q 1697 3084 1428 2787 \n",
       "Q 1159 2491 1159 1978 \n",
       "L 1159 0 \n",
       "L 581 0 \n",
       "L 581 3500 \n",
       "L 1159 3500 \n",
       "L 1159 2956 \n",
       "Q 1366 3272 1645 3428 \n",
       "Q 1925 3584 2291 3584 \n",
       "Q 2894 3584 3203 3211 \n",
       "Q 3513 2838 3513 2113 \n",
       "z\n",
       "\" transform=\"scale(0.015625)\"/>\n",
       "       <path id=\"DejaVuSans-20\" transform=\"scale(0.015625)\"/>\n",
       "       <path id=\"DejaVuSans-64\" d=\"M 2906 2969 \n",
       "L 2906 4863 \n",
       "L 3481 4863 \n",
       "L 3481 0 \n",
       "L 2906 0 \n",
       "L 2906 525 \n",
       "Q 2725 213 2448 61 \n",
       "Q 2172 -91 1784 -91 \n",
       "Q 1150 -91 751 415 \n",
       "Q 353 922 353 1747 \n",
       "Q 353 2572 751 3078 \n",
       "Q 1150 3584 1784 3584 \n",
       "Q 2172 3584 2448 3432 \n",
       "Q 2725 3281 2906 2969 \n",
       "z\n",
       "M 947 1747 \n",
       "Q 947 1113 1208 752 \n",
       "Q 1469 391 1925 391 \n",
       "Q 2381 391 2643 752 \n",
       "Q 2906 1113 2906 1747 \n",
       "Q 2906 2381 2643 2742 \n",
       "Q 2381 3103 1925 3103 \n",
       "Q 1469 3103 1208 2742 \n",
       "Q 947 2381 947 1747 \n",
       "z\n",
       "\" transform=\"scale(0.015625)\"/>\n",
       "       <path id=\"DejaVuSans-65\" d=\"M 3597 1894 \n",
       "L 3597 1613 \n",
       "L 953 1613 \n",
       "Q 991 1019 1311 708 \n",
       "Q 1631 397 2203 397 \n",
       "Q 2534 397 2845 478 \n",
       "Q 3156 559 3463 722 \n",
       "L 3463 178 \n",
       "Q 3153 47 2828 -22 \n",
       "Q 2503 -91 2169 -91 \n",
       "Q 1331 -91 842 396 \n",
       "Q 353 884 353 1716 \n",
       "Q 353 2575 817 3079 \n",
       "Q 1281 3584 2069 3584 \n",
       "Q 2775 3584 3186 3129 \n",
       "Q 3597 2675 3597 1894 \n",
       "z\n",
       "M 3022 2063 \n",
       "Q 3016 2534 2758 2815 \n",
       "Q 2500 3097 2075 3097 \n",
       "Q 1594 3097 1305 2825 \n",
       "Q 1016 2553 972 2059 \n",
       "L 3022 2063 \n",
       "z\n",
       "\" transform=\"scale(0.015625)\"/>\n",
       "      </defs>\n",
       "      <use xlink:href=\"#DejaVuSans-50\"/>\n",
       "      <use xlink:href=\"#DejaVuSans-75\" x=\"58.552734\"/>\n",
       "      <use xlink:href=\"#DejaVuSans-62\" x=\"121.931641\"/>\n",
       "      <use xlink:href=\"#DejaVuSans-6c\" x=\"185.408203\"/>\n",
       "      <use xlink:href=\"#DejaVuSans-69\" x=\"213.191406\"/>\n",
       "      <use xlink:href=\"#DejaVuSans-63\" x=\"240.974609\"/>\n",
       "      <use xlink:href=\"#DejaVuSans-61\" x=\"295.955078\"/>\n",
       "      <use xlink:href=\"#DejaVuSans-74\" x=\"357.234375\"/>\n",
       "      <use xlink:href=\"#DejaVuSans-69\" x=\"396.443359\"/>\n",
       "      <use xlink:href=\"#DejaVuSans-6f\" x=\"424.226562\"/>\n",
       "      <use xlink:href=\"#DejaVuSans-6e\" x=\"485.408203\"/>\n",
       "      <use xlink:href=\"#DejaVuSans-20\" x=\"548.787109\"/>\n",
       "      <use xlink:href=\"#DejaVuSans-64\" x=\"580.574219\"/>\n",
       "      <use xlink:href=\"#DejaVuSans-61\" x=\"644.050781\"/>\n",
       "      <use xlink:href=\"#DejaVuSans-74\" x=\"705.330078\"/>\n",
       "      <use xlink:href=\"#DejaVuSans-65\" x=\"744.539062\"/>\n",
       "     </g>\n",
       "    </g>\n",
       "   </g>\n",
       "   <g id=\"matplotlib.axis_2\">\n",
       "    <g id=\"ytick_1\">\n",
       "     <g id=\"line2d_21\">\n",
       "      <path d=\"M 46.965625 292.882622 \n",
       "L 604.965625 292.882622 \n",
       "\" clip-path=\"url(#pcc67f2e1dc)\" style=\"fill: none; stroke: #b0b0b0; stroke-width: 0.8; stroke-linecap: square\"/>\n",
       "     </g>\n",
       "     <g id=\"line2d_22\">\n",
       "      <defs>\n",
       "       <path id=\"m043544bfc7\" d=\"M 0 0 \n",
       "L -3.5 0 \n",
       "\" style=\"stroke: #000000; stroke-width: 0.8\"/>\n",
       "      </defs>\n",
       "      <g>\n",
       "       <use xlink:href=\"#m043544bfc7\" x=\"46.965625\" y=\"292.882622\" style=\"stroke: #000000; stroke-width: 0.8\"/>\n",
       "      </g>\n",
       "     </g>\n",
       "     <g id=\"text_12\">\n",
       "      <!-- 0 -->\n",
       "      <g transform=\"translate(33.603125 296.681841) scale(0.1 -0.1)\">\n",
       "       <use xlink:href=\"#DejaVuSans-30\"/>\n",
       "      </g>\n",
       "     </g>\n",
       "    </g>\n",
       "    <g id=\"ytick_2\">\n",
       "     <g id=\"line2d_23\">\n",
       "      <path d=\"M 46.965625 255.604516 \n",
       "L 604.965625 255.604516 \n",
       "\" clip-path=\"url(#pcc67f2e1dc)\" style=\"fill: none; stroke: #b0b0b0; stroke-width: 0.8; stroke-linecap: square\"/>\n",
       "     </g>\n",
       "     <g id=\"line2d_24\">\n",
       "      <g>\n",
       "       <use xlink:href=\"#m043544bfc7\" x=\"46.965625\" y=\"255.604516\" style=\"stroke: #000000; stroke-width: 0.8\"/>\n",
       "      </g>\n",
       "     </g>\n",
       "     <g id=\"text_13\">\n",
       "      <!-- 25 -->\n",
       "      <g transform=\"translate(27.240625 259.403734) scale(0.1 -0.1)\">\n",
       "       <use xlink:href=\"#DejaVuSans-32\"/>\n",
       "       <use xlink:href=\"#DejaVuSans-35\" x=\"63.623047\"/>\n",
       "      </g>\n",
       "     </g>\n",
       "    </g>\n",
       "    <g id=\"ytick_3\">\n",
       "     <g id=\"line2d_25\">\n",
       "      <path d=\"M 46.965625 218.326409 \n",
       "L 604.965625 218.326409 \n",
       "\" clip-path=\"url(#pcc67f2e1dc)\" style=\"fill: none; stroke: #b0b0b0; stroke-width: 0.8; stroke-linecap: square\"/>\n",
       "     </g>\n",
       "     <g id=\"line2d_26\">\n",
       "      <g>\n",
       "       <use xlink:href=\"#m043544bfc7\" x=\"46.965625\" y=\"218.326409\" style=\"stroke: #000000; stroke-width: 0.8\"/>\n",
       "      </g>\n",
       "     </g>\n",
       "     <g id=\"text_14\">\n",
       "      <!-- 50 -->\n",
       "      <g transform=\"translate(27.240625 222.125628) scale(0.1 -0.1)\">\n",
       "       <use xlink:href=\"#DejaVuSans-35\"/>\n",
       "       <use xlink:href=\"#DejaVuSans-30\" x=\"63.623047\"/>\n",
       "      </g>\n",
       "     </g>\n",
       "    </g>\n",
       "    <g id=\"ytick_4\">\n",
       "     <g id=\"line2d_27\">\n",
       "      <path d=\"M 46.965625 181.048303 \n",
       "L 604.965625 181.048303 \n",
       "\" clip-path=\"url(#pcc67f2e1dc)\" style=\"fill: none; stroke: #b0b0b0; stroke-width: 0.8; stroke-linecap: square\"/>\n",
       "     </g>\n",
       "     <g id=\"line2d_28\">\n",
       "      <g>\n",
       "       <use xlink:href=\"#m043544bfc7\" x=\"46.965625\" y=\"181.048303\" style=\"stroke: #000000; stroke-width: 0.8\"/>\n",
       "      </g>\n",
       "     </g>\n",
       "     <g id=\"text_15\">\n",
       "      <!-- 75 -->\n",
       "      <g transform=\"translate(27.240625 184.847521) scale(0.1 -0.1)\">\n",
       "       <use xlink:href=\"#DejaVuSans-37\"/>\n",
       "       <use xlink:href=\"#DejaVuSans-35\" x=\"63.623047\"/>\n",
       "      </g>\n",
       "     </g>\n",
       "    </g>\n",
       "    <g id=\"ytick_5\">\n",
       "     <g id=\"line2d_29\">\n",
       "      <path d=\"M 46.965625 143.770196 \n",
       "L 604.965625 143.770196 \n",
       "\" clip-path=\"url(#pcc67f2e1dc)\" style=\"fill: none; stroke: #b0b0b0; stroke-width: 0.8; stroke-linecap: square\"/>\n",
       "     </g>\n",
       "     <g id=\"line2d_30\">\n",
       "      <g>\n",
       "       <use xlink:href=\"#m043544bfc7\" x=\"46.965625\" y=\"143.770196\" style=\"stroke: #000000; stroke-width: 0.8\"/>\n",
       "      </g>\n",
       "     </g>\n",
       "     <g id=\"text_16\">\n",
       "      <!-- 100 -->\n",
       "      <g transform=\"translate(20.878125 147.569415) scale(0.1 -0.1)\">\n",
       "       <use xlink:href=\"#DejaVuSans-31\"/>\n",
       "       <use xlink:href=\"#DejaVuSans-30\" x=\"63.623047\"/>\n",
       "       <use xlink:href=\"#DejaVuSans-30\" x=\"127.246094\"/>\n",
       "      </g>\n",
       "     </g>\n",
       "    </g>\n",
       "    <g id=\"ytick_6\">\n",
       "     <g id=\"line2d_31\">\n",
       "      <path d=\"M 46.965625 106.492089 \n",
       "L 604.965625 106.492089 \n",
       "\" clip-path=\"url(#pcc67f2e1dc)\" style=\"fill: none; stroke: #b0b0b0; stroke-width: 0.8; stroke-linecap: square\"/>\n",
       "     </g>\n",
       "     <g id=\"line2d_32\">\n",
       "      <g>\n",
       "       <use xlink:href=\"#m043544bfc7\" x=\"46.965625\" y=\"106.492089\" style=\"stroke: #000000; stroke-width: 0.8\"/>\n",
       "      </g>\n",
       "     </g>\n",
       "     <g id=\"text_17\">\n",
       "      <!-- 125 -->\n",
       "      <g transform=\"translate(20.878125 110.291308) scale(0.1 -0.1)\">\n",
       "       <use xlink:href=\"#DejaVuSans-31\"/>\n",
       "       <use xlink:href=\"#DejaVuSans-32\" x=\"63.623047\"/>\n",
       "       <use xlink:href=\"#DejaVuSans-35\" x=\"127.246094\"/>\n",
       "      </g>\n",
       "     </g>\n",
       "    </g>\n",
       "    <g id=\"ytick_7\">\n",
       "     <g id=\"line2d_33\">\n",
       "      <path d=\"M 46.965625 69.213983 \n",
       "L 604.965625 69.213983 \n",
       "\" clip-path=\"url(#pcc67f2e1dc)\" style=\"fill: none; stroke: #b0b0b0; stroke-width: 0.8; stroke-linecap: square\"/>\n",
       "     </g>\n",
       "     <g id=\"line2d_34\">\n",
       "      <g>\n",
       "       <use xlink:href=\"#m043544bfc7\" x=\"46.965625\" y=\"69.213983\" style=\"stroke: #000000; stroke-width: 0.8\"/>\n",
       "      </g>\n",
       "     </g>\n",
       "     <g id=\"text_18\">\n",
       "      <!-- 150 -->\n",
       "      <g transform=\"translate(20.878125 73.013202) scale(0.1 -0.1)\">\n",
       "       <use xlink:href=\"#DejaVuSans-31\"/>\n",
       "       <use xlink:href=\"#DejaVuSans-35\" x=\"63.623047\"/>\n",
       "       <use xlink:href=\"#DejaVuSans-30\" x=\"127.246094\"/>\n",
       "      </g>\n",
       "     </g>\n",
       "    </g>\n",
       "    <g id=\"ytick_8\">\n",
       "     <g id=\"line2d_35\">\n",
       "      <path d=\"M 46.965625 31.935876 \n",
       "L 604.965625 31.935876 \n",
       "\" clip-path=\"url(#pcc67f2e1dc)\" style=\"fill: none; stroke: #b0b0b0; stroke-width: 0.8; stroke-linecap: square\"/>\n",
       "     </g>\n",
       "     <g id=\"line2d_36\">\n",
       "      <g>\n",
       "       <use xlink:href=\"#m043544bfc7\" x=\"46.965625\" y=\"31.935876\" style=\"stroke: #000000; stroke-width: 0.8\"/>\n",
       "      </g>\n",
       "     </g>\n",
       "     <g id=\"text_19\">\n",
       "      <!-- 175 -->\n",
       "      <g transform=\"translate(20.878125 35.735095) scale(0.1 -0.1)\">\n",
       "       <use xlink:href=\"#DejaVuSans-31\"/>\n",
       "       <use xlink:href=\"#DejaVuSans-37\" x=\"63.623047\"/>\n",
       "       <use xlink:href=\"#DejaVuSans-35\" x=\"127.246094\"/>\n",
       "      </g>\n",
       "     </g>\n",
       "    </g>\n",
       "    <g id=\"text_20\">\n",
       "     <!-- Number of videos -->\n",
       "     <g transform=\"translate(14.798438 205.265) rotate(-90) scale(0.1 -0.1)\">\n",
       "      <defs>\n",
       "       <path id=\"DejaVuSans-4e\" d=\"M 628 4666 \n",
       "L 1478 4666 \n",
       "L 3547 763 \n",
       "L 3547 4666 \n",
       "L 4159 4666 \n",
       "L 4159 0 \n",
       "L 3309 0 \n",
       "L 1241 3903 \n",
       "L 1241 0 \n",
       "L 628 0 \n",
       "L 628 4666 \n",
       "z\n",
       "\" transform=\"scale(0.015625)\"/>\n",
       "       <path id=\"DejaVuSans-6d\" d=\"M 3328 2828 \n",
       "Q 3544 3216 3844 3400 \n",
       "Q 4144 3584 4550 3584 \n",
       "Q 5097 3584 5394 3201 \n",
       "Q 5691 2819 5691 2113 \n",
       "L 5691 0 \n",
       "L 5113 0 \n",
       "L 5113 2094 \n",
       "Q 5113 2597 4934 2840 \n",
       "Q 4756 3084 4391 3084 \n",
       "Q 3944 3084 3684 2787 \n",
       "Q 3425 2491 3425 1978 \n",
       "L 3425 0 \n",
       "L 2847 0 \n",
       "L 2847 2094 \n",
       "Q 2847 2600 2669 2842 \n",
       "Q 2491 3084 2119 3084 \n",
       "Q 1678 3084 1418 2786 \n",
       "Q 1159 2488 1159 1978 \n",
       "L 1159 0 \n",
       "L 581 0 \n",
       "L 581 3500 \n",
       "L 1159 3500 \n",
       "L 1159 2956 \n",
       "Q 1356 3278 1631 3431 \n",
       "Q 1906 3584 2284 3584 \n",
       "Q 2666 3584 2933 3390 \n",
       "Q 3200 3197 3328 2828 \n",
       "z\n",
       "\" transform=\"scale(0.015625)\"/>\n",
       "       <path id=\"DejaVuSans-72\" d=\"M 2631 2963 \n",
       "Q 2534 3019 2420 3045 \n",
       "Q 2306 3072 2169 3072 \n",
       "Q 1681 3072 1420 2755 \n",
       "Q 1159 2438 1159 1844 \n",
       "L 1159 0 \n",
       "L 581 0 \n",
       "L 581 3500 \n",
       "L 1159 3500 \n",
       "L 1159 2956 \n",
       "Q 1341 3275 1631 3429 \n",
       "Q 1922 3584 2338 3584 \n",
       "Q 2397 3584 2469 3576 \n",
       "Q 2541 3569 2628 3553 \n",
       "L 2631 2963 \n",
       "z\n",
       "\" transform=\"scale(0.015625)\"/>\n",
       "       <path id=\"DejaVuSans-66\" d=\"M 2375 4863 \n",
       "L 2375 4384 \n",
       "L 1825 4384 \n",
       "Q 1516 4384 1395 4259 \n",
       "Q 1275 4134 1275 3809 \n",
       "L 1275 3500 \n",
       "L 2222 3500 \n",
       "L 2222 3053 \n",
       "L 1275 3053 \n",
       "L 1275 0 \n",
       "L 697 0 \n",
       "L 697 3053 \n",
       "L 147 3053 \n",
       "L 147 3500 \n",
       "L 697 3500 \n",
       "L 697 3744 \n",
       "Q 697 4328 969 4595 \n",
       "Q 1241 4863 1831 4863 \n",
       "L 2375 4863 \n",
       "z\n",
       "\" transform=\"scale(0.015625)\"/>\n",
       "       <path id=\"DejaVuSans-76\" d=\"M 191 3500 \n",
       "L 800 3500 \n",
       "L 1894 563 \n",
       "L 2988 3500 \n",
       "L 3597 3500 \n",
       "L 2284 0 \n",
       "L 1503 0 \n",
       "L 191 3500 \n",
       "z\n",
       "\" transform=\"scale(0.015625)\"/>\n",
       "       <path id=\"DejaVuSans-73\" d=\"M 2834 3397 \n",
       "L 2834 2853 \n",
       "Q 2591 2978 2328 3040 \n",
       "Q 2066 3103 1784 3103 \n",
       "Q 1356 3103 1142 2972 \n",
       "Q 928 2841 928 2578 \n",
       "Q 928 2378 1081 2264 \n",
       "Q 1234 2150 1697 2047 \n",
       "L 1894 2003 \n",
       "Q 2506 1872 2764 1633 \n",
       "Q 3022 1394 3022 966 \n",
       "Q 3022 478 2636 193 \n",
       "Q 2250 -91 1575 -91 \n",
       "Q 1294 -91 989 -36 \n",
       "Q 684 19 347 128 \n",
       "L 347 722 \n",
       "Q 666 556 975 473 \n",
       "Q 1284 391 1588 391 \n",
       "Q 1994 391 2212 530 \n",
       "Q 2431 669 2431 922 \n",
       "Q 2431 1156 2273 1281 \n",
       "Q 2116 1406 1581 1522 \n",
       "L 1381 1569 \n",
       "Q 847 1681 609 1914 \n",
       "Q 372 2147 372 2553 \n",
       "Q 372 3047 722 3315 \n",
       "Q 1072 3584 1716 3584 \n",
       "Q 2034 3584 2315 3537 \n",
       "Q 2597 3491 2834 3397 \n",
       "z\n",
       "\" transform=\"scale(0.015625)\"/>\n",
       "      </defs>\n",
       "      <use xlink:href=\"#DejaVuSans-4e\"/>\n",
       "      <use xlink:href=\"#DejaVuSans-75\" x=\"74.804688\"/>\n",
       "      <use xlink:href=\"#DejaVuSans-6d\" x=\"138.183594\"/>\n",
       "      <use xlink:href=\"#DejaVuSans-62\" x=\"235.595703\"/>\n",
       "      <use xlink:href=\"#DejaVuSans-65\" x=\"299.072266\"/>\n",
       "      <use xlink:href=\"#DejaVuSans-72\" x=\"360.595703\"/>\n",
       "      <use xlink:href=\"#DejaVuSans-20\" x=\"401.708984\"/>\n",
       "      <use xlink:href=\"#DejaVuSans-6f\" x=\"433.496094\"/>\n",
       "      <use xlink:href=\"#DejaVuSans-66\" x=\"494.677734\"/>\n",
       "      <use xlink:href=\"#DejaVuSans-20\" x=\"529.882812\"/>\n",
       "      <use xlink:href=\"#DejaVuSans-76\" x=\"561.669922\"/>\n",
       "      <use xlink:href=\"#DejaVuSans-69\" x=\"620.849609\"/>\n",
       "      <use xlink:href=\"#DejaVuSans-64\" x=\"648.632812\"/>\n",
       "      <use xlink:href=\"#DejaVuSans-65\" x=\"712.109375\"/>\n",
       "      <use xlink:href=\"#DejaVuSans-6f\" x=\"773.632812\"/>\n",
       "      <use xlink:href=\"#DejaVuSans-73\" x=\"834.814453\"/>\n",
       "     </g>\n",
       "    </g>\n",
       "   </g>\n",
       "   <g id=\"line2d_37\">\n",
       "    <path d=\"M 72.329261 286.918125 \n",
       "L 86.42017 286.918125 \n",
       "L 100.51108 283.935876 \n",
       "L 114.601989 283.935876 \n",
       "L 128.692898 279.462504 \n",
       "L 142.783807 280.953628 \n",
       "L 156.874716 274.989131 \n",
       "L 170.965625 282.444752 \n",
       "L 185.056534 285.427001 \n",
       "L 199.147443 276.480255 \n",
       "L 213.238352 266.042385 \n",
       "L 227.329261 270.515758 \n",
       "L 241.42017 251.131143 \n",
       "L 255.51108 267.53351 \n",
       "L 269.601989 272.006882 \n",
       "L 283.692898 279.462504 \n",
       "L 297.783807 270.515758 \n",
       "L 311.874716 249.640018 \n",
       "L 325.965625 260.077888 \n",
       "L 340.056534 251.131143 \n",
       "L 354.147443 260.077888 \n",
       "L 368.238352 248.148894 \n",
       "L 382.329261 246.65777 \n",
       "L 396.42017 243.675521 \n",
       "L 410.51108 231.746527 \n",
       "L 424.601989 227.273155 \n",
       "L 438.692898 191.486172 \n",
       "L 452.783807 203.415166 \n",
       "L 466.874716 204.906291 \n",
       "L 480.965625 185.521675 \n",
       "L 495.056534 175.083805 \n",
       "L 509.147443 113.947711 \n",
       "L 523.238352 60.267237 \n",
       "L 537.329261 34.918125 \n",
       "L 551.42017 76.669604 \n",
       "L 565.51108 134.82345 \n",
       "L 579.601989 242.184397 \n",
       "\" clip-path=\"url(#pcc67f2e1dc)\" style=\"fill: none; stroke: #1f77b4; stroke-width: 1.5; stroke-linecap: square\"/>\n",
       "    <defs>\n",
       "     <path id=\"m137e669a13\" d=\"M 0 1.5 \n",
       "C 0.397805 1.5 0.77937 1.341951 1.06066 1.06066 \n",
       "C 1.341951 0.77937 1.5 0.397805 1.5 0 \n",
       "C 1.5 -0.397805 1.341951 -0.77937 1.06066 -1.06066 \n",
       "C 0.77937 -1.341951 0.397805 -1.5 0 -1.5 \n",
       "C -0.397805 -1.5 -0.77937 -1.341951 -1.06066 -1.06066 \n",
       "C -1.341951 -0.77937 -1.5 -0.397805 -1.5 0 \n",
       "C -1.5 0.397805 -1.341951 0.77937 -1.06066 1.06066 \n",
       "C -0.77937 1.341951 -0.397805 1.5 0 1.5 \n",
       "z\n",
       "\" style=\"stroke: #1f77b4\"/>\n",
       "    </defs>\n",
       "    <g clip-path=\"url(#pcc67f2e1dc)\">\n",
       "     <use xlink:href=\"#m137e669a13\" x=\"72.329261\" y=\"286.918125\" style=\"fill: #1f77b4; stroke: #1f77b4\"/>\n",
       "     <use xlink:href=\"#m137e669a13\" x=\"86.42017\" y=\"286.918125\" style=\"fill: #1f77b4; stroke: #1f77b4\"/>\n",
       "     <use xlink:href=\"#m137e669a13\" x=\"100.51108\" y=\"283.935876\" style=\"fill: #1f77b4; stroke: #1f77b4\"/>\n",
       "     <use xlink:href=\"#m137e669a13\" x=\"114.601989\" y=\"283.935876\" style=\"fill: #1f77b4; stroke: #1f77b4\"/>\n",
       "     <use xlink:href=\"#m137e669a13\" x=\"128.692898\" y=\"279.462504\" style=\"fill: #1f77b4; stroke: #1f77b4\"/>\n",
       "     <use xlink:href=\"#m137e669a13\" x=\"142.783807\" y=\"280.953628\" style=\"fill: #1f77b4; stroke: #1f77b4\"/>\n",
       "     <use xlink:href=\"#m137e669a13\" x=\"156.874716\" y=\"274.989131\" style=\"fill: #1f77b4; stroke: #1f77b4\"/>\n",
       "     <use xlink:href=\"#m137e669a13\" x=\"170.965625\" y=\"282.444752\" style=\"fill: #1f77b4; stroke: #1f77b4\"/>\n",
       "     <use xlink:href=\"#m137e669a13\" x=\"185.056534\" y=\"285.427001\" style=\"fill: #1f77b4; stroke: #1f77b4\"/>\n",
       "     <use xlink:href=\"#m137e669a13\" x=\"199.147443\" y=\"276.480255\" style=\"fill: #1f77b4; stroke: #1f77b4\"/>\n",
       "     <use xlink:href=\"#m137e669a13\" x=\"213.238352\" y=\"266.042385\" style=\"fill: #1f77b4; stroke: #1f77b4\"/>\n",
       "     <use xlink:href=\"#m137e669a13\" x=\"227.329261\" y=\"270.515758\" style=\"fill: #1f77b4; stroke: #1f77b4\"/>\n",
       "     <use xlink:href=\"#m137e669a13\" x=\"241.42017\" y=\"251.131143\" style=\"fill: #1f77b4; stroke: #1f77b4\"/>\n",
       "     <use xlink:href=\"#m137e669a13\" x=\"255.51108\" y=\"267.53351\" style=\"fill: #1f77b4; stroke: #1f77b4\"/>\n",
       "     <use xlink:href=\"#m137e669a13\" x=\"269.601989\" y=\"272.006882\" style=\"fill: #1f77b4; stroke: #1f77b4\"/>\n",
       "     <use xlink:href=\"#m137e669a13\" x=\"283.692898\" y=\"279.462504\" style=\"fill: #1f77b4; stroke: #1f77b4\"/>\n",
       "     <use xlink:href=\"#m137e669a13\" x=\"297.783807\" y=\"270.515758\" style=\"fill: #1f77b4; stroke: #1f77b4\"/>\n",
       "     <use xlink:href=\"#m137e669a13\" x=\"311.874716\" y=\"249.640018\" style=\"fill: #1f77b4; stroke: #1f77b4\"/>\n",
       "     <use xlink:href=\"#m137e669a13\" x=\"325.965625\" y=\"260.077888\" style=\"fill: #1f77b4; stroke: #1f77b4\"/>\n",
       "     <use xlink:href=\"#m137e669a13\" x=\"340.056534\" y=\"251.131143\" style=\"fill: #1f77b4; stroke: #1f77b4\"/>\n",
       "     <use xlink:href=\"#m137e669a13\" x=\"354.147443\" y=\"260.077888\" style=\"fill: #1f77b4; stroke: #1f77b4\"/>\n",
       "     <use xlink:href=\"#m137e669a13\" x=\"368.238352\" y=\"248.148894\" style=\"fill: #1f77b4; stroke: #1f77b4\"/>\n",
       "     <use xlink:href=\"#m137e669a13\" x=\"382.329261\" y=\"246.65777\" style=\"fill: #1f77b4; stroke: #1f77b4\"/>\n",
       "     <use xlink:href=\"#m137e669a13\" x=\"396.42017\" y=\"243.675521\" style=\"fill: #1f77b4; stroke: #1f77b4\"/>\n",
       "     <use xlink:href=\"#m137e669a13\" x=\"410.51108\" y=\"231.746527\" style=\"fill: #1f77b4; stroke: #1f77b4\"/>\n",
       "     <use xlink:href=\"#m137e669a13\" x=\"424.601989\" y=\"227.273155\" style=\"fill: #1f77b4; stroke: #1f77b4\"/>\n",
       "     <use xlink:href=\"#m137e669a13\" x=\"438.692898\" y=\"191.486172\" style=\"fill: #1f77b4; stroke: #1f77b4\"/>\n",
       "     <use xlink:href=\"#m137e669a13\" x=\"452.783807\" y=\"203.415166\" style=\"fill: #1f77b4; stroke: #1f77b4\"/>\n",
       "     <use xlink:href=\"#m137e669a13\" x=\"466.874716\" y=\"204.906291\" style=\"fill: #1f77b4; stroke: #1f77b4\"/>\n",
       "     <use xlink:href=\"#m137e669a13\" x=\"480.965625\" y=\"185.521675\" style=\"fill: #1f77b4; stroke: #1f77b4\"/>\n",
       "     <use xlink:href=\"#m137e669a13\" x=\"495.056534\" y=\"175.083805\" style=\"fill: #1f77b4; stroke: #1f77b4\"/>\n",
       "     <use xlink:href=\"#m137e669a13\" x=\"509.147443\" y=\"113.947711\" style=\"fill: #1f77b4; stroke: #1f77b4\"/>\n",
       "     <use xlink:href=\"#m137e669a13\" x=\"523.238352\" y=\"60.267237\" style=\"fill: #1f77b4; stroke: #1f77b4\"/>\n",
       "     <use xlink:href=\"#m137e669a13\" x=\"537.329261\" y=\"34.918125\" style=\"fill: #1f77b4; stroke: #1f77b4\"/>\n",
       "     <use xlink:href=\"#m137e669a13\" x=\"551.42017\" y=\"76.669604\" style=\"fill: #1f77b4; stroke: #1f77b4\"/>\n",
       "     <use xlink:href=\"#m137e669a13\" x=\"565.51108\" y=\"134.82345\" style=\"fill: #1f77b4; stroke: #1f77b4\"/>\n",
       "     <use xlink:href=\"#m137e669a13\" x=\"579.601989\" y=\"242.184397\" style=\"fill: #1f77b4; stroke: #1f77b4\"/>\n",
       "    </g>\n",
       "   </g>\n",
       "   <g id=\"patch_3\">\n",
       "    <path d=\"M 46.965625 299.518125 \n",
       "L 46.965625 22.318125 \n",
       "\" style=\"fill: none; stroke: #000000; stroke-width: 0.8; stroke-linejoin: miter; stroke-linecap: square\"/>\n",
       "   </g>\n",
       "   <g id=\"patch_4\">\n",
       "    <path d=\"M 604.965625 299.518125 \n",
       "L 604.965625 22.318125 \n",
       "\" style=\"fill: none; stroke: #000000; stroke-width: 0.8; stroke-linejoin: miter; stroke-linecap: square\"/>\n",
       "   </g>\n",
       "   <g id=\"patch_5\">\n",
       "    <path d=\"M 46.965625 299.518125 \n",
       "L 604.965625 299.518125 \n",
       "\" style=\"fill: none; stroke: #000000; stroke-width: 0.8; stroke-linejoin: miter; stroke-linecap: square\"/>\n",
       "   </g>\n",
       "   <g id=\"patch_6\">\n",
       "    <path d=\"M 46.965625 22.318125 \n",
       "L 604.965625 22.318125 \n",
       "\" style=\"fill: none; stroke: #000000; stroke-width: 0.8; stroke-linejoin: miter; stroke-linecap: square\"/>\n",
       "   </g>\n",
       "   <g id=\"text_21\">\n",
       "    <!-- Number of released videos -->\n",
       "    <g transform=\"translate(245.156875 16.318125) scale(0.12 -0.12)\">\n",
       "     <use xlink:href=\"#DejaVuSans-4e\"/>\n",
       "     <use xlink:href=\"#DejaVuSans-75\" x=\"74.804688\"/>\n",
       "     <use xlink:href=\"#DejaVuSans-6d\" x=\"138.183594\"/>\n",
       "     <use xlink:href=\"#DejaVuSans-62\" x=\"235.595703\"/>\n",
       "     <use xlink:href=\"#DejaVuSans-65\" x=\"299.072266\"/>\n",
       "     <use xlink:href=\"#DejaVuSans-72\" x=\"360.595703\"/>\n",
       "     <use xlink:href=\"#DejaVuSans-20\" x=\"401.708984\"/>\n",
       "     <use xlink:href=\"#DejaVuSans-6f\" x=\"433.496094\"/>\n",
       "     <use xlink:href=\"#DejaVuSans-66\" x=\"494.677734\"/>\n",
       "     <use xlink:href=\"#DejaVuSans-20\" x=\"529.882812\"/>\n",
       "     <use xlink:href=\"#DejaVuSans-72\" x=\"561.669922\"/>\n",
       "     <use xlink:href=\"#DejaVuSans-65\" x=\"600.533203\"/>\n",
       "     <use xlink:href=\"#DejaVuSans-6c\" x=\"662.056641\"/>\n",
       "     <use xlink:href=\"#DejaVuSans-65\" x=\"689.839844\"/>\n",
       "     <use xlink:href=\"#DejaVuSans-61\" x=\"751.363281\"/>\n",
       "     <use xlink:href=\"#DejaVuSans-73\" x=\"812.642578\"/>\n",
       "     <use xlink:href=\"#DejaVuSans-65\" x=\"864.742188\"/>\n",
       "     <use xlink:href=\"#DejaVuSans-64\" x=\"926.265625\"/>\n",
       "     <use xlink:href=\"#DejaVuSans-20\" x=\"989.742188\"/>\n",
       "     <use xlink:href=\"#DejaVuSans-76\" x=\"1021.529297\"/>\n",
       "     <use xlink:href=\"#DejaVuSans-69\" x=\"1080.708984\"/>\n",
       "     <use xlink:href=\"#DejaVuSans-64\" x=\"1108.492188\"/>\n",
       "     <use xlink:href=\"#DejaVuSans-65\" x=\"1171.96875\"/>\n",
       "     <use xlink:href=\"#DejaVuSans-6f\" x=\"1233.492188\"/>\n",
       "     <use xlink:href=\"#DejaVuSans-73\" x=\"1294.673828\"/>\n",
       "    </g>\n",
       "   </g>\n",
       "  </g>\n",
       " </g>\n",
       " <defs>\n",
       "  <clipPath id=\"pcc67f2e1dc\">\n",
       "   <rect x=\"46.965625\" y=\"22.318125\" width=\"558\" height=\"277.2\"/>\n",
       "  </clipPath>\n",
       " </defs>\n",
       "</svg>\n"
      ],
      "text/plain": [
       "<Figure size 1000x500 with 1 Axes>"
      ]
     },
     "metadata": {},
     "output_type": "display_data"
    }
   ],
   "source": [
    "df = data.groupby('video_id').publishedAt.first().reset_index()\n",
    "df = df.publishedAt.dt.date.value_counts().sort_index(ascending=False)\n",
    "\n",
    "plt.figure(figsize=(10,5))\n",
    "plt.title('Number of released videos')\n",
    "\n",
    "df.plot(marker='.')\n",
    "\n",
    "plt.xticks(rotation=45)\n",
    "plt.xlabel('Publication date')\n",
    "plt.ylabel('Number of videos')\n",
    "plt.grid(True)\n",
    "plt.show()"
   ]
  },
  {
   "cell_type": "markdown",
   "id": "f74bcf7e",
   "metadata": {
    "ExecuteTime": {
     "end_time": "2024-02-06T07:47:03.246403Z",
     "start_time": "2024-02-06T07:47:03.238312Z"
    },
    "id": "f74bcf7e"
   },
   "source": [
    "Similarly bar plots are obtained by `.bar` method.\n",
    "\n",
    "Build a bar plot of the number of published videos depending on the country:"
   ]
  },
  {
   "cell_type": "code",
   "execution_count": 94,
   "id": "b2d0c977",
   "metadata": {
    "ExecuteTime": {
     "end_time": "2024-02-06T07:52:42.641932Z",
     "start_time": "2024-02-06T07:52:42.351755Z"
    },
    "id": "b2d0c977",
    "outputId": "a0932395-6de6-4f10-f59e-7bf7a0d8a0ad"
   },
   "outputs": [
    {
     "data": {
      "image/svg+xml": [
       "<?xml version=\"1.0\" encoding=\"utf-8\" standalone=\"no\"?>\n",
       "<!DOCTYPE svg PUBLIC \"-//W3C//DTD SVG 1.1//EN\"\n",
       "  \"http://www.w3.org/Graphics/SVG/1.1/DTD/svg11.dtd\">\n",
       "<svg xmlns:xlink=\"http://www.w3.org/1999/xlink\" width=\"556.365625pt\" height=\"289.737776pt\" viewBox=\"0 0 556.365625 289.737776\" xmlns=\"http://www.w3.org/2000/svg\" version=\"1.1\">\n",
       " <metadata>\n",
       "  <rdf:RDF xmlns:dc=\"http://purl.org/dc/elements/1.1/\" xmlns:cc=\"http://creativecommons.org/ns#\" xmlns:rdf=\"http://www.w3.org/1999/02/22-rdf-syntax-ns#\">\n",
       "   <cc:Work>\n",
       "    <dc:type rdf:resource=\"http://purl.org/dc/dcmitype/StillImage\"/>\n",
       "    <dc:date>2025-02-25T17:53:03.852329</dc:date>\n",
       "    <dc:format>image/svg+xml</dc:format>\n",
       "    <dc:creator>\n",
       "     <cc:Agent>\n",
       "      <dc:title>Matplotlib v3.7.1, https://matplotlib.org/</dc:title>\n",
       "     </cc:Agent>\n",
       "    </dc:creator>\n",
       "   </cc:Work>\n",
       "  </rdf:RDF>\n",
       " </metadata>\n",
       " <defs>\n",
       "  <style type=\"text/css\">*{stroke-linejoin: round; stroke-linecap: butt}</style>\n",
       " </defs>\n",
       " <g id=\"figure_1\">\n",
       "  <g id=\"patch_1\">\n",
       "   <path d=\"M 0 289.737776 \n",
       "L 556.365625 289.737776 \n",
       "L 556.365625 0 \n",
       "L 0 0 \n",
       "z\n",
       "\" style=\"fill: #ffffff\"/>\n",
       "  </g>\n",
       "  <g id=\"axes_1\">\n",
       "   <g id=\"patch_2\">\n",
       "    <path d=\"M 46.965625 244.078125 \n",
       "L 549.165625 244.078125 \n",
       "L 549.165625 22.318125 \n",
       "L 46.965625 22.318125 \n",
       "z\n",
       "\" style=\"fill: #ffffff\"/>\n",
       "   </g>\n",
       "   <g id=\"patch_3\">\n",
       "    <path d=\"M 69.792898 244.078125 \n",
       "L 89.220364 244.078125 \n",
       "L 89.220364 32.878125 \n",
       "L 69.792898 32.878125 \n",
       "z\n",
       "\" clip-path=\"url(#pee5ba1d59b)\" style=\"fill: #1f77b4\"/>\n",
       "   </g>\n",
       "   <g id=\"patch_4\">\n",
       "    <path d=\"M 94.07723 244.078125 \n",
       "L 113.504697 244.078125 \n",
       "L 113.504697 32.878125 \n",
       "L 94.07723 32.878125 \n",
       "z\n",
       "\" clip-path=\"url(#pee5ba1d59b)\" style=\"fill: #1f77b4\"/>\n",
       "   </g>\n",
       "   <g id=\"patch_5\">\n",
       "    <path d=\"M 118.361563 244.078125 \n",
       "L 137.789029 244.078125 \n",
       "L 137.789029 32.878125 \n",
       "L 118.361563 32.878125 \n",
       "z\n",
       "\" clip-path=\"url(#pee5ba1d59b)\" style=\"fill: #1f77b4\"/>\n",
       "   </g>\n",
       "   <g id=\"patch_6\">\n",
       "    <path d=\"M 142.645896 244.078125 \n",
       "L 162.073362 244.078125 \n",
       "L 162.073362 32.878125 \n",
       "L 142.645896 32.878125 \n",
       "z\n",
       "\" clip-path=\"url(#pee5ba1d59b)\" style=\"fill: #1f77b4\"/>\n",
       "   </g>\n",
       "   <g id=\"patch_7\">\n",
       "    <path d=\"M 166.930228 244.078125 \n",
       "L 186.357695 244.078125 \n",
       "L 186.357695 32.878125 \n",
       "L 166.930228 32.878125 \n",
       "z\n",
       "\" clip-path=\"url(#pee5ba1d59b)\" style=\"fill: #1f77b4\"/>\n",
       "   </g>\n",
       "   <g id=\"patch_8\">\n",
       "    <path d=\"M 191.214561 244.078125 \n",
       "L 210.642027 244.078125 \n",
       "L 210.642027 32.878125 \n",
       "L 191.214561 32.878125 \n",
       "z\n",
       "\" clip-path=\"url(#pee5ba1d59b)\" style=\"fill: #1f77b4\"/>\n",
       "   </g>\n",
       "   <g id=\"patch_9\">\n",
       "    <path d=\"M 215.498894 244.078125 \n",
       "L 234.92636 244.078125 \n",
       "L 234.92636 32.878125 \n",
       "L 215.498894 32.878125 \n",
       "z\n",
       "\" clip-path=\"url(#pee5ba1d59b)\" style=\"fill: #1f77b4\"/>\n",
       "   </g>\n",
       "   <g id=\"patch_10\">\n",
       "    <path d=\"M 239.783227 244.078125 \n",
       "L 259.210693 244.078125 \n",
       "L 259.210693 53.998125 \n",
       "L 239.783227 53.998125 \n",
       "z\n",
       "\" clip-path=\"url(#pee5ba1d59b)\" style=\"fill: #1f77b4\"/>\n",
       "   </g>\n",
       "   <g id=\"patch_11\">\n",
       "    <path d=\"M 264.067559 244.078125 \n",
       "L 283.495025 244.078125 \n",
       "L 283.495025 71.950125 \n",
       "L 264.067559 71.950125 \n",
       "z\n",
       "\" clip-path=\"url(#pee5ba1d59b)\" style=\"fill: #1f77b4\"/>\n",
       "   </g>\n",
       "   <g id=\"patch_12\">\n",
       "    <path d=\"M 288.351892 244.078125 \n",
       "L 307.779358 244.078125 \n",
       "L 307.779358 86.734125 \n",
       "L 288.351892 86.734125 \n",
       "z\n",
       "\" clip-path=\"url(#pee5ba1d59b)\" style=\"fill: #1f77b4\"/>\n",
       "   </g>\n",
       "   <g id=\"patch_13\">\n",
       "    <path d=\"M 312.636225 244.078125 \n",
       "L 332.063691 244.078125 \n",
       "L 332.063691 90.958125 \n",
       "L 312.636225 90.958125 \n",
       "z\n",
       "\" clip-path=\"url(#pee5ba1d59b)\" style=\"fill: #1f77b4\"/>\n",
       "   </g>\n",
       "   <g id=\"patch_14\">\n",
       "    <path d=\"M 336.920557 244.078125 \n",
       "L 356.348023 244.078125 \n",
       "L 356.348023 98.350125 \n",
       "L 336.920557 98.350125 \n",
       "z\n",
       "\" clip-path=\"url(#pee5ba1d59b)\" style=\"fill: #1f77b4\"/>\n",
       "   </g>\n",
       "   <g id=\"patch_15\">\n",
       "    <path d=\"M 361.20489 244.078125 \n",
       "L 380.632356 244.078125 \n",
       "L 380.632356 102.574125 \n",
       "L 361.20489 102.574125 \n",
       "z\n",
       "\" clip-path=\"url(#pee5ba1d59b)\" style=\"fill: #1f77b4\"/>\n",
       "   </g>\n",
       "   <g id=\"patch_16\">\n",
       "    <path d=\"M 385.489223 244.078125 \n",
       "L 404.916689 244.078125 \n",
       "L 404.916689 109.966125 \n",
       "L 385.489223 109.966125 \n",
       "z\n",
       "\" clip-path=\"url(#pee5ba1d59b)\" style=\"fill: #1f77b4\"/>\n",
       "   </g>\n",
       "   <g id=\"patch_17\">\n",
       "    <path d=\"M 409.773555 244.078125 \n",
       "L 429.201022 244.078125 \n",
       "L 429.201022 109.966125 \n",
       "L 409.773555 109.966125 \n",
       "z\n",
       "\" clip-path=\"url(#pee5ba1d59b)\" style=\"fill: #1f77b4\"/>\n",
       "   </g>\n",
       "   <g id=\"patch_18\">\n",
       "    <path d=\"M 434.057888 244.078125 \n",
       "L 453.485354 244.078125 \n",
       "L 453.485354 113.134125 \n",
       "L 434.057888 113.134125 \n",
       "z\n",
       "\" clip-path=\"url(#pee5ba1d59b)\" style=\"fill: #1f77b4\"/>\n",
       "   </g>\n",
       "   <g id=\"patch_19\">\n",
       "    <path d=\"M 458.342221 244.078125 \n",
       "L 477.769687 244.078125 \n",
       "L 477.769687 120.526125 \n",
       "L 458.342221 120.526125 \n",
       "z\n",
       "\" clip-path=\"url(#pee5ba1d59b)\" style=\"fill: #1f77b4\"/>\n",
       "   </g>\n",
       "   <g id=\"patch_20\">\n",
       "    <path d=\"M 482.626553 244.078125 \n",
       "L 502.05402 244.078125 \n",
       "L 502.05402 124.750125 \n",
       "L 482.626553 124.750125 \n",
       "z\n",
       "\" clip-path=\"url(#pee5ba1d59b)\" style=\"fill: #1f77b4\"/>\n",
       "   </g>\n",
       "   <g id=\"patch_21\">\n",
       "    <path d=\"M 506.910886 244.078125 \n",
       "L 526.338352 244.078125 \n",
       "L 526.338352 134.254125 \n",
       "L 506.910886 134.254125 \n",
       "z\n",
       "\" clip-path=\"url(#pee5ba1d59b)\" style=\"fill: #1f77b4\"/>\n",
       "   </g>\n",
       "   <g id=\"matplotlib.axis_1\">\n",
       "    <g id=\"xtick_1\">\n",
       "     <g id=\"line2d_1\">\n",
       "      <defs>\n",
       "       <path id=\"mb590628ab4\" d=\"M 0 0 \n",
       "L 0 3.5 \n",
       "\" style=\"stroke: #000000; stroke-width: 0.8\"/>\n",
       "      </defs>\n",
       "      <g>\n",
       "       <use xlink:href=\"#mb590628ab4\" x=\"79.506631\" y=\"244.078125\" style=\"stroke: #000000; stroke-width: 0.8\"/>\n",
       "      </g>\n",
       "     </g>\n",
       "     <g id=\"text_1\">\n",
       "      <!-- LB -->\n",
       "      <g transform=\"translate(77.062141 265.242358) rotate(-45) scale(0.1 -0.1)\">\n",
       "       <defs>\n",
       "        <path id=\"DejaVuSans-4c\" d=\"M 628 4666 \n",
       "L 1259 4666 \n",
       "L 1259 531 \n",
       "L 3531 531 \n",
       "L 3531 0 \n",
       "L 628 0 \n",
       "L 628 4666 \n",
       "z\n",
       "\" transform=\"scale(0.015625)\"/>\n",
       "        <path id=\"DejaVuSans-42\" d=\"M 1259 2228 \n",
       "L 1259 519 \n",
       "L 2272 519 \n",
       "Q 2781 519 3026 730 \n",
       "Q 3272 941 3272 1375 \n",
       "Q 3272 1813 3026 2020 \n",
       "Q 2781 2228 2272 2228 \n",
       "L 1259 2228 \n",
       "z\n",
       "M 1259 4147 \n",
       "L 1259 2741 \n",
       "L 2194 2741 \n",
       "Q 2656 2741 2882 2914 \n",
       "Q 3109 3088 3109 3444 \n",
       "Q 3109 3797 2882 3972 \n",
       "Q 2656 4147 2194 4147 \n",
       "L 1259 4147 \n",
       "z\n",
       "M 628 4666 \n",
       "L 2241 4666 \n",
       "Q 2963 4666 3353 4366 \n",
       "Q 3744 4066 3744 3513 \n",
       "Q 3744 3084 3544 2831 \n",
       "Q 3344 2578 2956 2516 \n",
       "Q 3422 2416 3680 2098 \n",
       "Q 3938 1781 3938 1306 \n",
       "Q 3938 681 3513 340 \n",
       "Q 3088 0 2303 0 \n",
       "L 628 0 \n",
       "L 628 4666 \n",
       "z\n",
       "\" transform=\"scale(0.015625)\"/>\n",
       "       </defs>\n",
       "       <use xlink:href=\"#DejaVuSans-4c\"/>\n",
       "       <use xlink:href=\"#DejaVuSans-42\" x=\"55.712891\"/>\n",
       "      </g>\n",
       "     </g>\n",
       "    </g>\n",
       "    <g id=\"xtick_2\">\n",
       "     <g id=\"line2d_2\">\n",
       "      <g>\n",
       "       <use xlink:href=\"#mb590628ab4\" x=\"103.790963\" y=\"244.078125\" style=\"stroke: #000000; stroke-width: 0.8\"/>\n",
       "      </g>\n",
       "     </g>\n",
       "     <g id=\"text_2\">\n",
       "      <!-- DZ -->\n",
       "      <g transform=\"translate(100.597934 266.739435) rotate(-45) scale(0.1 -0.1)\">\n",
       "       <defs>\n",
       "        <path id=\"DejaVuSans-44\" d=\"M 1259 4147 \n",
       "L 1259 519 \n",
       "L 2022 519 \n",
       "Q 2988 519 3436 956 \n",
       "Q 3884 1394 3884 2338 \n",
       "Q 3884 3275 3436 3711 \n",
       "Q 2988 4147 2022 4147 \n",
       "L 1259 4147 \n",
       "z\n",
       "M 628 4666 \n",
       "L 1925 4666 \n",
       "Q 3281 4666 3915 4102 \n",
       "Q 4550 3538 4550 2338 \n",
       "Q 4550 1131 3912 565 \n",
       "Q 3275 0 1925 0 \n",
       "L 628 0 \n",
       "L 628 4666 \n",
       "z\n",
       "\" transform=\"scale(0.015625)\"/>\n",
       "        <path id=\"DejaVuSans-5a\" d=\"M 359 4666 \n",
       "L 4025 4666 \n",
       "L 4025 4184 \n",
       "L 1075 531 \n",
       "L 4097 531 \n",
       "L 4097 0 \n",
       "L 288 0 \n",
       "L 288 481 \n",
       "L 3238 4134 \n",
       "L 359 4134 \n",
       "L 359 4666 \n",
       "z\n",
       "\" transform=\"scale(0.015625)\"/>\n",
       "       </defs>\n",
       "       <use xlink:href=\"#DejaVuSans-44\"/>\n",
       "       <use xlink:href=\"#DejaVuSans-5a\" x=\"77.001953\"/>\n",
       "      </g>\n",
       "     </g>\n",
       "    </g>\n",
       "    <g id=\"xtick_3\">\n",
       "     <g id=\"line2d_3\">\n",
       "      <g>\n",
       "       <use xlink:href=\"#mb590628ab4\" x=\"128.075296\" y=\"244.078125\" style=\"stroke: #000000; stroke-width: 0.8\"/>\n",
       "      </g>\n",
       "     </g>\n",
       "     <g id=\"text_3\">\n",
       "      <!-- EG -->\n",
       "      <g transform=\"translate(125.052967 266.398035) rotate(-45) scale(0.1 -0.1)\">\n",
       "       <defs>\n",
       "        <path id=\"DejaVuSans-45\" d=\"M 628 4666 \n",
       "L 3578 4666 \n",
       "L 3578 4134 \n",
       "L 1259 4134 \n",
       "L 1259 2753 \n",
       "L 3481 2753 \n",
       "L 3481 2222 \n",
       "L 1259 2222 \n",
       "L 1259 531 \n",
       "L 3634 531 \n",
       "L 3634 0 \n",
       "L 628 0 \n",
       "L 628 4666 \n",
       "z\n",
       "\" transform=\"scale(0.015625)\"/>\n",
       "        <path id=\"DejaVuSans-47\" d=\"M 3809 666 \n",
       "L 3809 1919 \n",
       "L 2778 1919 \n",
       "L 2778 2438 \n",
       "L 4434 2438 \n",
       "L 4434 434 \n",
       "Q 4069 175 3628 42 \n",
       "Q 3188 -91 2688 -91 \n",
       "Q 1594 -91 976 548 \n",
       "Q 359 1188 359 2328 \n",
       "Q 359 3472 976 4111 \n",
       "Q 1594 4750 2688 4750 \n",
       "Q 3144 4750 3555 4637 \n",
       "Q 3966 4525 4313 4306 \n",
       "L 4313 3634 \n",
       "Q 3963 3931 3569 4081 \n",
       "Q 3175 4231 2741 4231 \n",
       "Q 1884 4231 1454 3753 \n",
       "Q 1025 3275 1025 2328 \n",
       "Q 1025 1384 1454 906 \n",
       "Q 1884 428 2741 428 \n",
       "Q 3075 428 3337 486 \n",
       "Q 3600 544 3809 666 \n",
       "z\n",
       "\" transform=\"scale(0.015625)\"/>\n",
       "       </defs>\n",
       "       <use xlink:href=\"#DejaVuSans-45\"/>\n",
       "       <use xlink:href=\"#DejaVuSans-47\" x=\"63.183594\"/>\n",
       "      </g>\n",
       "     </g>\n",
       "    </g>\n",
       "    <g id=\"xtick_4\">\n",
       "     <g id=\"line2d_4\">\n",
       "      <g>\n",
       "       <use xlink:href=\"#mb590628ab4\" x=\"152.359629\" y=\"244.078125\" style=\"stroke: #000000; stroke-width: 0.8\"/>\n",
       "      </g>\n",
       "     </g>\n",
       "     <g id=\"text_4\">\n",
       "      <!-- TN -->\n",
       "      <g transform=\"translate(149.506343 266.05995) rotate(-45) scale(0.1 -0.1)\">\n",
       "       <defs>\n",
       "        <path id=\"DejaVuSans-54\" d=\"M -19 4666 \n",
       "L 3928 4666 \n",
       "L 3928 4134 \n",
       "L 2272 4134 \n",
       "L 2272 0 \n",
       "L 1638 0 \n",
       "L 1638 4134 \n",
       "L -19 4134 \n",
       "L -19 4666 \n",
       "z\n",
       "\" transform=\"scale(0.015625)\"/>\n",
       "        <path id=\"DejaVuSans-4e\" d=\"M 628 4666 \n",
       "L 1478 4666 \n",
       "L 3547 763 \n",
       "L 3547 4666 \n",
       "L 4159 4666 \n",
       "L 4159 0 \n",
       "L 3309 0 \n",
       "L 1241 3903 \n",
       "L 1241 0 \n",
       "L 628 0 \n",
       "L 628 4666 \n",
       "z\n",
       "\" transform=\"scale(0.015625)\"/>\n",
       "       </defs>\n",
       "       <use xlink:href=\"#DejaVuSans-54\"/>\n",
       "       <use xlink:href=\"#DejaVuSans-4e\" x=\"61.083984\"/>\n",
       "      </g>\n",
       "     </g>\n",
       "    </g>\n",
       "    <g id=\"xtick_5\">\n",
       "     <g id=\"line2d_5\">\n",
       "      <g>\n",
       "       <use xlink:href=\"#mb590628ab4\" x=\"176.643962\" y=\"244.078125\" style=\"stroke: #000000; stroke-width: 0.8\"/>\n",
       "      </g>\n",
       "     </g>\n",
       "     <g id=\"text_5\">\n",
       "      <!-- FR -->\n",
       "      <g transform=\"translate(174.105006 265.431288) rotate(-45) scale(0.1 -0.1)\">\n",
       "       <defs>\n",
       "        <path id=\"DejaVuSans-46\" d=\"M 628 4666 \n",
       "L 3309 4666 \n",
       "L 3309 4134 \n",
       "L 1259 4134 \n",
       "L 1259 2759 \n",
       "L 3109 2759 \n",
       "L 3109 2228 \n",
       "L 1259 2228 \n",
       "L 1259 0 \n",
       "L 628 0 \n",
       "L 628 4666 \n",
       "z\n",
       "\" transform=\"scale(0.015625)\"/>\n",
       "        <path id=\"DejaVuSans-52\" d=\"M 2841 2188 \n",
       "Q 3044 2119 3236 1894 \n",
       "Q 3428 1669 3622 1275 \n",
       "L 4263 0 \n",
       "L 3584 0 \n",
       "L 2988 1197 \n",
       "Q 2756 1666 2539 1819 \n",
       "Q 2322 1972 1947 1972 \n",
       "L 1259 1972 \n",
       "L 1259 0 \n",
       "L 628 0 \n",
       "L 628 4666 \n",
       "L 2053 4666 \n",
       "Q 2853 4666 3247 4331 \n",
       "Q 3641 3997 3641 3322 \n",
       "Q 3641 2881 3436 2590 \n",
       "Q 3231 2300 2841 2188 \n",
       "z\n",
       "M 1259 4147 \n",
       "L 1259 2491 \n",
       "L 2053 2491 \n",
       "Q 2509 2491 2742 2702 \n",
       "Q 2975 2913 2975 3322 \n",
       "Q 2975 3731 2742 3939 \n",
       "Q 2509 4147 2053 4147 \n",
       "L 1259 4147 \n",
       "z\n",
       "\" transform=\"scale(0.015625)\"/>\n",
       "       </defs>\n",
       "       <use xlink:href=\"#DejaVuSans-46\"/>\n",
       "       <use xlink:href=\"#DejaVuSans-52\" x=\"57.519531\"/>\n",
       "      </g>\n",
       "     </g>\n",
       "    </g>\n",
       "    <g id=\"xtick_6\">\n",
       "     <g id=\"line2d_6\">\n",
       "      <g>\n",
       "       <use xlink:href=\"#mb590628ab4\" x=\"200.928294\" y=\"244.078125\" style=\"stroke: #000000; stroke-width: 0.8\"/>\n",
       "      </g>\n",
       "     </g>\n",
       "     <g id=\"text_6\">\n",
       "      <!-- MA -->\n",
       "      <g transform=\"translate(197.410438 267.38909) rotate(-45) scale(0.1 -0.1)\">\n",
       "       <defs>\n",
       "        <path id=\"DejaVuSans-4d\" d=\"M 628 4666 \n",
       "L 1569 4666 \n",
       "L 2759 1491 \n",
       "L 3956 4666 \n",
       "L 4897 4666 \n",
       "L 4897 0 \n",
       "L 4281 0 \n",
       "L 4281 4097 \n",
       "L 3078 897 \n",
       "L 2444 897 \n",
       "L 1241 4097 \n",
       "L 1241 0 \n",
       "L 628 0 \n",
       "L 628 4666 \n",
       "z\n",
       "\" transform=\"scale(0.015625)\"/>\n",
       "        <path id=\"DejaVuSans-41\" d=\"M 2188 4044 \n",
       "L 1331 1722 \n",
       "L 3047 1722 \n",
       "L 2188 4044 \n",
       "z\n",
       "M 1831 4666 \n",
       "L 2547 4666 \n",
       "L 4325 0 \n",
       "L 3669 0 \n",
       "L 3244 1197 \n",
       "L 1141 1197 \n",
       "L 716 0 \n",
       "L 50 0 \n",
       "L 1831 4666 \n",
       "z\n",
       "\" transform=\"scale(0.015625)\"/>\n",
       "       </defs>\n",
       "       <use xlink:href=\"#DejaVuSans-4d\"/>\n",
       "       <use xlink:href=\"#DejaVuSans-41\" x=\"86.279297\"/>\n",
       "      </g>\n",
       "     </g>\n",
       "    </g>\n",
       "    <g id=\"xtick_7\">\n",
       "     <g id=\"line2d_7\">\n",
       "      <g>\n",
       "       <use xlink:href=\"#mb590628ab4\" x=\"225.212627\" y=\"244.078125\" style=\"stroke: #000000; stroke-width: 0.8\"/>\n",
       "      </g>\n",
       "     </g>\n",
       "     <g id=\"text_7\">\n",
       "      <!-- LY -->\n",
       "      <g transform=\"translate(223.502865 263.772901) rotate(-45) scale(0.1 -0.1)\">\n",
       "       <defs>\n",
       "        <path id=\"DejaVuSans-59\" d=\"M -13 4666 \n",
       "L 666 4666 \n",
       "L 1959 2747 \n",
       "L 3244 4666 \n",
       "L 3922 4666 \n",
       "L 2272 2222 \n",
       "L 2272 0 \n",
       "L 1638 0 \n",
       "L 1638 2222 \n",
       "L -13 4666 \n",
       "z\n",
       "\" transform=\"scale(0.015625)\"/>\n",
       "       </defs>\n",
       "       <use xlink:href=\"#DejaVuSans-4c\"/>\n",
       "       <use xlink:href=\"#DejaVuSans-59\" x=\"42.462891\"/>\n",
       "      </g>\n",
       "     </g>\n",
       "    </g>\n",
       "    <g id=\"xtick_8\">\n",
       "     <g id=\"line2d_8\">\n",
       "      <g>\n",
       "       <use xlink:href=\"#mb590628ab4\" x=\"249.49696\" y=\"244.078125\" style=\"stroke: #000000; stroke-width: 0.8\"/>\n",
       "      </g>\n",
       "     </g>\n",
       "     <g id=\"text_8\">\n",
       "      <!-- CY -->\n",
       "      <g transform=\"translate(246.881769 265.583758) rotate(-45) scale(0.1 -0.1)\">\n",
       "       <defs>\n",
       "        <path id=\"DejaVuSans-43\" d=\"M 4122 4306 \n",
       "L 4122 3641 \n",
       "Q 3803 3938 3442 4084 \n",
       "Q 3081 4231 2675 4231 \n",
       "Q 1875 4231 1450 3742 \n",
       "Q 1025 3253 1025 2328 \n",
       "Q 1025 1406 1450 917 \n",
       "Q 1875 428 2675 428 \n",
       "Q 3081 428 3442 575 \n",
       "Q 3803 722 4122 1019 \n",
       "L 4122 359 \n",
       "Q 3791 134 3420 21 \n",
       "Q 3050 -91 2638 -91 \n",
       "Q 1578 -91 968 557 \n",
       "Q 359 1206 359 2328 \n",
       "Q 359 3453 968 4101 \n",
       "Q 1578 4750 2638 4750 \n",
       "Q 3056 4750 3426 4639 \n",
       "Q 3797 4528 4122 4306 \n",
       "z\n",
       "\" transform=\"scale(0.015625)\"/>\n",
       "       </defs>\n",
       "       <use xlink:href=\"#DejaVuSans-43\"/>\n",
       "       <use xlink:href=\"#DejaVuSans-59\" x=\"68.074219\"/>\n",
       "      </g>\n",
       "     </g>\n",
       "    </g>\n",
       "    <g id=\"xtick_9\">\n",
       "     <g id=\"line2d_9\">\n",
       "      <g>\n",
       "       <use xlink:href=\"#mb590628ab4\" x=\"273.781292\" y=\"244.078125\" style=\"stroke: #000000; stroke-width: 0.8\"/>\n",
       "      </g>\n",
       "     </g>\n",
       "     <g id=\"text_9\">\n",
       "      <!-- SI -->\n",
       "      <g transform=\"translate(272.444971 263.02602) rotate(-45) scale(0.1 -0.1)\">\n",
       "       <defs>\n",
       "        <path id=\"DejaVuSans-53\" d=\"M 3425 4513 \n",
       "L 3425 3897 \n",
       "Q 3066 4069 2747 4153 \n",
       "Q 2428 4238 2131 4238 \n",
       "Q 1616 4238 1336 4038 \n",
       "Q 1056 3838 1056 3469 \n",
       "Q 1056 3159 1242 3001 \n",
       "Q 1428 2844 1947 2747 \n",
       "L 2328 2669 \n",
       "Q 3034 2534 3370 2195 \n",
       "Q 3706 1856 3706 1288 \n",
       "Q 3706 609 3251 259 \n",
       "Q 2797 -91 1919 -91 \n",
       "Q 1588 -91 1214 -16 \n",
       "Q 841 59 441 206 \n",
       "L 441 856 \n",
       "Q 825 641 1194 531 \n",
       "Q 1563 422 1919 422 \n",
       "Q 2459 422 2753 634 \n",
       "Q 3047 847 3047 1241 \n",
       "Q 3047 1584 2836 1778 \n",
       "Q 2625 1972 2144 2069 \n",
       "L 1759 2144 \n",
       "Q 1053 2284 737 2584 \n",
       "Q 422 2884 422 3419 \n",
       "Q 422 4038 858 4394 \n",
       "Q 1294 4750 2059 4750 \n",
       "Q 2388 4750 2728 4690 \n",
       "Q 3069 4631 3425 4513 \n",
       "z\n",
       "\" transform=\"scale(0.015625)\"/>\n",
       "        <path id=\"DejaVuSans-49\" d=\"M 628 4666 \n",
       "L 1259 4666 \n",
       "L 1259 0 \n",
       "L 628 0 \n",
       "L 628 4666 \n",
       "z\n",
       "\" transform=\"scale(0.015625)\"/>\n",
       "       </defs>\n",
       "       <use xlink:href=\"#DejaVuSans-53\"/>\n",
       "       <use xlink:href=\"#DejaVuSans-49\" x=\"63.476562\"/>\n",
       "      </g>\n",
       "     </g>\n",
       "    </g>\n",
       "    <g id=\"xtick_10\">\n",
       "     <g id=\"line2d_10\">\n",
       "      <g>\n",
       "       <use xlink:href=\"#mb590628ab4\" x=\"298.065625\" y=\"244.078125\" style=\"stroke: #000000; stroke-width: 0.8\"/>\n",
       "      </g>\n",
       "     </g>\n",
       "     <g id=\"text_10\">\n",
       "      <!-- IL -->\n",
       "      <g transform=\"translate(297.00386 262.476907) rotate(-45) scale(0.1 -0.1)\">\n",
       "       <use xlink:href=\"#DejaVuSans-49\"/>\n",
       "       <use xlink:href=\"#DejaVuSans-4c\" x=\"29.492188\"/>\n",
       "      </g>\n",
       "     </g>\n",
       "    </g>\n",
       "    <g id=\"xtick_11\">\n",
       "     <g id=\"line2d_11\">\n",
       "      <g>\n",
       "       <use xlink:href=\"#mb590628ab4\" x=\"322.349958\" y=\"244.078125\" style=\"stroke: #000000; stroke-width: 0.8\"/>\n",
       "      </g>\n",
       "     </g>\n",
       "     <g id=\"text_11\">\n",
       "      <!-- TR -->\n",
       "      <g transform=\"translate(319.685049 265.683195) rotate(-45) scale(0.1 -0.1)\">\n",
       "       <use xlink:href=\"#DejaVuSans-54\"/>\n",
       "       <use xlink:href=\"#DejaVuSans-52\" x=\"61.083984\"/>\n",
       "      </g>\n",
       "     </g>\n",
       "    </g>\n",
       "    <g id=\"xtick_12\">\n",
       "     <g id=\"line2d_12\">\n",
       "      <g>\n",
       "       <use xlink:href=\"#mb590628ab4\" x=\"346.63429\" y=\"244.078125\" style=\"stroke: #000000; stroke-width: 0.8\"/>\n",
       "      </g>\n",
       "     </g>\n",
       "     <g id=\"text_12\">\n",
       "      <!-- HR -->\n",
       "      <g transform=\"translate(343.469988 266.681983) rotate(-45) scale(0.1 -0.1)\">\n",
       "       <defs>\n",
       "        <path id=\"DejaVuSans-48\" d=\"M 628 4666 \n",
       "L 1259 4666 \n",
       "L 1259 2753 \n",
       "L 3553 2753 \n",
       "L 3553 4666 \n",
       "L 4184 4666 \n",
       "L 4184 0 \n",
       "L 3553 0 \n",
       "L 3553 2222 \n",
       "L 1259 2222 \n",
       "L 1259 0 \n",
       "L 628 0 \n",
       "L 628 4666 \n",
       "z\n",
       "\" transform=\"scale(0.015625)\"/>\n",
       "       </defs>\n",
       "       <use xlink:href=\"#DejaVuSans-48\"/>\n",
       "       <use xlink:href=\"#DejaVuSans-52\" x=\"75.195312\"/>\n",
       "      </g>\n",
       "     </g>\n",
       "    </g>\n",
       "    <g id=\"xtick_13\">\n",
       "     <g id=\"line2d_13\">\n",
       "      <g>\n",
       "       <use xlink:href=\"#mb590628ab4\" x=\"370.918623\" y=\"244.078125\" style=\"stroke: #000000; stroke-width: 0.8\"/>\n",
       "      </g>\n",
       "     </g>\n",
       "     <g id=\"text_13\">\n",
       "      <!-- ES -->\n",
       "      <g transform=\"translate(368.391269 265.408086) rotate(-45) scale(0.1 -0.1)\">\n",
       "       <use xlink:href=\"#DejaVuSans-45\"/>\n",
       "       <use xlink:href=\"#DejaVuSans-53\" x=\"63.183594\"/>\n",
       "      </g>\n",
       "     </g>\n",
       "    </g>\n",
       "    <g id=\"xtick_14\">\n",
       "     <g id=\"line2d_14\">\n",
       "      <g>\n",
       "       <use xlink:href=\"#mb590628ab4\" x=\"395.202956\" y=\"244.078125\" style=\"stroke: #000000; stroke-width: 0.8\"/>\n",
       "      </g>\n",
       "     </g>\n",
       "     <g id=\"text_14\">\n",
       "      <!-- MT -->\n",
       "      <g transform=\"translate(391.944188 266.870913) rotate(-45) scale(0.1 -0.1)\">\n",
       "       <use xlink:href=\"#DejaVuSans-4d\"/>\n",
       "       <use xlink:href=\"#DejaVuSans-54\" x=\"86.279297\"/>\n",
       "      </g>\n",
       "     </g>\n",
       "    </g>\n",
       "    <g id=\"xtick_15\">\n",
       "     <g id=\"line2d_15\">\n",
       "      <g>\n",
       "       <use xlink:href=\"#mb590628ab4\" x=\"419.487288\" y=\"244.078125\" style=\"stroke: #000000; stroke-width: 0.8\"/>\n",
       "      </g>\n",
       "     </g>\n",
       "     <g id=\"text_15\">\n",
       "      <!-- GR -->\n",
       "      <g transform=\"translate(416.242331 266.843292) rotate(-45) scale(0.1 -0.1)\">\n",
       "       <use xlink:href=\"#DejaVuSans-47\"/>\n",
       "       <use xlink:href=\"#DejaVuSans-52\" x=\"77.490234\"/>\n",
       "      </g>\n",
       "     </g>\n",
       "    </g>\n",
       "    <g id=\"xtick_16\">\n",
       "     <g id=\"line2d_16\">\n",
       "      <g>\n",
       "       <use xlink:href=\"#mb590628ab4\" x=\"443.771621\" y=\"244.078125\" style=\"stroke: #000000; stroke-width: 0.8\"/>\n",
       "      </g>\n",
       "     </g>\n",
       "     <g id=\"text_16\">\n",
       "      <!-- IT -->\n",
       "      <g transform=\"translate(442.520374 262.855872) rotate(-45) scale(0.1 -0.1)\">\n",
       "       <use xlink:href=\"#DejaVuSans-49\"/>\n",
       "       <use xlink:href=\"#DejaVuSans-54\" x=\"29.492188\"/>\n",
       "      </g>\n",
       "     </g>\n",
       "    </g>\n",
       "    <g id=\"xtick_17\">\n",
       "     <g id=\"line2d_17\">\n",
       "      <g>\n",
       "       <use xlink:href=\"#mb590628ab4\" x=\"468.055954\" y=\"244.078125\" style=\"stroke: #000000; stroke-width: 0.8\"/>\n",
       "      </g>\n",
       "     </g>\n",
       "     <g id=\"text_17\">\n",
       "      <!-- AL -->\n",
       "      <g transform=\"translate(465.618645 265.227995) rotate(-45) scale(0.1 -0.1)\">\n",
       "       <use xlink:href=\"#DejaVuSans-41\"/>\n",
       "       <use xlink:href=\"#DejaVuSans-4c\" x=\"68.408203\"/>\n",
       "      </g>\n",
       "     </g>\n",
       "    </g>\n",
       "    <g id=\"xtick_18\">\n",
       "     <g id=\"line2d_18\">\n",
       "      <g>\n",
       "       <use xlink:href=\"#mb590628ab4\" x=\"492.340287\" y=\"244.078125\" style=\"stroke: #000000; stroke-width: 0.8\"/>\n",
       "      </g>\n",
       "     </g>\n",
       "     <g id=\"text_18\">\n",
       "      <!-- BA -->\n",
       "      <g transform=\"translate(489.447225 266.139499) rotate(-45) scale(0.1 -0.1)\">\n",
       "       <use xlink:href=\"#DejaVuSans-42\"/>\n",
       "       <use xlink:href=\"#DejaVuSans-41\" x=\"68.603516\"/>\n",
       "      </g>\n",
       "     </g>\n",
       "    </g>\n",
       "    <g id=\"xtick_19\">\n",
       "     <g id=\"line2d_19\">\n",
       "      <g>\n",
       "       <use xlink:href=\"#mb590628ab4\" x=\"516.624619\" y=\"244.078125\" style=\"stroke: #000000; stroke-width: 0.8\"/>\n",
       "      </g>\n",
       "     </g>\n",
       "     <g id=\"text_19\">\n",
       "      <!-- ME -->\n",
       "      <g transform=\"translate(513.291274 267.020068) rotate(-45) scale(0.1 -0.1)\">\n",
       "       <use xlink:href=\"#DejaVuSans-4d\"/>\n",
       "       <use xlink:href=\"#DejaVuSans-45\" x=\"86.279297\"/>\n",
       "      </g>\n",
       "     </g>\n",
       "    </g>\n",
       "    <g id=\"text_20\">\n",
       "     <!-- Country -->\n",
       "     <g transform=\"translate(278.202344 280.458088) scale(0.1 -0.1)\">\n",
       "      <defs>\n",
       "       <path id=\"DejaVuSans-6f\" d=\"M 1959 3097 \n",
       "Q 1497 3097 1228 2736 \n",
       "Q 959 2375 959 1747 \n",
       "Q 959 1119 1226 758 \n",
       "Q 1494 397 1959 397 \n",
       "Q 2419 397 2687 759 \n",
       "Q 2956 1122 2956 1747 \n",
       "Q 2956 2369 2687 2733 \n",
       "Q 2419 3097 1959 3097 \n",
       "z\n",
       "M 1959 3584 \n",
       "Q 2709 3584 3137 3096 \n",
       "Q 3566 2609 3566 1747 \n",
       "Q 3566 888 3137 398 \n",
       "Q 2709 -91 1959 -91 \n",
       "Q 1206 -91 779 398 \n",
       "Q 353 888 353 1747 \n",
       "Q 353 2609 779 3096 \n",
       "Q 1206 3584 1959 3584 \n",
       "z\n",
       "\" transform=\"scale(0.015625)\"/>\n",
       "       <path id=\"DejaVuSans-75\" d=\"M 544 1381 \n",
       "L 544 3500 \n",
       "L 1119 3500 \n",
       "L 1119 1403 \n",
       "Q 1119 906 1312 657 \n",
       "Q 1506 409 1894 409 \n",
       "Q 2359 409 2629 706 \n",
       "Q 2900 1003 2900 1516 \n",
       "L 2900 3500 \n",
       "L 3475 3500 \n",
       "L 3475 0 \n",
       "L 2900 0 \n",
       "L 2900 538 \n",
       "Q 2691 219 2414 64 \n",
       "Q 2138 -91 1772 -91 \n",
       "Q 1169 -91 856 284 \n",
       "Q 544 659 544 1381 \n",
       "z\n",
       "M 1991 3584 \n",
       "L 1991 3584 \n",
       "z\n",
       "\" transform=\"scale(0.015625)\"/>\n",
       "       <path id=\"DejaVuSans-6e\" d=\"M 3513 2113 \n",
       "L 3513 0 \n",
       "L 2938 0 \n",
       "L 2938 2094 \n",
       "Q 2938 2591 2744 2837 \n",
       "Q 2550 3084 2163 3084 \n",
       "Q 1697 3084 1428 2787 \n",
       "Q 1159 2491 1159 1978 \n",
       "L 1159 0 \n",
       "L 581 0 \n",
       "L 581 3500 \n",
       "L 1159 3500 \n",
       "L 1159 2956 \n",
       "Q 1366 3272 1645 3428 \n",
       "Q 1925 3584 2291 3584 \n",
       "Q 2894 3584 3203 3211 \n",
       "Q 3513 2838 3513 2113 \n",
       "z\n",
       "\" transform=\"scale(0.015625)\"/>\n",
       "       <path id=\"DejaVuSans-74\" d=\"M 1172 4494 \n",
       "L 1172 3500 \n",
       "L 2356 3500 \n",
       "L 2356 3053 \n",
       "L 1172 3053 \n",
       "L 1172 1153 \n",
       "Q 1172 725 1289 603 \n",
       "Q 1406 481 1766 481 \n",
       "L 2356 481 \n",
       "L 2356 0 \n",
       "L 1766 0 \n",
       "Q 1100 0 847 248 \n",
       "Q 594 497 594 1153 \n",
       "L 594 3053 \n",
       "L 172 3053 \n",
       "L 172 3500 \n",
       "L 594 3500 \n",
       "L 594 4494 \n",
       "L 1172 4494 \n",
       "z\n",
       "\" transform=\"scale(0.015625)\"/>\n",
       "       <path id=\"DejaVuSans-72\" d=\"M 2631 2963 \n",
       "Q 2534 3019 2420 3045 \n",
       "Q 2306 3072 2169 3072 \n",
       "Q 1681 3072 1420 2755 \n",
       "Q 1159 2438 1159 1844 \n",
       "L 1159 0 \n",
       "L 581 0 \n",
       "L 581 3500 \n",
       "L 1159 3500 \n",
       "L 1159 2956 \n",
       "Q 1341 3275 1631 3429 \n",
       "Q 1922 3584 2338 3584 \n",
       "Q 2397 3584 2469 3576 \n",
       "Q 2541 3569 2628 3553 \n",
       "L 2631 2963 \n",
       "z\n",
       "\" transform=\"scale(0.015625)\"/>\n",
       "       <path id=\"DejaVuSans-79\" d=\"M 2059 -325 \n",
       "Q 1816 -950 1584 -1140 \n",
       "Q 1353 -1331 966 -1331 \n",
       "L 506 -1331 \n",
       "L 506 -850 \n",
       "L 844 -850 \n",
       "Q 1081 -850 1212 -737 \n",
       "Q 1344 -625 1503 -206 \n",
       "L 1606 56 \n",
       "L 191 3500 \n",
       "L 800 3500 \n",
       "L 1894 763 \n",
       "L 2988 3500 \n",
       "L 3597 3500 \n",
       "L 2059 -325 \n",
       "z\n",
       "\" transform=\"scale(0.015625)\"/>\n",
       "      </defs>\n",
       "      <use xlink:href=\"#DejaVuSans-43\"/>\n",
       "      <use xlink:href=\"#DejaVuSans-6f\" x=\"69.824219\"/>\n",
       "      <use xlink:href=\"#DejaVuSans-75\" x=\"131.005859\"/>\n",
       "      <use xlink:href=\"#DejaVuSans-6e\" x=\"194.384766\"/>\n",
       "      <use xlink:href=\"#DejaVuSans-74\" x=\"257.763672\"/>\n",
       "      <use xlink:href=\"#DejaVuSans-72\" x=\"296.972656\"/>\n",
       "      <use xlink:href=\"#DejaVuSans-79\" x=\"338.085938\"/>\n",
       "     </g>\n",
       "    </g>\n",
       "   </g>\n",
       "   <g id=\"matplotlib.axis_2\">\n",
       "    <g id=\"ytick_1\">\n",
       "     <g id=\"line2d_20\">\n",
       "      <defs>\n",
       "       <path id=\"m28c9b07e0d\" d=\"M 0 0 \n",
       "L -3.5 0 \n",
       "\" style=\"stroke: #000000; stroke-width: 0.8\"/>\n",
       "      </defs>\n",
       "      <g>\n",
       "       <use xlink:href=\"#m28c9b07e0d\" x=\"46.965625\" y=\"244.078125\" style=\"stroke: #000000; stroke-width: 0.8\"/>\n",
       "      </g>\n",
       "     </g>\n",
       "     <g id=\"text_21\">\n",
       "      <!-- 0 -->\n",
       "      <g transform=\"translate(33.603125 247.877344) scale(0.1 -0.1)\">\n",
       "       <defs>\n",
       "        <path id=\"DejaVuSans-30\" d=\"M 2034 4250 \n",
       "Q 1547 4250 1301 3770 \n",
       "Q 1056 3291 1056 2328 \n",
       "Q 1056 1369 1301 889 \n",
       "Q 1547 409 2034 409 \n",
       "Q 2525 409 2770 889 \n",
       "Q 3016 1369 3016 2328 \n",
       "Q 3016 3291 2770 3770 \n",
       "Q 2525 4250 2034 4250 \n",
       "z\n",
       "M 2034 4750 \n",
       "Q 2819 4750 3233 4129 \n",
       "Q 3647 3509 3647 2328 \n",
       "Q 3647 1150 3233 529 \n",
       "Q 2819 -91 2034 -91 \n",
       "Q 1250 -91 836 529 \n",
       "Q 422 1150 422 2328 \n",
       "Q 422 3509 836 4129 \n",
       "Q 1250 4750 2034 4750 \n",
       "z\n",
       "\" transform=\"scale(0.015625)\"/>\n",
       "       </defs>\n",
       "       <use xlink:href=\"#DejaVuSans-30\"/>\n",
       "      </g>\n",
       "     </g>\n",
       "    </g>\n",
       "    <g id=\"ytick_2\">\n",
       "     <g id=\"line2d_21\">\n",
       "      <g>\n",
       "       <use xlink:href=\"#m28c9b07e0d\" x=\"46.965625\" y=\"217.678125\" style=\"stroke: #000000; stroke-width: 0.8\"/>\n",
       "      </g>\n",
       "     </g>\n",
       "     <g id=\"text_22\">\n",
       "      <!-- 25 -->\n",
       "      <g transform=\"translate(27.240625 221.477344) scale(0.1 -0.1)\">\n",
       "       <defs>\n",
       "        <path id=\"DejaVuSans-32\" d=\"M 1228 531 \n",
       "L 3431 531 \n",
       "L 3431 0 \n",
       "L 469 0 \n",
       "L 469 531 \n",
       "Q 828 903 1448 1529 \n",
       "Q 2069 2156 2228 2338 \n",
       "Q 2531 2678 2651 2914 \n",
       "Q 2772 3150 2772 3378 \n",
       "Q 2772 3750 2511 3984 \n",
       "Q 2250 4219 1831 4219 \n",
       "Q 1534 4219 1204 4116 \n",
       "Q 875 4013 500 3803 \n",
       "L 500 4441 \n",
       "Q 881 4594 1212 4672 \n",
       "Q 1544 4750 1819 4750 \n",
       "Q 2544 4750 2975 4387 \n",
       "Q 3406 4025 3406 3419 \n",
       "Q 3406 3131 3298 2873 \n",
       "Q 3191 2616 2906 2266 \n",
       "Q 2828 2175 2409 1742 \n",
       "Q 1991 1309 1228 531 \n",
       "z\n",
       "\" transform=\"scale(0.015625)\"/>\n",
       "        <path id=\"DejaVuSans-35\" d=\"M 691 4666 \n",
       "L 3169 4666 \n",
       "L 3169 4134 \n",
       "L 1269 4134 \n",
       "L 1269 2991 \n",
       "Q 1406 3038 1543 3061 \n",
       "Q 1681 3084 1819 3084 \n",
       "Q 2600 3084 3056 2656 \n",
       "Q 3513 2228 3513 1497 \n",
       "Q 3513 744 3044 326 \n",
       "Q 2575 -91 1722 -91 \n",
       "Q 1428 -91 1123 -41 \n",
       "Q 819 9 494 109 \n",
       "L 494 744 \n",
       "Q 775 591 1075 516 \n",
       "Q 1375 441 1709 441 \n",
       "Q 2250 441 2565 725 \n",
       "Q 2881 1009 2881 1497 \n",
       "Q 2881 1984 2565 2268 \n",
       "Q 2250 2553 1709 2553 \n",
       "Q 1456 2553 1204 2497 \n",
       "Q 953 2441 691 2322 \n",
       "L 691 4666 \n",
       "z\n",
       "\" transform=\"scale(0.015625)\"/>\n",
       "       </defs>\n",
       "       <use xlink:href=\"#DejaVuSans-32\"/>\n",
       "       <use xlink:href=\"#DejaVuSans-35\" x=\"63.623047\"/>\n",
       "      </g>\n",
       "     </g>\n",
       "    </g>\n",
       "    <g id=\"ytick_3\">\n",
       "     <g id=\"line2d_22\">\n",
       "      <g>\n",
       "       <use xlink:href=\"#m28c9b07e0d\" x=\"46.965625\" y=\"191.278125\" style=\"stroke: #000000; stroke-width: 0.8\"/>\n",
       "      </g>\n",
       "     </g>\n",
       "     <g id=\"text_23\">\n",
       "      <!-- 50 -->\n",
       "      <g transform=\"translate(27.240625 195.077344) scale(0.1 -0.1)\">\n",
       "       <use xlink:href=\"#DejaVuSans-35\"/>\n",
       "       <use xlink:href=\"#DejaVuSans-30\" x=\"63.623047\"/>\n",
       "      </g>\n",
       "     </g>\n",
       "    </g>\n",
       "    <g id=\"ytick_4\">\n",
       "     <g id=\"line2d_23\">\n",
       "      <g>\n",
       "       <use xlink:href=\"#m28c9b07e0d\" x=\"46.965625\" y=\"164.878125\" style=\"stroke: #000000; stroke-width: 0.8\"/>\n",
       "      </g>\n",
       "     </g>\n",
       "     <g id=\"text_24\">\n",
       "      <!-- 75 -->\n",
       "      <g transform=\"translate(27.240625 168.677344) scale(0.1 -0.1)\">\n",
       "       <defs>\n",
       "        <path id=\"DejaVuSans-37\" d=\"M 525 4666 \n",
       "L 3525 4666 \n",
       "L 3525 4397 \n",
       "L 1831 0 \n",
       "L 1172 0 \n",
       "L 2766 4134 \n",
       "L 525 4134 \n",
       "L 525 4666 \n",
       "z\n",
       "\" transform=\"scale(0.015625)\"/>\n",
       "       </defs>\n",
       "       <use xlink:href=\"#DejaVuSans-37\"/>\n",
       "       <use xlink:href=\"#DejaVuSans-35\" x=\"63.623047\"/>\n",
       "      </g>\n",
       "     </g>\n",
       "    </g>\n",
       "    <g id=\"ytick_5\">\n",
       "     <g id=\"line2d_24\">\n",
       "      <g>\n",
       "       <use xlink:href=\"#m28c9b07e0d\" x=\"46.965625\" y=\"138.478125\" style=\"stroke: #000000; stroke-width: 0.8\"/>\n",
       "      </g>\n",
       "     </g>\n",
       "     <g id=\"text_25\">\n",
       "      <!-- 100 -->\n",
       "      <g transform=\"translate(20.878125 142.277344) scale(0.1 -0.1)\">\n",
       "       <defs>\n",
       "        <path id=\"DejaVuSans-31\" d=\"M 794 531 \n",
       "L 1825 531 \n",
       "L 1825 4091 \n",
       "L 703 3866 \n",
       "L 703 4441 \n",
       "L 1819 4666 \n",
       "L 2450 4666 \n",
       "L 2450 531 \n",
       "L 3481 531 \n",
       "L 3481 0 \n",
       "L 794 0 \n",
       "L 794 531 \n",
       "z\n",
       "\" transform=\"scale(0.015625)\"/>\n",
       "       </defs>\n",
       "       <use xlink:href=\"#DejaVuSans-31\"/>\n",
       "       <use xlink:href=\"#DejaVuSans-30\" x=\"63.623047\"/>\n",
       "       <use xlink:href=\"#DejaVuSans-30\" x=\"127.246094\"/>\n",
       "      </g>\n",
       "     </g>\n",
       "    </g>\n",
       "    <g id=\"ytick_6\">\n",
       "     <g id=\"line2d_25\">\n",
       "      <g>\n",
       "       <use xlink:href=\"#m28c9b07e0d\" x=\"46.965625\" y=\"112.078125\" style=\"stroke: #000000; stroke-width: 0.8\"/>\n",
       "      </g>\n",
       "     </g>\n",
       "     <g id=\"text_26\">\n",
       "      <!-- 125 -->\n",
       "      <g transform=\"translate(20.878125 115.877344) scale(0.1 -0.1)\">\n",
       "       <use xlink:href=\"#DejaVuSans-31\"/>\n",
       "       <use xlink:href=\"#DejaVuSans-32\" x=\"63.623047\"/>\n",
       "       <use xlink:href=\"#DejaVuSans-35\" x=\"127.246094\"/>\n",
       "      </g>\n",
       "     </g>\n",
       "    </g>\n",
       "    <g id=\"ytick_7\">\n",
       "     <g id=\"line2d_26\">\n",
       "      <g>\n",
       "       <use xlink:href=\"#m28c9b07e0d\" x=\"46.965625\" y=\"85.678125\" style=\"stroke: #000000; stroke-width: 0.8\"/>\n",
       "      </g>\n",
       "     </g>\n",
       "     <g id=\"text_27\">\n",
       "      <!-- 150 -->\n",
       "      <g transform=\"translate(20.878125 89.477344) scale(0.1 -0.1)\">\n",
       "       <use xlink:href=\"#DejaVuSans-31\"/>\n",
       "       <use xlink:href=\"#DejaVuSans-35\" x=\"63.623047\"/>\n",
       "       <use xlink:href=\"#DejaVuSans-30\" x=\"127.246094\"/>\n",
       "      </g>\n",
       "     </g>\n",
       "    </g>\n",
       "    <g id=\"ytick_8\">\n",
       "     <g id=\"line2d_27\">\n",
       "      <g>\n",
       "       <use xlink:href=\"#m28c9b07e0d\" x=\"46.965625\" y=\"59.278125\" style=\"stroke: #000000; stroke-width: 0.8\"/>\n",
       "      </g>\n",
       "     </g>\n",
       "     <g id=\"text_28\">\n",
       "      <!-- 175 -->\n",
       "      <g transform=\"translate(20.878125 63.077344) scale(0.1 -0.1)\">\n",
       "       <use xlink:href=\"#DejaVuSans-31\"/>\n",
       "       <use xlink:href=\"#DejaVuSans-37\" x=\"63.623047\"/>\n",
       "       <use xlink:href=\"#DejaVuSans-35\" x=\"127.246094\"/>\n",
       "      </g>\n",
       "     </g>\n",
       "    </g>\n",
       "    <g id=\"ytick_9\">\n",
       "     <g id=\"line2d_28\">\n",
       "      <g>\n",
       "       <use xlink:href=\"#m28c9b07e0d\" x=\"46.965625\" y=\"32.878125\" style=\"stroke: #000000; stroke-width: 0.8\"/>\n",
       "      </g>\n",
       "     </g>\n",
       "     <g id=\"text_29\">\n",
       "      <!-- 200 -->\n",
       "      <g transform=\"translate(20.878125 36.677344) scale(0.1 -0.1)\">\n",
       "       <use xlink:href=\"#DejaVuSans-32\"/>\n",
       "       <use xlink:href=\"#DejaVuSans-30\" x=\"63.623047\"/>\n",
       "       <use xlink:href=\"#DejaVuSans-30\" x=\"127.246094\"/>\n",
       "      </g>\n",
       "     </g>\n",
       "    </g>\n",
       "    <g id=\"text_30\">\n",
       "     <!-- Number of videos -->\n",
       "     <g transform=\"translate(14.798438 177.545) rotate(-90) scale(0.1 -0.1)\">\n",
       "      <defs>\n",
       "       <path id=\"DejaVuSans-6d\" d=\"M 3328 2828 \n",
       "Q 3544 3216 3844 3400 \n",
       "Q 4144 3584 4550 3584 \n",
       "Q 5097 3584 5394 3201 \n",
       "Q 5691 2819 5691 2113 \n",
       "L 5691 0 \n",
       "L 5113 0 \n",
       "L 5113 2094 \n",
       "Q 5113 2597 4934 2840 \n",
       "Q 4756 3084 4391 3084 \n",
       "Q 3944 3084 3684 2787 \n",
       "Q 3425 2491 3425 1978 \n",
       "L 3425 0 \n",
       "L 2847 0 \n",
       "L 2847 2094 \n",
       "Q 2847 2600 2669 2842 \n",
       "Q 2491 3084 2119 3084 \n",
       "Q 1678 3084 1418 2786 \n",
       "Q 1159 2488 1159 1978 \n",
       "L 1159 0 \n",
       "L 581 0 \n",
       "L 581 3500 \n",
       "L 1159 3500 \n",
       "L 1159 2956 \n",
       "Q 1356 3278 1631 3431 \n",
       "Q 1906 3584 2284 3584 \n",
       "Q 2666 3584 2933 3390 \n",
       "Q 3200 3197 3328 2828 \n",
       "z\n",
       "\" transform=\"scale(0.015625)\"/>\n",
       "       <path id=\"DejaVuSans-62\" d=\"M 3116 1747 \n",
       "Q 3116 2381 2855 2742 \n",
       "Q 2594 3103 2138 3103 \n",
       "Q 1681 3103 1420 2742 \n",
       "Q 1159 2381 1159 1747 \n",
       "Q 1159 1113 1420 752 \n",
       "Q 1681 391 2138 391 \n",
       "Q 2594 391 2855 752 \n",
       "Q 3116 1113 3116 1747 \n",
       "z\n",
       "M 1159 2969 \n",
       "Q 1341 3281 1617 3432 \n",
       "Q 1894 3584 2278 3584 \n",
       "Q 2916 3584 3314 3078 \n",
       "Q 3713 2572 3713 1747 \n",
       "Q 3713 922 3314 415 \n",
       "Q 2916 -91 2278 -91 \n",
       "Q 1894 -91 1617 61 \n",
       "Q 1341 213 1159 525 \n",
       "L 1159 0 \n",
       "L 581 0 \n",
       "L 581 4863 \n",
       "L 1159 4863 \n",
       "L 1159 2969 \n",
       "z\n",
       "\" transform=\"scale(0.015625)\"/>\n",
       "       <path id=\"DejaVuSans-65\" d=\"M 3597 1894 \n",
       "L 3597 1613 \n",
       "L 953 1613 \n",
       "Q 991 1019 1311 708 \n",
       "Q 1631 397 2203 397 \n",
       "Q 2534 397 2845 478 \n",
       "Q 3156 559 3463 722 \n",
       "L 3463 178 \n",
       "Q 3153 47 2828 -22 \n",
       "Q 2503 -91 2169 -91 \n",
       "Q 1331 -91 842 396 \n",
       "Q 353 884 353 1716 \n",
       "Q 353 2575 817 3079 \n",
       "Q 1281 3584 2069 3584 \n",
       "Q 2775 3584 3186 3129 \n",
       "Q 3597 2675 3597 1894 \n",
       "z\n",
       "M 3022 2063 \n",
       "Q 3016 2534 2758 2815 \n",
       "Q 2500 3097 2075 3097 \n",
       "Q 1594 3097 1305 2825 \n",
       "Q 1016 2553 972 2059 \n",
       "L 3022 2063 \n",
       "z\n",
       "\" transform=\"scale(0.015625)\"/>\n",
       "       <path id=\"DejaVuSans-20\" transform=\"scale(0.015625)\"/>\n",
       "       <path id=\"DejaVuSans-66\" d=\"M 2375 4863 \n",
       "L 2375 4384 \n",
       "L 1825 4384 \n",
       "Q 1516 4384 1395 4259 \n",
       "Q 1275 4134 1275 3809 \n",
       "L 1275 3500 \n",
       "L 2222 3500 \n",
       "L 2222 3053 \n",
       "L 1275 3053 \n",
       "L 1275 0 \n",
       "L 697 0 \n",
       "L 697 3053 \n",
       "L 147 3053 \n",
       "L 147 3500 \n",
       "L 697 3500 \n",
       "L 697 3744 \n",
       "Q 697 4328 969 4595 \n",
       "Q 1241 4863 1831 4863 \n",
       "L 2375 4863 \n",
       "z\n",
       "\" transform=\"scale(0.015625)\"/>\n",
       "       <path id=\"DejaVuSans-76\" d=\"M 191 3500 \n",
       "L 800 3500 \n",
       "L 1894 563 \n",
       "L 2988 3500 \n",
       "L 3597 3500 \n",
       "L 2284 0 \n",
       "L 1503 0 \n",
       "L 191 3500 \n",
       "z\n",
       "\" transform=\"scale(0.015625)\"/>\n",
       "       <path id=\"DejaVuSans-69\" d=\"M 603 3500 \n",
       "L 1178 3500 \n",
       "L 1178 0 \n",
       "L 603 0 \n",
       "L 603 3500 \n",
       "z\n",
       "M 603 4863 \n",
       "L 1178 4863 \n",
       "L 1178 4134 \n",
       "L 603 4134 \n",
       "L 603 4863 \n",
       "z\n",
       "\" transform=\"scale(0.015625)\"/>\n",
       "       <path id=\"DejaVuSans-64\" d=\"M 2906 2969 \n",
       "L 2906 4863 \n",
       "L 3481 4863 \n",
       "L 3481 0 \n",
       "L 2906 0 \n",
       "L 2906 525 \n",
       "Q 2725 213 2448 61 \n",
       "Q 2172 -91 1784 -91 \n",
       "Q 1150 -91 751 415 \n",
       "Q 353 922 353 1747 \n",
       "Q 353 2572 751 3078 \n",
       "Q 1150 3584 1784 3584 \n",
       "Q 2172 3584 2448 3432 \n",
       "Q 2725 3281 2906 2969 \n",
       "z\n",
       "M 947 1747 \n",
       "Q 947 1113 1208 752 \n",
       "Q 1469 391 1925 391 \n",
       "Q 2381 391 2643 752 \n",
       "Q 2906 1113 2906 1747 \n",
       "Q 2906 2381 2643 2742 \n",
       "Q 2381 3103 1925 3103 \n",
       "Q 1469 3103 1208 2742 \n",
       "Q 947 2381 947 1747 \n",
       "z\n",
       "\" transform=\"scale(0.015625)\"/>\n",
       "       <path id=\"DejaVuSans-73\" d=\"M 2834 3397 \n",
       "L 2834 2853 \n",
       "Q 2591 2978 2328 3040 \n",
       "Q 2066 3103 1784 3103 \n",
       "Q 1356 3103 1142 2972 \n",
       "Q 928 2841 928 2578 \n",
       "Q 928 2378 1081 2264 \n",
       "Q 1234 2150 1697 2047 \n",
       "L 1894 2003 \n",
       "Q 2506 1872 2764 1633 \n",
       "Q 3022 1394 3022 966 \n",
       "Q 3022 478 2636 193 \n",
       "Q 2250 -91 1575 -91 \n",
       "Q 1294 -91 989 -36 \n",
       "Q 684 19 347 128 \n",
       "L 347 722 \n",
       "Q 666 556 975 473 \n",
       "Q 1284 391 1588 391 \n",
       "Q 1994 391 2212 530 \n",
       "Q 2431 669 2431 922 \n",
       "Q 2431 1156 2273 1281 \n",
       "Q 2116 1406 1581 1522 \n",
       "L 1381 1569 \n",
       "Q 847 1681 609 1914 \n",
       "Q 372 2147 372 2553 \n",
       "Q 372 3047 722 3315 \n",
       "Q 1072 3584 1716 3584 \n",
       "Q 2034 3584 2315 3537 \n",
       "Q 2597 3491 2834 3397 \n",
       "z\n",
       "\" transform=\"scale(0.015625)\"/>\n",
       "      </defs>\n",
       "      <use xlink:href=\"#DejaVuSans-4e\"/>\n",
       "      <use xlink:href=\"#DejaVuSans-75\" x=\"74.804688\"/>\n",
       "      <use xlink:href=\"#DejaVuSans-6d\" x=\"138.183594\"/>\n",
       "      <use xlink:href=\"#DejaVuSans-62\" x=\"235.595703\"/>\n",
       "      <use xlink:href=\"#DejaVuSans-65\" x=\"299.072266\"/>\n",
       "      <use xlink:href=\"#DejaVuSans-72\" x=\"360.595703\"/>\n",
       "      <use xlink:href=\"#DejaVuSans-20\" x=\"401.708984\"/>\n",
       "      <use xlink:href=\"#DejaVuSans-6f\" x=\"433.496094\"/>\n",
       "      <use xlink:href=\"#DejaVuSans-66\" x=\"494.677734\"/>\n",
       "      <use xlink:href=\"#DejaVuSans-20\" x=\"529.882812\"/>\n",
       "      <use xlink:href=\"#DejaVuSans-76\" x=\"561.669922\"/>\n",
       "      <use xlink:href=\"#DejaVuSans-69\" x=\"620.849609\"/>\n",
       "      <use xlink:href=\"#DejaVuSans-64\" x=\"648.632812\"/>\n",
       "      <use xlink:href=\"#DejaVuSans-65\" x=\"712.109375\"/>\n",
       "      <use xlink:href=\"#DejaVuSans-6f\" x=\"773.632812\"/>\n",
       "      <use xlink:href=\"#DejaVuSans-73\" x=\"834.814453\"/>\n",
       "     </g>\n",
       "    </g>\n",
       "   </g>\n",
       "   <g id=\"patch_22\">\n",
       "    <path d=\"M 46.965625 244.078125 \n",
       "L 46.965625 22.318125 \n",
       "\" style=\"fill: none; stroke: #000000; stroke-width: 0.8; stroke-linejoin: miter; stroke-linecap: square\"/>\n",
       "   </g>\n",
       "   <g id=\"patch_23\">\n",
       "    <path d=\"M 549.165625 244.078125 \n",
       "L 549.165625 22.318125 \n",
       "\" style=\"fill: none; stroke: #000000; stroke-width: 0.8; stroke-linejoin: miter; stroke-linecap: square\"/>\n",
       "   </g>\n",
       "   <g id=\"patch_24\">\n",
       "    <path d=\"M 46.965625 244.078125 \n",
       "L 549.165625 244.078125 \n",
       "\" style=\"fill: none; stroke: #000000; stroke-width: 0.8; stroke-linejoin: miter; stroke-linecap: square\"/>\n",
       "   </g>\n",
       "   <g id=\"patch_25\">\n",
       "    <path d=\"M 46.965625 22.318125 \n",
       "L 549.165625 22.318125 \n",
       "\" style=\"fill: none; stroke: #000000; stroke-width: 0.8; stroke-linejoin: miter; stroke-linecap: square\"/>\n",
       "   </g>\n",
       "   <g id=\"text_31\">\n",
       "    <!-- Number of released videos -->\n",
       "    <g transform=\"translate(217.256875 16.318125) scale(0.12 -0.12)\">\n",
       "     <defs>\n",
       "      <path id=\"DejaVuSans-6c\" d=\"M 603 4863 \n",
       "L 1178 4863 \n",
       "L 1178 0 \n",
       "L 603 0 \n",
       "L 603 4863 \n",
       "z\n",
       "\" transform=\"scale(0.015625)\"/>\n",
       "      <path id=\"DejaVuSans-61\" d=\"M 2194 1759 \n",
       "Q 1497 1759 1228 1600 \n",
       "Q 959 1441 959 1056 \n",
       "Q 959 750 1161 570 \n",
       "Q 1363 391 1709 391 \n",
       "Q 2188 391 2477 730 \n",
       "Q 2766 1069 2766 1631 \n",
       "L 2766 1759 \n",
       "L 2194 1759 \n",
       "z\n",
       "M 3341 1997 \n",
       "L 3341 0 \n",
       "L 2766 0 \n",
       "L 2766 531 \n",
       "Q 2569 213 2275 61 \n",
       "Q 1981 -91 1556 -91 \n",
       "Q 1019 -91 701 211 \n",
       "Q 384 513 384 1019 \n",
       "Q 384 1609 779 1909 \n",
       "Q 1175 2209 1959 2209 \n",
       "L 2766 2209 \n",
       "L 2766 2266 \n",
       "Q 2766 2663 2505 2880 \n",
       "Q 2244 3097 1772 3097 \n",
       "Q 1472 3097 1187 3025 \n",
       "Q 903 2953 641 2809 \n",
       "L 641 3341 \n",
       "Q 956 3463 1253 3523 \n",
       "Q 1550 3584 1831 3584 \n",
       "Q 2591 3584 2966 3190 \n",
       "Q 3341 2797 3341 1997 \n",
       "z\n",
       "\" transform=\"scale(0.015625)\"/>\n",
       "     </defs>\n",
       "     <use xlink:href=\"#DejaVuSans-4e\"/>\n",
       "     <use xlink:href=\"#DejaVuSans-75\" x=\"74.804688\"/>\n",
       "     <use xlink:href=\"#DejaVuSans-6d\" x=\"138.183594\"/>\n",
       "     <use xlink:href=\"#DejaVuSans-62\" x=\"235.595703\"/>\n",
       "     <use xlink:href=\"#DejaVuSans-65\" x=\"299.072266\"/>\n",
       "     <use xlink:href=\"#DejaVuSans-72\" x=\"360.595703\"/>\n",
       "     <use xlink:href=\"#DejaVuSans-20\" x=\"401.708984\"/>\n",
       "     <use xlink:href=\"#DejaVuSans-6f\" x=\"433.496094\"/>\n",
       "     <use xlink:href=\"#DejaVuSans-66\" x=\"494.677734\"/>\n",
       "     <use xlink:href=\"#DejaVuSans-20\" x=\"529.882812\"/>\n",
       "     <use xlink:href=\"#DejaVuSans-72\" x=\"561.669922\"/>\n",
       "     <use xlink:href=\"#DejaVuSans-65\" x=\"600.533203\"/>\n",
       "     <use xlink:href=\"#DejaVuSans-6c\" x=\"662.056641\"/>\n",
       "     <use xlink:href=\"#DejaVuSans-65\" x=\"689.839844\"/>\n",
       "     <use xlink:href=\"#DejaVuSans-61\" x=\"751.363281\"/>\n",
       "     <use xlink:href=\"#DejaVuSans-73\" x=\"812.642578\"/>\n",
       "     <use xlink:href=\"#DejaVuSans-65\" x=\"864.742188\"/>\n",
       "     <use xlink:href=\"#DejaVuSans-64\" x=\"926.265625\"/>\n",
       "     <use xlink:href=\"#DejaVuSans-20\" x=\"989.742188\"/>\n",
       "     <use xlink:href=\"#DejaVuSans-76\" x=\"1021.529297\"/>\n",
       "     <use xlink:href=\"#DejaVuSans-69\" x=\"1080.708984\"/>\n",
       "     <use xlink:href=\"#DejaVuSans-64\" x=\"1108.492188\"/>\n",
       "     <use xlink:href=\"#DejaVuSans-65\" x=\"1171.96875\"/>\n",
       "     <use xlink:href=\"#DejaVuSans-6f\" x=\"1233.492188\"/>\n",
       "     <use xlink:href=\"#DejaVuSans-73\" x=\"1294.673828\"/>\n",
       "    </g>\n",
       "   </g>\n",
       "  </g>\n",
       " </g>\n",
       " <defs>\n",
       "  <clipPath id=\"pee5ba1d59b\">\n",
       "   <rect x=\"46.965625\" y=\"22.318125\" width=\"502.2\" height=\"221.76\"/>\n",
       "  </clipPath>\n",
       " </defs>\n",
       "</svg>\n"
      ],
      "text/plain": [
       "<Figure size 900x400 with 1 Axes>"
      ]
     },
     "metadata": {},
     "output_type": "display_data"
    }
   ],
   "source": [
    "df = data.country.value_counts()\n",
    "\n",
    "\n",
    "plt.figure(figsize=(9,4))\n",
    "plt.title('Number of released videos')\n",
    "\n",
    "plt.bar(df.index, df.values)\n",
    "plt.xticks(rotation=45)\n",
    "\n",
    "plt.xlabel('Country')\n",
    "plt.ylabel('Number of videos')\n",
    "plt.show()"
   ]
  },
  {
   "cell_type": "markdown",
   "id": "69e7ee08",
   "metadata": {
    "id": "69e7ee08"
   },
   "source": [
    "Finally, we can create scatter plot using `.scatter` method.\n",
    "\n",
    "Build a scatter plot depending on the number of comments for a video and on the number of views for videos in France. The chart does not need to take into account videos with disabled comments (`comments_disabled=True`):"
   ]
  },
  {
   "cell_type": "code",
   "execution_count": 95,
   "id": "21c6112e",
   "metadata": {
    "ExecuteTime": {
     "end_time": "2024-02-06T07:52:42.848201Z",
     "start_time": "2024-02-06T07:52:42.646060Z"
    },
    "id": "21c6112e",
    "outputId": "482d2ad7-3d69-41d6-ba83-c82730c0485e"
   },
   "outputs": [
    {
     "data": {
      "image/svg+xml": [
       "<?xml version=\"1.0\" encoding=\"utf-8\" standalone=\"no\"?>\n",
       "<!DOCTYPE svg PUBLIC \"-//W3C//DTD SVG 1.1//EN\"\n",
       "  \"http://www.w3.org/Graphics/SVG/1.1/DTD/svg11.dtd\">\n",
       "<svg xmlns:xlink=\"http://www.w3.org/1999/xlink\" width=\"543.640625pt\" height=\"392.514375pt\" viewBox=\"0 0 543.640625 392.514375\" xmlns=\"http://www.w3.org/2000/svg\" version=\"1.1\">\n",
       " <metadata>\n",
       "  <rdf:RDF xmlns:dc=\"http://purl.org/dc/elements/1.1/\" xmlns:cc=\"http://creativecommons.org/ns#\" xmlns:rdf=\"http://www.w3.org/1999/02/22-rdf-syntax-ns#\">\n",
       "   <cc:Work>\n",
       "    <dc:type rdf:resource=\"http://purl.org/dc/dcmitype/StillImage\"/>\n",
       "    <dc:date>2025-02-25T17:53:04.310229</dc:date>\n",
       "    <dc:format>image/svg+xml</dc:format>\n",
       "    <dc:creator>\n",
       "     <cc:Agent>\n",
       "      <dc:title>Matplotlib v3.7.1, https://matplotlib.org/</dc:title>\n",
       "     </cc:Agent>\n",
       "    </dc:creator>\n",
       "   </cc:Work>\n",
       "  </rdf:RDF>\n",
       " </metadata>\n",
       " <defs>\n",
       "  <style type=\"text/css\">*{stroke-linejoin: round; stroke-linecap: butt}</style>\n",
       " </defs>\n",
       " <g id=\"figure_1\">\n",
       "  <g id=\"patch_1\">\n",
       "   <path d=\"M 0 392.514375 \n",
       "L 543.640625 392.514375 \n",
       "L 543.640625 0 \n",
       "L 0 0 \n",
       "z\n",
       "\" style=\"fill: #ffffff\"/>\n",
       "  </g>\n",
       "  <g id=\"axes_1\">\n",
       "   <g id=\"patch_2\">\n",
       "    <path d=\"M 34.240625 354.958125 \n",
       "L 536.440625 354.958125 \n",
       "L 536.440625 22.318125 \n",
       "L 34.240625 22.318125 \n",
       "z\n",
       "\" style=\"fill: #ffffff\"/>\n",
       "   </g>\n",
       "   <g id=\"PathCollection_1\">\n",
       "    <defs>\n",
       "     <path id=\"m827bd49f00\" d=\"M 0 3 \n",
       "C 0.795609 3 1.55874 2.683901 2.12132 2.12132 \n",
       "C 2.683901 1.55874 3 0.795609 3 0 \n",
       "C 3 -0.795609 2.683901 -1.55874 2.12132 -2.12132 \n",
       "C 1.55874 -2.683901 0.795609 -3 0 -3 \n",
       "C -0.795609 -3 -1.55874 -2.683901 -2.12132 -2.12132 \n",
       "C -2.683901 -1.55874 -3 -0.795609 -3 0 \n",
       "C -3 0.795609 -2.683901 1.55874 -2.12132 2.12132 \n",
       "C -1.55874 2.683901 -0.795609 3 0 3 \n",
       "z\n",
       "\" style=\"stroke: #1f77b4\"/>\n",
       "    </defs>\n",
       "    <g clip-path=\"url(#pbc437e53e3)\">\n",
       "     <use xlink:href=\"#m827bd49f00\" x=\"119.624884\" y=\"319.279042\" style=\"fill: #1f77b4; stroke: #1f77b4\"/>\n",
       "     <use xlink:href=\"#m827bd49f00\" x=\"62.19361\" y=\"334.511889\" style=\"fill: #1f77b4; stroke: #1f77b4\"/>\n",
       "     <use xlink:href=\"#m827bd49f00\" x=\"58.539261\" y=\"338.222686\" style=\"fill: #1f77b4; stroke: #1f77b4\"/>\n",
       "     <use xlink:href=\"#m827bd49f00\" x=\"57.822573\" y=\"338.806409\" style=\"fill: #1f77b4; stroke: #1f77b4\"/>\n",
       "     <use xlink:href=\"#m827bd49f00\" x=\"60.699455\" y=\"335.577837\" style=\"fill: #1f77b4; stroke: #1f77b4\"/>\n",
       "     <use xlink:href=\"#m827bd49f00\" x=\"58.473417\" y=\"336.873446\" style=\"fill: #1f77b4; stroke: #1f77b4\"/>\n",
       "     <use xlink:href=\"#m827bd49f00\" x=\"62.044194\" y=\"338.694116\" style=\"fill: #1f77b4; stroke: #1f77b4\"/>\n",
       "     <use xlink:href=\"#m827bd49f00\" x=\"57.852962\" y=\"338.494298\" style=\"fill: #1f77b4; stroke: #1f77b4\"/>\n",
       "     <use xlink:href=\"#m827bd49f00\" x=\"59.228092\" y=\"338.37549\" style=\"fill: #1f77b4; stroke: #1f77b4\"/>\n",
       "     <use xlink:href=\"#m827bd49f00\" x=\"57.911209\" y=\"339.395475\" style=\"fill: #1f77b4; stroke: #1f77b4\"/>\n",
       "     <use xlink:href=\"#m827bd49f00\" x=\"59.020429\" y=\"338.905331\" style=\"fill: #1f77b4; stroke: #1f77b4\"/>\n",
       "     <use xlink:href=\"#m827bd49f00\" x=\"60.696922\" y=\"333.209906\" style=\"fill: #1f77b4; stroke: #1f77b4\"/>\n",
       "     <use xlink:href=\"#m827bd49f00\" x=\"63.649778\" y=\"337.712712\" style=\"fill: #1f77b4; stroke: #1f77b4\"/>\n",
       "     <use xlink:href=\"#m827bd49f00\" x=\"60.393026\" y=\"336.666843\" style=\"fill: #1f77b4; stroke: #1f77b4\"/>\n",
       "     <use xlink:href=\"#m827bd49f00\" x=\"57.63517\" y=\"339.556774\" style=\"fill: #1f77b4; stroke: #1f77b4\"/>\n",
       "     <use xlink:href=\"#m827bd49f00\" x=\"59.848546\" y=\"336.858793\" style=\"fill: #1f77b4; stroke: #1f77b4\"/>\n",
       "     <use xlink:href=\"#m827bd49f00\" x=\"57.392053\" y=\"338.528678\" style=\"fill: #1f77b4; stroke: #1f77b4\"/>\n",
       "     <use xlink:href=\"#m827bd49f00\" x=\"57.6453\" y=\"338.935706\" style=\"fill: #1f77b4; stroke: #1f77b4\"/>\n",
       "     <use xlink:href=\"#m827bd49f00\" x=\"57.741534\" y=\"339.700993\" style=\"fill: #1f77b4; stroke: #1f77b4\"/>\n",
       "     <use xlink:href=\"#m827bd49f00\" x=\"60.793156\" y=\"336.755553\" style=\"fill: #1f77b4; stroke: #1f77b4\"/>\n",
       "     <use xlink:href=\"#m827bd49f00\" x=\"58.166988\" y=\"339.359898\" style=\"fill: #1f77b4; stroke: #1f77b4\"/>\n",
       "     <use xlink:href=\"#m827bd49f00\" x=\"60.615883\" y=\"337.324322\" style=\"fill: #1f77b4; stroke: #1f77b4\"/>\n",
       "     <use xlink:href=\"#m827bd49f00\" x=\"57.587053\" y=\"339.179173\" style=\"fill: #1f77b4; stroke: #1f77b4\"/>\n",
       "     <use xlink:href=\"#m827bd49f00\" x=\"57.199586\" y=\"339.664185\" style=\"fill: #1f77b4; stroke: #1f77b4\"/>\n",
       "     <use xlink:href=\"#m827bd49f00\" x=\"73.853085\" y=\"328.863702\" style=\"fill: #1f77b4; stroke: #1f77b4\"/>\n",
       "     <use xlink:href=\"#m827bd49f00\" x=\"58.888741\" y=\"337.048455\" style=\"fill: #1f77b4; stroke: #1f77b4\"/>\n",
       "     <use xlink:href=\"#m827bd49f00\" x=\"57.262898\" y=\"339.68832\" style=\"fill: #1f77b4; stroke: #1f77b4\"/>\n",
       "     <use xlink:href=\"#m827bd49f00\" x=\"63.029324\" y=\"335.100045\" style=\"fill: #1f77b4; stroke: #1f77b4\"/>\n",
       "     <use xlink:href=\"#m827bd49f00\" x=\"62.082181\" y=\"338.99256\" style=\"fill: #1f77b4; stroke: #1f77b4\"/>\n",
       "     <use xlink:href=\"#m827bd49f00\" x=\"57.475625\" y=\"339.314492\" style=\"fill: #1f77b4; stroke: #1f77b4\"/>\n",
       "     <use xlink:href=\"#m827bd49f00\" x=\"59.529455\" y=\"338.163467\" style=\"fill: #1f77b4; stroke: #1f77b4\"/>\n",
       "     <use xlink:href=\"#m827bd49f00\" x=\"59.192637\" y=\"335.278521\" style=\"fill: #1f77b4; stroke: #1f77b4\"/>\n",
       "     <use xlink:href=\"#m827bd49f00\" x=\"59.306598\" y=\"336.984246\" style=\"fill: #1f77b4; stroke: #1f77b4\"/>\n",
       "     <use xlink:href=\"#m827bd49f00\" x=\"58.496209\" y=\"335.253394\" style=\"fill: #1f77b4; stroke: #1f77b4\"/>\n",
       "     <use xlink:href=\"#m827bd49f00\" x=\"59.281273\" y=\"339.437715\" style=\"fill: #1f77b4; stroke: #1f77b4\"/>\n",
       "     <use xlink:href=\"#m827bd49f00\" x=\"57.186924\" y=\"339.773159\" style=\"fill: #1f77b4; stroke: #1f77b4\"/>\n",
       "     <use xlink:href=\"#m827bd49f00\" x=\"58.141664\" y=\"337.633607\" style=\"fill: #1f77b4; stroke: #1f77b4\"/>\n",
       "     <use xlink:href=\"#m827bd49f00\" x=\"57.427508\" y=\"301.183327\" style=\"fill: #1f77b4; stroke: #1f77b4\"/>\n",
       "     <use xlink:href=\"#m827bd49f00\" x=\"57.288222\" y=\"339.427477\" style=\"fill: #1f77b4; stroke: #1f77b4\"/>\n",
       "     <use xlink:href=\"#m827bd49f00\" x=\"57.384456\" y=\"339.443091\" style=\"fill: #1f77b4; stroke: #1f77b4\"/>\n",
       "     <use xlink:href=\"#m827bd49f00\" x=\"57.807378\" y=\"339.82214\" style=\"fill: #1f77b4; stroke: #1f77b4\"/>\n",
       "     <use xlink:href=\"#m827bd49f00\" x=\"90.14191\" y=\"322.927949\" style=\"fill: #1f77b4; stroke: #1f77b4\"/>\n",
       "     <use xlink:href=\"#m827bd49f00\" x=\"57.143872\" y=\"339.838125\" style=\"fill: #1f77b4; stroke: #1f77b4\"/>\n",
       "     <use xlink:href=\"#m827bd49f00\" x=\"59.775104\" y=\"339.800235\" style=\"fill: #1f77b4; stroke: #1f77b4\"/>\n",
       "     <use xlink:href=\"#m827bd49f00\" x=\"58.372118\" y=\"338.469702\" style=\"fill: #1f77b4; stroke: #1f77b4\"/>\n",
       "     <use xlink:href=\"#m827bd49f00\" x=\"513.613352\" y=\"37.438125\" style=\"fill: #1f77b4; stroke: #1f77b4\"/>\n",
       "     <use xlink:href=\"#m827bd49f00\" x=\"64.409518\" y=\"334.082937\" style=\"fill: #1f77b4; stroke: #1f77b4\"/>\n",
       "     <use xlink:href=\"#m827bd49f00\" x=\"59.238221\" y=\"339.16659\" style=\"fill: #1f77b4; stroke: #1f77b4\"/>\n",
       "     <use xlink:href=\"#m827bd49f00\" x=\"59.096403\" y=\"339.391778\" style=\"fill: #1f77b4; stroke: #1f77b4\"/>\n",
       "     <use xlink:href=\"#m827bd49f00\" x=\"58.01504\" y=\"335.688048\" style=\"fill: #1f77b4; stroke: #1f77b4\"/>\n",
       "     <use xlink:href=\"#m827bd49f00\" x=\"60.380364\" y=\"337.648381\" style=\"fill: #1f77b4; stroke: #1f77b4\"/>\n",
       "     <use xlink:href=\"#m827bd49f00\" x=\"60.337312\" y=\"338.250306\" style=\"fill: #1f77b4; stroke: #1f77b4\"/>\n",
       "     <use xlink:href=\"#m827bd49f00\" x=\"57.46043\" y=\"339.816547\" style=\"fill: #1f77b4; stroke: #1f77b4\"/>\n",
       "     <use xlink:href=\"#m827bd49f00\" x=\"58.235365\" y=\"338.025182\" style=\"fill: #1f77b4; stroke: #1f77b4\"/>\n",
       "     <use xlink:href=\"#m827bd49f00\" x=\"57.579456\" y=\"339.667767\" style=\"fill: #1f77b4; stroke: #1f77b4\"/>\n",
       "     <use xlink:href=\"#m827bd49f00\" x=\"59.526923\" y=\"338.816929\" style=\"fill: #1f77b4; stroke: #1f77b4\"/>\n",
       "     <use xlink:href=\"#m827bd49f00\" x=\"57.533872\" y=\"339.778202\" style=\"fill: #1f77b4; stroke: #1f77b4\"/>\n",
       "     <use xlink:href=\"#m827bd49f00\" x=\"59.661143\" y=\"337.098288\" style=\"fill: #1f77b4; stroke: #1f77b4\"/>\n",
       "     <use xlink:href=\"#m827bd49f00\" x=\"57.592118\" y=\"339.711365\" style=\"fill: #1f77b4; stroke: #1f77b4\"/>\n",
       "     <use xlink:href=\"#m827bd49f00\" x=\"59.038157\" y=\"339.350595\" style=\"fill: #1f77b4; stroke: #1f77b4\"/>\n",
       "     <use xlink:href=\"#m827bd49f00\" x=\"59.116663\" y=\"337.992167\" style=\"fill: #1f77b4; stroke: #1f77b4\"/>\n",
       "     <use xlink:href=\"#m827bd49f00\" x=\"58.564585\" y=\"338.188595\" style=\"fill: #1f77b4; stroke: #1f77b4\"/>\n",
       "     <use xlink:href=\"#m827bd49f00\" x=\"58.146728\" y=\"339.524086\" style=\"fill: #1f77b4; stroke: #1f77b4\"/>\n",
       "     <use xlink:href=\"#m827bd49f00\" x=\"57.83017\" y=\"337.370881\" style=\"fill: #1f77b4; stroke: #1f77b4\"/>\n",
       "     <use xlink:href=\"#m827bd49f00\" x=\"57.478157\" y=\"339.509235\" style=\"fill: #1f77b4; stroke: #1f77b4\"/>\n",
       "     <use xlink:href=\"#m827bd49f00\" x=\"57.556664\" y=\"339.597458\" style=\"fill: #1f77b4; stroke: #1f77b4\"/>\n",
       "     <use xlink:href=\"#m827bd49f00\" x=\"76.274123\" y=\"312.373719\" style=\"fill: #1f77b4; stroke: #1f77b4\"/>\n",
       "     <use xlink:href=\"#m827bd49f00\" x=\"57.61491\" y=\"339.363549\" style=\"fill: #1f77b4; stroke: #1f77b4\"/>\n",
       "     <use xlink:href=\"#m827bd49f00\" x=\"60.998286\" y=\"339.596439\" style=\"fill: #1f77b4; stroke: #1f77b4\"/>\n",
       "     <use xlink:href=\"#m827bd49f00\" x=\"57.749131\" y=\"337.700443\" style=\"fill: #1f77b4; stroke: #1f77b4\"/>\n",
       "     <use xlink:href=\"#m827bd49f00\" x=\"57.62504\" y=\"339.398896\" style=\"fill: #1f77b4; stroke: #1f77b4\"/>\n",
       "     <use xlink:href=\"#m827bd49f00\" x=\"58.111274\" y=\"339.572554\" style=\"fill: #1f77b4; stroke: #1f77b4\"/>\n",
       "     <use xlink:href=\"#m827bd49f00\" x=\"57.784586\" y=\"339.635444\" style=\"fill: #1f77b4; stroke: #1f77b4\"/>\n",
       "     <use xlink:href=\"#m827bd49f00\" x=\"57.283157\" y=\"339.644138\" style=\"fill: #1f77b4; stroke: #1f77b4\"/>\n",
       "     <use xlink:href=\"#m827bd49f00\" x=\"58.075819\" y=\"338.947373\" style=\"fill: #1f77b4; stroke: #1f77b4\"/>\n",
       "     <use xlink:href=\"#m827bd49f00\" x=\"57.817508\" y=\"337.295651\" style=\"fill: #1f77b4; stroke: #1f77b4\"/>\n",
       "     <use xlink:href=\"#m827bd49f00\" x=\"67.486465\" y=\"330.482017\" style=\"fill: #1f77b4; stroke: #1f77b4\"/>\n",
       "     <use xlink:href=\"#m827bd49f00\" x=\"58.17965\" y=\"338.786029\" style=\"fill: #1f77b4; stroke: #1f77b4\"/>\n",
       "     <use xlink:href=\"#m827bd49f00\" x=\"57.067898\" y=\"339.375421\" style=\"fill: #1f77b4; stroke: #1f77b4\"/>\n",
       "     <use xlink:href=\"#m827bd49f00\" x=\"57.544001\" y=\"339.634541\" style=\"fill: #1f77b4; stroke: #1f77b4\"/>\n",
       "     <use xlink:href=\"#m827bd49f00\" x=\"58.493676\" y=\"337.038051\" style=\"fill: #1f77b4; stroke: #1f77b4\"/>\n",
       "     <use xlink:href=\"#m827bd49f00\" x=\"57.721274\" y=\"339.589052\" style=\"fill: #1f77b4; stroke: #1f77b4\"/>\n",
       "     <use xlink:href=\"#m827bd49f00\" x=\"57.949196\" y=\"339.615038\" style=\"fill: #1f77b4; stroke: #1f77b4\"/>\n",
       "     <use xlink:href=\"#m827bd49f00\" x=\"63.353479\" y=\"321.63983\" style=\"fill: #1f77b4; stroke: #1f77b4\"/>\n",
       "     <use xlink:href=\"#m827bd49f00\" x=\"66.288608\" y=\"307.149128\" style=\"fill: #1f77b4; stroke: #1f77b4\"/>\n",
       "     <use xlink:href=\"#m827bd49f00\" x=\"59.053351\" y=\"339.256081\" style=\"fill: #1f77b4; stroke: #1f77b4\"/>\n",
       "     <use xlink:href=\"#m827bd49f00\" x=\"58.625365\" y=\"336.544729\" style=\"fill: #1f77b4; stroke: #1f77b4\"/>\n",
       "     <use xlink:href=\"#m827bd49f00\" x=\"74.108864\" y=\"315.555957\" style=\"fill: #1f77b4; stroke: #1f77b4\"/>\n",
       "     <use xlink:href=\"#m827bd49f00\" x=\"58.526598\" y=\"339.73632\" style=\"fill: #1f77b4; stroke: #1f77b4\"/>\n",
       "     <use xlink:href=\"#m827bd49f00\" x=\"59.088806\" y=\"338.154748\" style=\"fill: #1f77b4; stroke: #1f77b4\"/>\n",
       "     <use xlink:href=\"#m827bd49f00\" x=\"57.283157\" y=\"339.59412\" style=\"fill: #1f77b4; stroke: #1f77b4\"/>\n",
       "     <use xlink:href=\"#m827bd49f00\" x=\"57.067898\" y=\"339.657772\" style=\"fill: #1f77b4; stroke: #1f77b4\"/>\n",
       "     <use xlink:href=\"#m827bd49f00\" x=\"58.050495\" y=\"339.717682\" style=\"fill: #1f77b4; stroke: #1f77b4\"/>\n",
       "     <use xlink:href=\"#m827bd49f00\" x=\"64.807115\" y=\"336.902712\" style=\"fill: #1f77b4; stroke: #1f77b4\"/>\n",
       "     <use xlink:href=\"#m827bd49f00\" x=\"57.067898\" y=\"339.296169\" style=\"fill: #1f77b4; stroke: #1f77b4\"/>\n",
       "     <use xlink:href=\"#m827bd49f00\" x=\"73.766982\" y=\"332.892529\" style=\"fill: #1f77b4; stroke: #1f77b4\"/>\n",
       "     <use xlink:href=\"#m827bd49f00\" x=\"61.309779\" y=\"333.59565\" style=\"fill: #1f77b4; stroke: #1f77b4\"/>\n",
       "     <use xlink:href=\"#m827bd49f00\" x=\"57.911209\" y=\"339.046596\" style=\"fill: #1f77b4; stroke: #1f77b4\"/>\n",
       "     <use xlink:href=\"#m827bd49f00\" x=\"64.389258\" y=\"337.023827\" style=\"fill: #1f77b4; stroke: #1f77b4\"/>\n",
       "     <use xlink:href=\"#m827bd49f00\" x=\"57.825105\" y=\"339.109902\" style=\"fill: #1f77b4; stroke: #1f77b4\"/>\n",
       "     <use xlink:href=\"#m827bd49f00\" x=\"58.75452\" y=\"339.124228\" style=\"fill: #1f77b4; stroke: #1f77b4\"/>\n",
       "     <use xlink:href=\"#m827bd49f00\" x=\"85.35808\" y=\"330.407512\" style=\"fill: #1f77b4; stroke: #1f77b4\"/>\n",
       "     <use xlink:href=\"#m827bd49f00\" x=\"59.916922\" y=\"335.358601\" style=\"fill: #1f77b4; stroke: #1f77b4\"/>\n",
       "     <use xlink:href=\"#m827bd49f00\" x=\"57.959326\" y=\"338.713733\" style=\"fill: #1f77b4; stroke: #1f77b4\"/>\n",
       "     <use xlink:href=\"#m827bd49f00\" x=\"57.898547\" y=\"337.815799\" style=\"fill: #1f77b4; stroke: #1f77b4\"/>\n",
       "     <use xlink:href=\"#m827bd49f00\" x=\"57.549066\" y=\"339.518025\" style=\"fill: #1f77b4; stroke: #1f77b4\"/>\n",
       "     <use xlink:href=\"#m827bd49f00\" x=\"58.838092\" y=\"336.546497\" style=\"fill: #1f77b4; stroke: #1f77b4\"/>\n",
       "     <use xlink:href=\"#m827bd49f00\" x=\"59.230624\" y=\"338.057985\" style=\"fill: #1f77b4; stroke: #1f77b4\"/>\n",
       "     <use xlink:href=\"#m827bd49f00\" x=\"57.693417\" y=\"339.439541\" style=\"fill: #1f77b4; stroke: #1f77b4\"/>\n",
       "     <use xlink:href=\"#m827bd49f00\" x=\"59.982767\" y=\"336.159253\" style=\"fill: #1f77b4; stroke: #1f77b4\"/>\n",
       "     <use xlink:href=\"#m827bd49f00\" x=\"58.987507\" y=\"339.234329\" style=\"fill: #1f77b4; stroke: #1f77b4\"/>\n",
       "     <use xlink:href=\"#m827bd49f00\" x=\"57.067898\" y=\"339.783282\" style=\"fill: #1f77b4; stroke: #1f77b4\"/>\n",
       "     <use xlink:href=\"#m827bd49f00\" x=\"59.726988\" y=\"337.426627\" style=\"fill: #1f77b4; stroke: #1f77b4\"/>\n",
       "     <use xlink:href=\"#m827bd49f00\" x=\"60.734909\" y=\"339.331656\" style=\"fill: #1f77b4; stroke: #1f77b4\"/>\n",
       "     <use xlink:href=\"#m827bd49f00\" x=\"61.909974\" y=\"337.552323\" style=\"fill: #1f77b4; stroke: #1f77b4\"/>\n",
       "     <use xlink:href=\"#m827bd49f00\" x=\"58.311339\" y=\"338.63869\" style=\"fill: #1f77b4; stroke: #1f77b4\"/>\n",
       "     <use xlink:href=\"#m827bd49f00\" x=\"57.693417\" y=\"339.330804\" style=\"fill: #1f77b4; stroke: #1f77b4\"/>\n",
       "     <use xlink:href=\"#m827bd49f00\" x=\"57.951729\" y=\"339.777779\" style=\"fill: #1f77b4; stroke: #1f77b4\"/>\n",
       "     <use xlink:href=\"#m827bd49f00\" x=\"57.711144\" y=\"339.665326\" style=\"fill: #1f77b4; stroke: #1f77b4\"/>\n",
       "     <use xlink:href=\"#m827bd49f00\" x=\"58.080884\" y=\"339.526361\" style=\"fill: #1f77b4; stroke: #1f77b4\"/>\n",
       "     <use xlink:href=\"#m827bd49f00\" x=\"57.703547\" y=\"339.507025\" style=\"fill: #1f77b4; stroke: #1f77b4\"/>\n",
       "     <use xlink:href=\"#m827bd49f00\" x=\"58.632962\" y=\"338.079416\" style=\"fill: #1f77b4; stroke: #1f77b4\"/>\n",
       "     <use xlink:href=\"#m827bd49f00\" x=\"59.666208\" y=\"336.400145\" style=\"fill: #1f77b4; stroke: #1f77b4\"/>\n",
       "     <use xlink:href=\"#m827bd49f00\" x=\"57.313547\" y=\"339.538752\" style=\"fill: #1f77b4; stroke: #1f77b4\"/>\n",
       "     <use xlink:href=\"#m827bd49f00\" x=\"57.584521\" y=\"338.698748\" style=\"fill: #1f77b4; stroke: #1f77b4\"/>\n",
       "     <use xlink:href=\"#m827bd49f00\" x=\"57.739001\" y=\"339.670874\" style=\"fill: #1f77b4; stroke: #1f77b4\"/>\n",
       "     <use xlink:href=\"#m827bd49f00\" x=\"57.457898\" y=\"339.551117\" style=\"fill: #1f77b4; stroke: #1f77b4\"/>\n",
       "     <use xlink:href=\"#m827bd49f00\" x=\"57.488287\" y=\"339.627217\" style=\"fill: #1f77b4; stroke: #1f77b4\"/>\n",
       "     <use xlink:href=\"#m827bd49f00\" x=\"58.18978\" y=\"337.623683\" style=\"fill: #1f77b4; stroke: #1f77b4\"/>\n",
       "     <use xlink:href=\"#m827bd49f00\" x=\"57.551599\" y=\"339.418277\" style=\"fill: #1f77b4; stroke: #1f77b4\"/>\n",
       "     <use xlink:href=\"#m827bd49f00\" x=\"118.996832\" y=\"296.392077\" style=\"fill: #1f77b4; stroke: #1f77b4\"/>\n",
       "     <use xlink:href=\"#m827bd49f00\" x=\"59.286338\" y=\"338.083144\" style=\"fill: #1f77b4; stroke: #1f77b4\"/>\n",
       "     <use xlink:href=\"#m827bd49f00\" x=\"70.137957\" y=\"337.333554\" style=\"fill: #1f77b4; stroke: #1f77b4\"/>\n",
       "     <use xlink:href=\"#m827bd49f00\" x=\"58.022638\" y=\"339.681906\" style=\"fill: #1f77b4; stroke: #1f77b4\"/>\n",
       "     <use xlink:href=\"#m827bd49f00\" x=\"57.954261\" y=\"339.433865\" style=\"fill: #1f77b4; stroke: #1f77b4\"/>\n",
       "     <use xlink:href=\"#m827bd49f00\" x=\"57.979586\" y=\"338.233033\" style=\"fill: #1f77b4; stroke: #1f77b4\"/>\n",
       "     <use xlink:href=\"#m827bd49f00\" x=\"57.883352\" y=\"338.957066\" style=\"fill: #1f77b4; stroke: #1f77b4\"/>\n",
       "     <use xlink:href=\"#m827bd49f00\" x=\"57.541469\" y=\"339.187104\" style=\"fill: #1f77b4; stroke: #1f77b4\"/>\n",
       "     <use xlink:href=\"#m827bd49f00\" x=\"57.371794\" y=\"339.746392\" style=\"fill: #1f77b4; stroke: #1f77b4\"/>\n",
       "     <use xlink:href=\"#m827bd49f00\" x=\"58.215105\" y=\"339.772737\" style=\"fill: #1f77b4; stroke: #1f77b4\"/>\n",
       "     <use xlink:href=\"#m827bd49f00\" x=\"66.683673\" y=\"336.23454\" style=\"fill: #1f77b4; stroke: #1f77b4\"/>\n",
       "     <use xlink:href=\"#m827bd49f00\" x=\"57.508547\" y=\"338.088385\" style=\"fill: #1f77b4; stroke: #1f77b4\"/>\n",
       "     <use xlink:href=\"#m827bd49f00\" x=\"59.073611\" y=\"337.562542\" style=\"fill: #1f77b4; stroke: #1f77b4\"/>\n",
       "     <use xlink:href=\"#m827bd49f00\" x=\"66.559582\" y=\"336.518839\" style=\"fill: #1f77b4; stroke: #1f77b4\"/>\n",
       "     <use xlink:href=\"#m827bd49f00\" x=\"57.974521\" y=\"339.517865\" style=\"fill: #1f77b4; stroke: #1f77b4\"/>\n",
       "     <use xlink:href=\"#m827bd49f00\" x=\"57.673157\" y=\"339.227532\" style=\"fill: #1f77b4; stroke: #1f77b4\"/>\n",
       "     <use xlink:href=\"#m827bd49f00\" x=\"58.706404\" y=\"339.061056\" style=\"fill: #1f77b4; stroke: #1f77b4\"/>\n",
       "     <use xlink:href=\"#m827bd49f00\" x=\"57.617443\" y=\"338.927992\" style=\"fill: #1f77b4; stroke: #1f77b4\"/>\n",
       "     <use xlink:href=\"#m827bd49f00\" x=\"63.740947\" y=\"332.217611\" style=\"fill: #1f77b4; stroke: #1f77b4\"/>\n",
       "     <use xlink:href=\"#m827bd49f00\" x=\"57.637703\" y=\"339.126508\" style=\"fill: #1f77b4; stroke: #1f77b4\"/>\n",
       "     <use xlink:href=\"#m827bd49f00\" x=\"57.766858\" y=\"339.107608\" style=\"fill: #1f77b4; stroke: #1f77b4\"/>\n",
       "     <use xlink:href=\"#m827bd49f00\" x=\"57.273028\" y=\"339.770943\" style=\"fill: #1f77b4; stroke: #1f77b4\"/>\n",
       "     <use xlink:href=\"#m827bd49f00\" x=\"57.564261\" y=\"339.497466\" style=\"fill: #1f77b4; stroke: #1f77b4\"/>\n",
       "     <use xlink:href=\"#m827bd49f00\" x=\"57.756729\" y=\"338.881984\" style=\"fill: #1f77b4; stroke: #1f77b4\"/>\n",
       "     <use xlink:href=\"#m827bd49f00\" x=\"57.237573\" y=\"338.934783\" style=\"fill: #1f77b4; stroke: #1f77b4\"/>\n",
       "     <use xlink:href=\"#m827bd49f00\" x=\"57.928936\" y=\"334.862331\" style=\"fill: #1f77b4; stroke: #1f77b4\"/>\n",
       "     <use xlink:href=\"#m827bd49f00\" x=\"57.407248\" y=\"339.580294\" style=\"fill: #1f77b4; stroke: #1f77b4\"/>\n",
       "     <use xlink:href=\"#m827bd49f00\" x=\"57.523742\" y=\"338.987396\" style=\"fill: #1f77b4; stroke: #1f77b4\"/>\n",
       "     <use xlink:href=\"#m827bd49f00\" x=\"57.260365\" y=\"339.543377\" style=\"fill: #1f77b4; stroke: #1f77b4\"/>\n",
       "     <use xlink:href=\"#m827bd49f00\" x=\"212.829779\" y=\"205.379458\" style=\"fill: #1f77b4; stroke: #1f77b4\"/>\n",
       "     <use xlink:href=\"#m827bd49f00\" x=\"58.729196\" y=\"339.151059\" style=\"fill: #1f77b4; stroke: #1f77b4\"/>\n",
       "     <use xlink:href=\"#m827bd49f00\" x=\"58.204975\" y=\"338.193099\" style=\"fill: #1f77b4; stroke: #1f77b4\"/>\n",
       "     <use xlink:href=\"#m827bd49f00\" x=\"58.017573\" y=\"339.189103\" style=\"fill: #1f77b4; stroke: #1f77b4\"/>\n",
       "     <use xlink:href=\"#m827bd49f00\" x=\"71.566268\" y=\"330.050643\" style=\"fill: #1f77b4; stroke: #1f77b4\"/>\n",
       "     <use xlink:href=\"#m827bd49f00\" x=\"59.425624\" y=\"337.206321\" style=\"fill: #1f77b4; stroke: #1f77b4\"/>\n",
       "     <use xlink:href=\"#m827bd49f00\" x=\"57.901079\" y=\"339.317459\" style=\"fill: #1f77b4; stroke: #1f77b4\"/>\n",
       "     <use xlink:href=\"#m827bd49f00\" x=\"57.389521\" y=\"339.811716\" style=\"fill: #1f77b4; stroke: #1f77b4\"/>\n",
       "     <use xlink:href=\"#m827bd49f00\" x=\"83.413146\" y=\"306.775768\" style=\"fill: #1f77b4; stroke: #1f77b4\"/>\n",
       "     <use xlink:href=\"#m827bd49f00\" x=\"57.842832\" y=\"337.841727\" style=\"fill: #1f77b4; stroke: #1f77b4\"/>\n",
       "     <use xlink:href=\"#m827bd49f00\" x=\"58.615235\" y=\"337.929284\" style=\"fill: #1f77b4; stroke: #1f77b4\"/>\n",
       "     <use xlink:href=\"#m827bd49f00\" x=\"57.516144\" y=\"339.517\" style=\"fill: #1f77b4; stroke: #1f77b4\"/>\n",
       "     <use xlink:href=\"#m827bd49f00\" x=\"57.432573\" y=\"338.844831\" style=\"fill: #1f77b4; stroke: #1f77b4\"/>\n",
       "     <use xlink:href=\"#m827bd49f00\" x=\"58.116339\" y=\"339.190949\" style=\"fill: #1f77b4; stroke: #1f77b4\"/>\n",
       "     <use xlink:href=\"#m827bd49f00\" x=\"57.323677\" y=\"339.615692\" style=\"fill: #1f77b4; stroke: #1f77b4\"/>\n",
       "     <use xlink:href=\"#m827bd49f00\" x=\"57.465495\" y=\"339.120614\" style=\"fill: #1f77b4; stroke: #1f77b4\"/>\n",
       "     <use xlink:href=\"#m827bd49f00\" x=\"60.423416\" y=\"337.777435\" style=\"fill: #1f77b4; stroke: #1f77b4\"/>\n",
       "     <use xlink:href=\"#m827bd49f00\" x=\"57.26543\" y=\"339.57322\" style=\"fill: #1f77b4; stroke: #1f77b4\"/>\n",
       "     <use xlink:href=\"#m827bd49f00\" x=\"117.743261\" y=\"311.696219\" style=\"fill: #1f77b4; stroke: #1f77b4\"/>\n",
       "     <use xlink:href=\"#m827bd49f00\" x=\"59.476273\" y=\"332.589651\" style=\"fill: #1f77b4; stroke: #1f77b4\"/>\n",
       "     <use xlink:href=\"#m827bd49f00\" x=\"61.973285\" y=\"335.606617\" style=\"fill: #1f77b4; stroke: #1f77b4\"/>\n",
       "     <use xlink:href=\"#m827bd49f00\" x=\"58.488611\" y=\"339.160779\" style=\"fill: #1f77b4; stroke: #1f77b4\"/>\n",
       "     <use xlink:href=\"#m827bd49f00\" x=\"69.281983\" y=\"305.394865\" style=\"fill: #1f77b4; stroke: #1f77b4\"/>\n",
       "     <use xlink:href=\"#m827bd49f00\" x=\"58.306274\" y=\"339.77305\" style=\"fill: #1f77b4; stroke: #1f77b4\"/>\n",
       "     <use xlink:href=\"#m827bd49f00\" x=\"57.579456\" y=\"338.767807\" style=\"fill: #1f77b4; stroke: #1f77b4\"/>\n",
       "     <use xlink:href=\"#m827bd49f00\" x=\"57.28569\" y=\"339.651974\" style=\"fill: #1f77b4; stroke: #1f77b4\"/>\n",
       "     <use xlink:href=\"#m827bd49f00\" x=\"57.592118\" y=\"339.539821\" style=\"fill: #1f77b4; stroke: #1f77b4\"/>\n",
       "     <use xlink:href=\"#m827bd49f00\" x=\"62.251857\" y=\"338.824111\" style=\"fill: #1f77b4; stroke: #1f77b4\"/>\n",
       "     <use xlink:href=\"#m827bd49f00\" x=\"57.526274\" y=\"338.897136\" style=\"fill: #1f77b4; stroke: #1f77b4\"/>\n",
       "     <use xlink:href=\"#m827bd49f00\" x=\"57.660495\" y=\"339.631023\" style=\"fill: #1f77b4; stroke: #1f77b4\"/>\n",
       "     <use xlink:href=\"#m827bd49f00\" x=\"113.405146\" y=\"267.069598\" style=\"fill: #1f77b4; stroke: #1f77b4\"/>\n",
       "     <use xlink:href=\"#m827bd49f00\" x=\"57.640235\" y=\"339.520543\" style=\"fill: #1f77b4; stroke: #1f77b4\"/>\n",
       "     <use xlink:href=\"#m827bd49f00\" x=\"57.349002\" y=\"339.699237\" style=\"fill: #1f77b4; stroke: #1f77b4\"/>\n",
       "     <use xlink:href=\"#m827bd49f00\" x=\"58.222702\" y=\"337.379101\" style=\"fill: #1f77b4; stroke: #1f77b4\"/>\n",
       "     <use xlink:href=\"#m827bd49f00\" x=\"57.845365\" y=\"339.428092\" style=\"fill: #1f77b4; stroke: #1f77b4\"/>\n",
       "     <use xlink:href=\"#m827bd49f00\" x=\"72.477956\" y=\"317.986188\" style=\"fill: #1f77b4; stroke: #1f77b4\"/>\n",
       "     <use xlink:href=\"#m827bd49f00\" x=\"58.615235\" y=\"338.916972\" style=\"fill: #1f77b4; stroke: #1f77b4\"/>\n",
       "     <use xlink:href=\"#m827bd49f00\" x=\"64.536141\" y=\"332.96656\" style=\"fill: #1f77b4; stroke: #1f77b4\"/>\n",
       "     <use xlink:href=\"#m827bd49f00\" x=\"57.647833\" y=\"338.363752\" style=\"fill: #1f77b4; stroke: #1f77b4\"/>\n",
       "     <use xlink:href=\"#m827bd49f00\" x=\"58.493676\" y=\"335.857932\" style=\"fill: #1f77b4; stroke: #1f77b4\"/>\n",
       "     <use xlink:href=\"#m827bd49f00\" x=\"57.379391\" y=\"339.759635\" style=\"fill: #1f77b4; stroke: #1f77b4\"/>\n",
       "    </g>\n",
       "   </g>\n",
       "   <g id=\"matplotlib.axis_1\">\n",
       "    <g id=\"xtick_1\">\n",
       "     <g id=\"line2d_1\">\n",
       "      <path d=\"M 57.067898 354.958125 \n",
       "L 57.067898 22.318125 \n",
       "\" clip-path=\"url(#pbc437e53e3)\" style=\"fill: none; stroke: #b0b0b0; stroke-width: 0.8; stroke-linecap: square\"/>\n",
       "     </g>\n",
       "     <g id=\"line2d_2\">\n",
       "      <defs>\n",
       "       <path id=\"mff6b697f1f\" d=\"M 0 0 \n",
       "L 0 3.5 \n",
       "\" style=\"stroke: #000000; stroke-width: 0.8\"/>\n",
       "      </defs>\n",
       "      <g>\n",
       "       <use xlink:href=\"#mff6b697f1f\" x=\"57.067898\" y=\"354.958125\" style=\"stroke: #000000; stroke-width: 0.8\"/>\n",
       "      </g>\n",
       "     </g>\n",
       "     <g id=\"text_1\">\n",
       "      <!-- 0 -->\n",
       "      <g transform=\"translate(53.886648 369.556562) scale(0.1 -0.1)\">\n",
       "       <defs>\n",
       "        <path id=\"DejaVuSans-30\" d=\"M 2034 4250 \n",
       "Q 1547 4250 1301 3770 \n",
       "Q 1056 3291 1056 2328 \n",
       "Q 1056 1369 1301 889 \n",
       "Q 1547 409 2034 409 \n",
       "Q 2525 409 2770 889 \n",
       "Q 3016 1369 3016 2328 \n",
       "Q 3016 3291 2770 3770 \n",
       "Q 2525 4250 2034 4250 \n",
       "z\n",
       "M 2034 4750 \n",
       "Q 2819 4750 3233 4129 \n",
       "Q 3647 3509 3647 2328 \n",
       "Q 3647 1150 3233 529 \n",
       "Q 2819 -91 2034 -91 \n",
       "Q 1250 -91 836 529 \n",
       "Q 422 1150 422 2328 \n",
       "Q 422 3509 836 4129 \n",
       "Q 1250 4750 2034 4750 \n",
       "z\n",
       "\" transform=\"scale(0.015625)\"/>\n",
       "       </defs>\n",
       "       <use xlink:href=\"#DejaVuSans-30\"/>\n",
       "      </g>\n",
       "     </g>\n",
       "    </g>\n",
       "    <g id=\"xtick_2\">\n",
       "     <g id=\"line2d_3\">\n",
       "      <path d=\"M 120.379559 354.958125 \n",
       "L 120.379559 22.318125 \n",
       "\" clip-path=\"url(#pbc437e53e3)\" style=\"fill: none; stroke: #b0b0b0; stroke-width: 0.8; stroke-linecap: square\"/>\n",
       "     </g>\n",
       "     <g id=\"line2d_4\">\n",
       "      <g>\n",
       "       <use xlink:href=\"#mff6b697f1f\" x=\"120.379559\" y=\"354.958125\" style=\"stroke: #000000; stroke-width: 0.8\"/>\n",
       "      </g>\n",
       "     </g>\n",
       "     <g id=\"text_2\">\n",
       "      <!-- 25000 -->\n",
       "      <g transform=\"translate(104.473309 369.556562) scale(0.1 -0.1)\">\n",
       "       <defs>\n",
       "        <path id=\"DejaVuSans-32\" d=\"M 1228 531 \n",
       "L 3431 531 \n",
       "L 3431 0 \n",
       "L 469 0 \n",
       "L 469 531 \n",
       "Q 828 903 1448 1529 \n",
       "Q 2069 2156 2228 2338 \n",
       "Q 2531 2678 2651 2914 \n",
       "Q 2772 3150 2772 3378 \n",
       "Q 2772 3750 2511 3984 \n",
       "Q 2250 4219 1831 4219 \n",
       "Q 1534 4219 1204 4116 \n",
       "Q 875 4013 500 3803 \n",
       "L 500 4441 \n",
       "Q 881 4594 1212 4672 \n",
       "Q 1544 4750 1819 4750 \n",
       "Q 2544 4750 2975 4387 \n",
       "Q 3406 4025 3406 3419 \n",
       "Q 3406 3131 3298 2873 \n",
       "Q 3191 2616 2906 2266 \n",
       "Q 2828 2175 2409 1742 \n",
       "Q 1991 1309 1228 531 \n",
       "z\n",
       "\" transform=\"scale(0.015625)\"/>\n",
       "        <path id=\"DejaVuSans-35\" d=\"M 691 4666 \n",
       "L 3169 4666 \n",
       "L 3169 4134 \n",
       "L 1269 4134 \n",
       "L 1269 2991 \n",
       "Q 1406 3038 1543 3061 \n",
       "Q 1681 3084 1819 3084 \n",
       "Q 2600 3084 3056 2656 \n",
       "Q 3513 2228 3513 1497 \n",
       "Q 3513 744 3044 326 \n",
       "Q 2575 -91 1722 -91 \n",
       "Q 1428 -91 1123 -41 \n",
       "Q 819 9 494 109 \n",
       "L 494 744 \n",
       "Q 775 591 1075 516 \n",
       "Q 1375 441 1709 441 \n",
       "Q 2250 441 2565 725 \n",
       "Q 2881 1009 2881 1497 \n",
       "Q 2881 1984 2565 2268 \n",
       "Q 2250 2553 1709 2553 \n",
       "Q 1456 2553 1204 2497 \n",
       "Q 953 2441 691 2322 \n",
       "L 691 4666 \n",
       "z\n",
       "\" transform=\"scale(0.015625)\"/>\n",
       "       </defs>\n",
       "       <use xlink:href=\"#DejaVuSans-32\"/>\n",
       "       <use xlink:href=\"#DejaVuSans-35\" x=\"63.623047\"/>\n",
       "       <use xlink:href=\"#DejaVuSans-30\" x=\"127.246094\"/>\n",
       "       <use xlink:href=\"#DejaVuSans-30\" x=\"190.869141\"/>\n",
       "       <use xlink:href=\"#DejaVuSans-30\" x=\"254.492188\"/>\n",
       "      </g>\n",
       "     </g>\n",
       "    </g>\n",
       "    <g id=\"xtick_3\">\n",
       "     <g id=\"line2d_5\">\n",
       "      <path d=\"M 183.69122 354.958125 \n",
       "L 183.69122 22.318125 \n",
       "\" clip-path=\"url(#pbc437e53e3)\" style=\"fill: none; stroke: #b0b0b0; stroke-width: 0.8; stroke-linecap: square\"/>\n",
       "     </g>\n",
       "     <g id=\"line2d_6\">\n",
       "      <g>\n",
       "       <use xlink:href=\"#mff6b697f1f\" x=\"183.69122\" y=\"354.958125\" style=\"stroke: #000000; stroke-width: 0.8\"/>\n",
       "      </g>\n",
       "     </g>\n",
       "     <g id=\"text_3\">\n",
       "      <!-- 50000 -->\n",
       "      <g transform=\"translate(167.78497 369.556562) scale(0.1 -0.1)\">\n",
       "       <use xlink:href=\"#DejaVuSans-35\"/>\n",
       "       <use xlink:href=\"#DejaVuSans-30\" x=\"63.623047\"/>\n",
       "       <use xlink:href=\"#DejaVuSans-30\" x=\"127.246094\"/>\n",
       "       <use xlink:href=\"#DejaVuSans-30\" x=\"190.869141\"/>\n",
       "       <use xlink:href=\"#DejaVuSans-30\" x=\"254.492188\"/>\n",
       "      </g>\n",
       "     </g>\n",
       "    </g>\n",
       "    <g id=\"xtick_4\">\n",
       "     <g id=\"line2d_7\">\n",
       "      <path d=\"M 247.002882 354.958125 \n",
       "L 247.002882 22.318125 \n",
       "\" clip-path=\"url(#pbc437e53e3)\" style=\"fill: none; stroke: #b0b0b0; stroke-width: 0.8; stroke-linecap: square\"/>\n",
       "     </g>\n",
       "     <g id=\"line2d_8\">\n",
       "      <g>\n",
       "       <use xlink:href=\"#mff6b697f1f\" x=\"247.002882\" y=\"354.958125\" style=\"stroke: #000000; stroke-width: 0.8\"/>\n",
       "      </g>\n",
       "     </g>\n",
       "     <g id=\"text_4\">\n",
       "      <!-- 75000 -->\n",
       "      <g transform=\"translate(231.096632 369.556562) scale(0.1 -0.1)\">\n",
       "       <defs>\n",
       "        <path id=\"DejaVuSans-37\" d=\"M 525 4666 \n",
       "L 3525 4666 \n",
       "L 3525 4397 \n",
       "L 1831 0 \n",
       "L 1172 0 \n",
       "L 2766 4134 \n",
       "L 525 4134 \n",
       "L 525 4666 \n",
       "z\n",
       "\" transform=\"scale(0.015625)\"/>\n",
       "       </defs>\n",
       "       <use xlink:href=\"#DejaVuSans-37\"/>\n",
       "       <use xlink:href=\"#DejaVuSans-35\" x=\"63.623047\"/>\n",
       "       <use xlink:href=\"#DejaVuSans-30\" x=\"127.246094\"/>\n",
       "       <use xlink:href=\"#DejaVuSans-30\" x=\"190.869141\"/>\n",
       "       <use xlink:href=\"#DejaVuSans-30\" x=\"254.492188\"/>\n",
       "      </g>\n",
       "     </g>\n",
       "    </g>\n",
       "    <g id=\"xtick_5\">\n",
       "     <g id=\"line2d_9\">\n",
       "      <path d=\"M 310.314543 354.958125 \n",
       "L 310.314543 22.318125 \n",
       "\" clip-path=\"url(#pbc437e53e3)\" style=\"fill: none; stroke: #b0b0b0; stroke-width: 0.8; stroke-linecap: square\"/>\n",
       "     </g>\n",
       "     <g id=\"line2d_10\">\n",
       "      <g>\n",
       "       <use xlink:href=\"#mff6b697f1f\" x=\"310.314543\" y=\"354.958125\" style=\"stroke: #000000; stroke-width: 0.8\"/>\n",
       "      </g>\n",
       "     </g>\n",
       "     <g id=\"text_5\">\n",
       "      <!-- 100000 -->\n",
       "      <g transform=\"translate(291.227043 369.556562) scale(0.1 -0.1)\">\n",
       "       <defs>\n",
       "        <path id=\"DejaVuSans-31\" d=\"M 794 531 \n",
       "L 1825 531 \n",
       "L 1825 4091 \n",
       "L 703 3866 \n",
       "L 703 4441 \n",
       "L 1819 4666 \n",
       "L 2450 4666 \n",
       "L 2450 531 \n",
       "L 3481 531 \n",
       "L 3481 0 \n",
       "L 794 0 \n",
       "L 794 531 \n",
       "z\n",
       "\" transform=\"scale(0.015625)\"/>\n",
       "       </defs>\n",
       "       <use xlink:href=\"#DejaVuSans-31\"/>\n",
       "       <use xlink:href=\"#DejaVuSans-30\" x=\"63.623047\"/>\n",
       "       <use xlink:href=\"#DejaVuSans-30\" x=\"127.246094\"/>\n",
       "       <use xlink:href=\"#DejaVuSans-30\" x=\"190.869141\"/>\n",
       "       <use xlink:href=\"#DejaVuSans-30\" x=\"254.492188\"/>\n",
       "       <use xlink:href=\"#DejaVuSans-30\" x=\"318.115234\"/>\n",
       "      </g>\n",
       "     </g>\n",
       "    </g>\n",
       "    <g id=\"xtick_6\">\n",
       "     <g id=\"line2d_11\">\n",
       "      <path d=\"M 373.626204 354.958125 \n",
       "L 373.626204 22.318125 \n",
       "\" clip-path=\"url(#pbc437e53e3)\" style=\"fill: none; stroke: #b0b0b0; stroke-width: 0.8; stroke-linecap: square\"/>\n",
       "     </g>\n",
       "     <g id=\"line2d_12\">\n",
       "      <g>\n",
       "       <use xlink:href=\"#mff6b697f1f\" x=\"373.626204\" y=\"354.958125\" style=\"stroke: #000000; stroke-width: 0.8\"/>\n",
       "      </g>\n",
       "     </g>\n",
       "     <g id=\"text_6\">\n",
       "      <!-- 125000 -->\n",
       "      <g transform=\"translate(354.538704 369.556562) scale(0.1 -0.1)\">\n",
       "       <use xlink:href=\"#DejaVuSans-31\"/>\n",
       "       <use xlink:href=\"#DejaVuSans-32\" x=\"63.623047\"/>\n",
       "       <use xlink:href=\"#DejaVuSans-35\" x=\"127.246094\"/>\n",
       "       <use xlink:href=\"#DejaVuSans-30\" x=\"190.869141\"/>\n",
       "       <use xlink:href=\"#DejaVuSans-30\" x=\"254.492188\"/>\n",
       "       <use xlink:href=\"#DejaVuSans-30\" x=\"318.115234\"/>\n",
       "      </g>\n",
       "     </g>\n",
       "    </g>\n",
       "    <g id=\"xtick_7\">\n",
       "     <g id=\"line2d_13\">\n",
       "      <path d=\"M 436.937866 354.958125 \n",
       "L 436.937866 22.318125 \n",
       "\" clip-path=\"url(#pbc437e53e3)\" style=\"fill: none; stroke: #b0b0b0; stroke-width: 0.8; stroke-linecap: square\"/>\n",
       "     </g>\n",
       "     <g id=\"line2d_14\">\n",
       "      <g>\n",
       "       <use xlink:href=\"#mff6b697f1f\" x=\"436.937866\" y=\"354.958125\" style=\"stroke: #000000; stroke-width: 0.8\"/>\n",
       "      </g>\n",
       "     </g>\n",
       "     <g id=\"text_7\">\n",
       "      <!-- 150000 -->\n",
       "      <g transform=\"translate(417.850366 369.556562) scale(0.1 -0.1)\">\n",
       "       <use xlink:href=\"#DejaVuSans-31\"/>\n",
       "       <use xlink:href=\"#DejaVuSans-35\" x=\"63.623047\"/>\n",
       "       <use xlink:href=\"#DejaVuSans-30\" x=\"127.246094\"/>\n",
       "       <use xlink:href=\"#DejaVuSans-30\" x=\"190.869141\"/>\n",
       "       <use xlink:href=\"#DejaVuSans-30\" x=\"254.492188\"/>\n",
       "       <use xlink:href=\"#DejaVuSans-30\" x=\"318.115234\"/>\n",
       "      </g>\n",
       "     </g>\n",
       "    </g>\n",
       "    <g id=\"xtick_8\">\n",
       "     <g id=\"line2d_15\">\n",
       "      <path d=\"M 500.249527 354.958125 \n",
       "L 500.249527 22.318125 \n",
       "\" clip-path=\"url(#pbc437e53e3)\" style=\"fill: none; stroke: #b0b0b0; stroke-width: 0.8; stroke-linecap: square\"/>\n",
       "     </g>\n",
       "     <g id=\"line2d_16\">\n",
       "      <g>\n",
       "       <use xlink:href=\"#mff6b697f1f\" x=\"500.249527\" y=\"354.958125\" style=\"stroke: #000000; stroke-width: 0.8\"/>\n",
       "      </g>\n",
       "     </g>\n",
       "     <g id=\"text_8\">\n",
       "      <!-- 175000 -->\n",
       "      <g transform=\"translate(481.162027 369.556562) scale(0.1 -0.1)\">\n",
       "       <use xlink:href=\"#DejaVuSans-31\"/>\n",
       "       <use xlink:href=\"#DejaVuSans-37\" x=\"63.623047\"/>\n",
       "       <use xlink:href=\"#DejaVuSans-35\" x=\"127.246094\"/>\n",
       "       <use xlink:href=\"#DejaVuSans-30\" x=\"190.869141\"/>\n",
       "       <use xlink:href=\"#DejaVuSans-30\" x=\"254.492188\"/>\n",
       "       <use xlink:href=\"#DejaVuSans-30\" x=\"318.115234\"/>\n",
       "      </g>\n",
       "     </g>\n",
       "    </g>\n",
       "    <g id=\"text_9\">\n",
       "     <!-- Number of views -->\n",
       "     <g transform=\"translate(243.138281 383.234687) scale(0.1 -0.1)\">\n",
       "      <defs>\n",
       "       <path id=\"DejaVuSans-4e\" d=\"M 628 4666 \n",
       "L 1478 4666 \n",
       "L 3547 763 \n",
       "L 3547 4666 \n",
       "L 4159 4666 \n",
       "L 4159 0 \n",
       "L 3309 0 \n",
       "L 1241 3903 \n",
       "L 1241 0 \n",
       "L 628 0 \n",
       "L 628 4666 \n",
       "z\n",
       "\" transform=\"scale(0.015625)\"/>\n",
       "       <path id=\"DejaVuSans-75\" d=\"M 544 1381 \n",
       "L 544 3500 \n",
       "L 1119 3500 \n",
       "L 1119 1403 \n",
       "Q 1119 906 1312 657 \n",
       "Q 1506 409 1894 409 \n",
       "Q 2359 409 2629 706 \n",
       "Q 2900 1003 2900 1516 \n",
       "L 2900 3500 \n",
       "L 3475 3500 \n",
       "L 3475 0 \n",
       "L 2900 0 \n",
       "L 2900 538 \n",
       "Q 2691 219 2414 64 \n",
       "Q 2138 -91 1772 -91 \n",
       "Q 1169 -91 856 284 \n",
       "Q 544 659 544 1381 \n",
       "z\n",
       "M 1991 3584 \n",
       "L 1991 3584 \n",
       "z\n",
       "\" transform=\"scale(0.015625)\"/>\n",
       "       <path id=\"DejaVuSans-6d\" d=\"M 3328 2828 \n",
       "Q 3544 3216 3844 3400 \n",
       "Q 4144 3584 4550 3584 \n",
       "Q 5097 3584 5394 3201 \n",
       "Q 5691 2819 5691 2113 \n",
       "L 5691 0 \n",
       "L 5113 0 \n",
       "L 5113 2094 \n",
       "Q 5113 2597 4934 2840 \n",
       "Q 4756 3084 4391 3084 \n",
       "Q 3944 3084 3684 2787 \n",
       "Q 3425 2491 3425 1978 \n",
       "L 3425 0 \n",
       "L 2847 0 \n",
       "L 2847 2094 \n",
       "Q 2847 2600 2669 2842 \n",
       "Q 2491 3084 2119 3084 \n",
       "Q 1678 3084 1418 2786 \n",
       "Q 1159 2488 1159 1978 \n",
       "L 1159 0 \n",
       "L 581 0 \n",
       "L 581 3500 \n",
       "L 1159 3500 \n",
       "L 1159 2956 \n",
       "Q 1356 3278 1631 3431 \n",
       "Q 1906 3584 2284 3584 \n",
       "Q 2666 3584 2933 3390 \n",
       "Q 3200 3197 3328 2828 \n",
       "z\n",
       "\" transform=\"scale(0.015625)\"/>\n",
       "       <path id=\"DejaVuSans-62\" d=\"M 3116 1747 \n",
       "Q 3116 2381 2855 2742 \n",
       "Q 2594 3103 2138 3103 \n",
       "Q 1681 3103 1420 2742 \n",
       "Q 1159 2381 1159 1747 \n",
       "Q 1159 1113 1420 752 \n",
       "Q 1681 391 2138 391 \n",
       "Q 2594 391 2855 752 \n",
       "Q 3116 1113 3116 1747 \n",
       "z\n",
       "M 1159 2969 \n",
       "Q 1341 3281 1617 3432 \n",
       "Q 1894 3584 2278 3584 \n",
       "Q 2916 3584 3314 3078 \n",
       "Q 3713 2572 3713 1747 \n",
       "Q 3713 922 3314 415 \n",
       "Q 2916 -91 2278 -91 \n",
       "Q 1894 -91 1617 61 \n",
       "Q 1341 213 1159 525 \n",
       "L 1159 0 \n",
       "L 581 0 \n",
       "L 581 4863 \n",
       "L 1159 4863 \n",
       "L 1159 2969 \n",
       "z\n",
       "\" transform=\"scale(0.015625)\"/>\n",
       "       <path id=\"DejaVuSans-65\" d=\"M 3597 1894 \n",
       "L 3597 1613 \n",
       "L 953 1613 \n",
       "Q 991 1019 1311 708 \n",
       "Q 1631 397 2203 397 \n",
       "Q 2534 397 2845 478 \n",
       "Q 3156 559 3463 722 \n",
       "L 3463 178 \n",
       "Q 3153 47 2828 -22 \n",
       "Q 2503 -91 2169 -91 \n",
       "Q 1331 -91 842 396 \n",
       "Q 353 884 353 1716 \n",
       "Q 353 2575 817 3079 \n",
       "Q 1281 3584 2069 3584 \n",
       "Q 2775 3584 3186 3129 \n",
       "Q 3597 2675 3597 1894 \n",
       "z\n",
       "M 3022 2063 \n",
       "Q 3016 2534 2758 2815 \n",
       "Q 2500 3097 2075 3097 \n",
       "Q 1594 3097 1305 2825 \n",
       "Q 1016 2553 972 2059 \n",
       "L 3022 2063 \n",
       "z\n",
       "\" transform=\"scale(0.015625)\"/>\n",
       "       <path id=\"DejaVuSans-72\" d=\"M 2631 2963 \n",
       "Q 2534 3019 2420 3045 \n",
       "Q 2306 3072 2169 3072 \n",
       "Q 1681 3072 1420 2755 \n",
       "Q 1159 2438 1159 1844 \n",
       "L 1159 0 \n",
       "L 581 0 \n",
       "L 581 3500 \n",
       "L 1159 3500 \n",
       "L 1159 2956 \n",
       "Q 1341 3275 1631 3429 \n",
       "Q 1922 3584 2338 3584 \n",
       "Q 2397 3584 2469 3576 \n",
       "Q 2541 3569 2628 3553 \n",
       "L 2631 2963 \n",
       "z\n",
       "\" transform=\"scale(0.015625)\"/>\n",
       "       <path id=\"DejaVuSans-20\" transform=\"scale(0.015625)\"/>\n",
       "       <path id=\"DejaVuSans-6f\" d=\"M 1959 3097 \n",
       "Q 1497 3097 1228 2736 \n",
       "Q 959 2375 959 1747 \n",
       "Q 959 1119 1226 758 \n",
       "Q 1494 397 1959 397 \n",
       "Q 2419 397 2687 759 \n",
       "Q 2956 1122 2956 1747 \n",
       "Q 2956 2369 2687 2733 \n",
       "Q 2419 3097 1959 3097 \n",
       "z\n",
       "M 1959 3584 \n",
       "Q 2709 3584 3137 3096 \n",
       "Q 3566 2609 3566 1747 \n",
       "Q 3566 888 3137 398 \n",
       "Q 2709 -91 1959 -91 \n",
       "Q 1206 -91 779 398 \n",
       "Q 353 888 353 1747 \n",
       "Q 353 2609 779 3096 \n",
       "Q 1206 3584 1959 3584 \n",
       "z\n",
       "\" transform=\"scale(0.015625)\"/>\n",
       "       <path id=\"DejaVuSans-66\" d=\"M 2375 4863 \n",
       "L 2375 4384 \n",
       "L 1825 4384 \n",
       "Q 1516 4384 1395 4259 \n",
       "Q 1275 4134 1275 3809 \n",
       "L 1275 3500 \n",
       "L 2222 3500 \n",
       "L 2222 3053 \n",
       "L 1275 3053 \n",
       "L 1275 0 \n",
       "L 697 0 \n",
       "L 697 3053 \n",
       "L 147 3053 \n",
       "L 147 3500 \n",
       "L 697 3500 \n",
       "L 697 3744 \n",
       "Q 697 4328 969 4595 \n",
       "Q 1241 4863 1831 4863 \n",
       "L 2375 4863 \n",
       "z\n",
       "\" transform=\"scale(0.015625)\"/>\n",
       "       <path id=\"DejaVuSans-76\" d=\"M 191 3500 \n",
       "L 800 3500 \n",
       "L 1894 563 \n",
       "L 2988 3500 \n",
       "L 3597 3500 \n",
       "L 2284 0 \n",
       "L 1503 0 \n",
       "L 191 3500 \n",
       "z\n",
       "\" transform=\"scale(0.015625)\"/>\n",
       "       <path id=\"DejaVuSans-69\" d=\"M 603 3500 \n",
       "L 1178 3500 \n",
       "L 1178 0 \n",
       "L 603 0 \n",
       "L 603 3500 \n",
       "z\n",
       "M 603 4863 \n",
       "L 1178 4863 \n",
       "L 1178 4134 \n",
       "L 603 4134 \n",
       "L 603 4863 \n",
       "z\n",
       "\" transform=\"scale(0.015625)\"/>\n",
       "       <path id=\"DejaVuSans-77\" d=\"M 269 3500 \n",
       "L 844 3500 \n",
       "L 1563 769 \n",
       "L 2278 3500 \n",
       "L 2956 3500 \n",
       "L 3675 769 \n",
       "L 4391 3500 \n",
       "L 4966 3500 \n",
       "L 4050 0 \n",
       "L 3372 0 \n",
       "L 2619 2869 \n",
       "L 1863 0 \n",
       "L 1184 0 \n",
       "L 269 3500 \n",
       "z\n",
       "\" transform=\"scale(0.015625)\"/>\n",
       "       <path id=\"DejaVuSans-73\" d=\"M 2834 3397 \n",
       "L 2834 2853 \n",
       "Q 2591 2978 2328 3040 \n",
       "Q 2066 3103 1784 3103 \n",
       "Q 1356 3103 1142 2972 \n",
       "Q 928 2841 928 2578 \n",
       "Q 928 2378 1081 2264 \n",
       "Q 1234 2150 1697 2047 \n",
       "L 1894 2003 \n",
       "Q 2506 1872 2764 1633 \n",
       "Q 3022 1394 3022 966 \n",
       "Q 3022 478 2636 193 \n",
       "Q 2250 -91 1575 -91 \n",
       "Q 1294 -91 989 -36 \n",
       "Q 684 19 347 128 \n",
       "L 347 722 \n",
       "Q 666 556 975 473 \n",
       "Q 1284 391 1588 391 \n",
       "Q 1994 391 2212 530 \n",
       "Q 2431 669 2431 922 \n",
       "Q 2431 1156 2273 1281 \n",
       "Q 2116 1406 1581 1522 \n",
       "L 1381 1569 \n",
       "Q 847 1681 609 1914 \n",
       "Q 372 2147 372 2553 \n",
       "Q 372 3047 722 3315 \n",
       "Q 1072 3584 1716 3584 \n",
       "Q 2034 3584 2315 3537 \n",
       "Q 2597 3491 2834 3397 \n",
       "z\n",
       "\" transform=\"scale(0.015625)\"/>\n",
       "      </defs>\n",
       "      <use xlink:href=\"#DejaVuSans-4e\"/>\n",
       "      <use xlink:href=\"#DejaVuSans-75\" x=\"74.804688\"/>\n",
       "      <use xlink:href=\"#DejaVuSans-6d\" x=\"138.183594\"/>\n",
       "      <use xlink:href=\"#DejaVuSans-62\" x=\"235.595703\"/>\n",
       "      <use xlink:href=\"#DejaVuSans-65\" x=\"299.072266\"/>\n",
       "      <use xlink:href=\"#DejaVuSans-72\" x=\"360.595703\"/>\n",
       "      <use xlink:href=\"#DejaVuSans-20\" x=\"401.708984\"/>\n",
       "      <use xlink:href=\"#DejaVuSans-6f\" x=\"433.496094\"/>\n",
       "      <use xlink:href=\"#DejaVuSans-66\" x=\"494.677734\"/>\n",
       "      <use xlink:href=\"#DejaVuSans-20\" x=\"529.882812\"/>\n",
       "      <use xlink:href=\"#DejaVuSans-76\" x=\"561.669922\"/>\n",
       "      <use xlink:href=\"#DejaVuSans-69\" x=\"620.849609\"/>\n",
       "      <use xlink:href=\"#DejaVuSans-65\" x=\"648.632812\"/>\n",
       "      <use xlink:href=\"#DejaVuSans-77\" x=\"710.15625\"/>\n",
       "      <use xlink:href=\"#DejaVuSans-73\" x=\"791.943359\"/>\n",
       "     </g>\n",
       "    </g>\n",
       "   </g>\n",
       "   <g id=\"matplotlib.axis_2\">\n",
       "    <g id=\"ytick_1\">\n",
       "     <g id=\"line2d_17\">\n",
       "      <path d=\"M 34.240625 340.017402 \n",
       "L 536.440625 340.017402 \n",
       "\" clip-path=\"url(#pbc437e53e3)\" style=\"fill: none; stroke: #b0b0b0; stroke-width: 0.8; stroke-linecap: square\"/>\n",
       "     </g>\n",
       "     <g id=\"line2d_18\">\n",
       "      <defs>\n",
       "       <path id=\"m30bc250bae\" d=\"M 0 0 \n",
       "L -3.5 0 \n",
       "\" style=\"stroke: #000000; stroke-width: 0.8\"/>\n",
       "      </defs>\n",
       "      <g>\n",
       "       <use xlink:href=\"#m30bc250bae\" x=\"34.240625\" y=\"340.017402\" style=\"stroke: #000000; stroke-width: 0.8\"/>\n",
       "      </g>\n",
       "     </g>\n",
       "     <g id=\"text_10\">\n",
       "      <!-- 0 -->\n",
       "      <g transform=\"translate(20.878125 343.816621) scale(0.1 -0.1)\">\n",
       "       <use xlink:href=\"#DejaVuSans-30\"/>\n",
       "      </g>\n",
       "     </g>\n",
       "    </g>\n",
       "    <g id=\"ytick_2\">\n",
       "     <g id=\"line2d_19\">\n",
       "      <path d=\"M 34.240625 275.948779 \n",
       "L 536.440625 275.948779 \n",
       "\" clip-path=\"url(#pbc437e53e3)\" style=\"fill: none; stroke: #b0b0b0; stroke-width: 0.8; stroke-linecap: square\"/>\n",
       "     </g>\n",
       "     <g id=\"line2d_20\">\n",
       "      <g>\n",
       "       <use xlink:href=\"#m30bc250bae\" x=\"34.240625\" y=\"275.948779\" style=\"stroke: #000000; stroke-width: 0.8\"/>\n",
       "      </g>\n",
       "     </g>\n",
       "     <g id=\"text_11\">\n",
       "      <!-- 1 -->\n",
       "      <g transform=\"translate(20.878125 279.747997) scale(0.1 -0.1)\">\n",
       "       <use xlink:href=\"#DejaVuSans-31\"/>\n",
       "      </g>\n",
       "     </g>\n",
       "    </g>\n",
       "    <g id=\"ytick_3\">\n",
       "     <g id=\"line2d_21\">\n",
       "      <path d=\"M 34.240625 211.880155 \n",
       "L 536.440625 211.880155 \n",
       "\" clip-path=\"url(#pbc437e53e3)\" style=\"fill: none; stroke: #b0b0b0; stroke-width: 0.8; stroke-linecap: square\"/>\n",
       "     </g>\n",
       "     <g id=\"line2d_22\">\n",
       "      <g>\n",
       "       <use xlink:href=\"#m30bc250bae\" x=\"34.240625\" y=\"211.880155\" style=\"stroke: #000000; stroke-width: 0.8\"/>\n",
       "      </g>\n",
       "     </g>\n",
       "     <g id=\"text_12\">\n",
       "      <!-- 2 -->\n",
       "      <g transform=\"translate(20.878125 215.679374) scale(0.1 -0.1)\">\n",
       "       <use xlink:href=\"#DejaVuSans-32\"/>\n",
       "      </g>\n",
       "     </g>\n",
       "    </g>\n",
       "    <g id=\"ytick_4\">\n",
       "     <g id=\"line2d_23\">\n",
       "      <path d=\"M 34.240625 147.811532 \n",
       "L 536.440625 147.811532 \n",
       "\" clip-path=\"url(#pbc437e53e3)\" style=\"fill: none; stroke: #b0b0b0; stroke-width: 0.8; stroke-linecap: square\"/>\n",
       "     </g>\n",
       "     <g id=\"line2d_24\">\n",
       "      <g>\n",
       "       <use xlink:href=\"#m30bc250bae\" x=\"34.240625\" y=\"147.811532\" style=\"stroke: #000000; stroke-width: 0.8\"/>\n",
       "      </g>\n",
       "     </g>\n",
       "     <g id=\"text_13\">\n",
       "      <!-- 3 -->\n",
       "      <g transform=\"translate(20.878125 151.610751) scale(0.1 -0.1)\">\n",
       "       <defs>\n",
       "        <path id=\"DejaVuSans-33\" d=\"M 2597 2516 \n",
       "Q 3050 2419 3304 2112 \n",
       "Q 3559 1806 3559 1356 \n",
       "Q 3559 666 3084 287 \n",
       "Q 2609 -91 1734 -91 \n",
       "Q 1441 -91 1130 -33 \n",
       "Q 819 25 488 141 \n",
       "L 488 750 \n",
       "Q 750 597 1062 519 \n",
       "Q 1375 441 1716 441 \n",
       "Q 2309 441 2620 675 \n",
       "Q 2931 909 2931 1356 \n",
       "Q 2931 1769 2642 2001 \n",
       "Q 2353 2234 1838 2234 \n",
       "L 1294 2234 \n",
       "L 1294 2753 \n",
       "L 1863 2753 \n",
       "Q 2328 2753 2575 2939 \n",
       "Q 2822 3125 2822 3475 \n",
       "Q 2822 3834 2567 4026 \n",
       "Q 2313 4219 1838 4219 \n",
       "Q 1578 4219 1281 4162 \n",
       "Q 984 4106 628 3988 \n",
       "L 628 4550 \n",
       "Q 988 4650 1302 4700 \n",
       "Q 1616 4750 1894 4750 \n",
       "Q 2613 4750 3031 4423 \n",
       "Q 3450 4097 3450 3541 \n",
       "Q 3450 3153 3228 2886 \n",
       "Q 3006 2619 2597 2516 \n",
       "z\n",
       "\" transform=\"scale(0.015625)\"/>\n",
       "       </defs>\n",
       "       <use xlink:href=\"#DejaVuSans-33\"/>\n",
       "      </g>\n",
       "     </g>\n",
       "    </g>\n",
       "    <g id=\"ytick_5\">\n",
       "     <g id=\"line2d_25\">\n",
       "      <path d=\"M 34.240625 83.742909 \n",
       "L 536.440625 83.742909 \n",
       "\" clip-path=\"url(#pbc437e53e3)\" style=\"fill: none; stroke: #b0b0b0; stroke-width: 0.8; stroke-linecap: square\"/>\n",
       "     </g>\n",
       "     <g id=\"line2d_26\">\n",
       "      <g>\n",
       "       <use xlink:href=\"#m30bc250bae\" x=\"34.240625\" y=\"83.742909\" style=\"stroke: #000000; stroke-width: 0.8\"/>\n",
       "      </g>\n",
       "     </g>\n",
       "     <g id=\"text_14\">\n",
       "      <!-- 4 -->\n",
       "      <g transform=\"translate(20.878125 87.542128) scale(0.1 -0.1)\">\n",
       "       <defs>\n",
       "        <path id=\"DejaVuSans-34\" d=\"M 2419 4116 \n",
       "L 825 1625 \n",
       "L 2419 1625 \n",
       "L 2419 4116 \n",
       "z\n",
       "M 2253 4666 \n",
       "L 3047 4666 \n",
       "L 3047 1625 \n",
       "L 3713 1625 \n",
       "L 3713 1100 \n",
       "L 3047 1100 \n",
       "L 3047 0 \n",
       "L 2419 0 \n",
       "L 2419 1100 \n",
       "L 313 1100 \n",
       "L 313 1709 \n",
       "L 2253 4666 \n",
       "z\n",
       "\" transform=\"scale(0.015625)\"/>\n",
       "       </defs>\n",
       "       <use xlink:href=\"#DejaVuSans-34\"/>\n",
       "      </g>\n",
       "     </g>\n",
       "    </g>\n",
       "    <g id=\"text_15\">\n",
       "     <!-- Number of comments -->\n",
       "     <g transform=\"translate(14.798438 243.081094) rotate(-90) scale(0.1 -0.1)\">\n",
       "      <defs>\n",
       "       <path id=\"DejaVuSans-63\" d=\"M 3122 3366 \n",
       "L 3122 2828 \n",
       "Q 2878 2963 2633 3030 \n",
       "Q 2388 3097 2138 3097 \n",
       "Q 1578 3097 1268 2742 \n",
       "Q 959 2388 959 1747 \n",
       "Q 959 1106 1268 751 \n",
       "Q 1578 397 2138 397 \n",
       "Q 2388 397 2633 464 \n",
       "Q 2878 531 3122 666 \n",
       "L 3122 134 \n",
       "Q 2881 22 2623 -34 \n",
       "Q 2366 -91 2075 -91 \n",
       "Q 1284 -91 818 406 \n",
       "Q 353 903 353 1747 \n",
       "Q 353 2603 823 3093 \n",
       "Q 1294 3584 2113 3584 \n",
       "Q 2378 3584 2631 3529 \n",
       "Q 2884 3475 3122 3366 \n",
       "z\n",
       "\" transform=\"scale(0.015625)\"/>\n",
       "       <path id=\"DejaVuSans-6e\" d=\"M 3513 2113 \n",
       "L 3513 0 \n",
       "L 2938 0 \n",
       "L 2938 2094 \n",
       "Q 2938 2591 2744 2837 \n",
       "Q 2550 3084 2163 3084 \n",
       "Q 1697 3084 1428 2787 \n",
       "Q 1159 2491 1159 1978 \n",
       "L 1159 0 \n",
       "L 581 0 \n",
       "L 581 3500 \n",
       "L 1159 3500 \n",
       "L 1159 2956 \n",
       "Q 1366 3272 1645 3428 \n",
       "Q 1925 3584 2291 3584 \n",
       "Q 2894 3584 3203 3211 \n",
       "Q 3513 2838 3513 2113 \n",
       "z\n",
       "\" transform=\"scale(0.015625)\"/>\n",
       "       <path id=\"DejaVuSans-74\" d=\"M 1172 4494 \n",
       "L 1172 3500 \n",
       "L 2356 3500 \n",
       "L 2356 3053 \n",
       "L 1172 3053 \n",
       "L 1172 1153 \n",
       "Q 1172 725 1289 603 \n",
       "Q 1406 481 1766 481 \n",
       "L 2356 481 \n",
       "L 2356 0 \n",
       "L 1766 0 \n",
       "Q 1100 0 847 248 \n",
       "Q 594 497 594 1153 \n",
       "L 594 3053 \n",
       "L 172 3053 \n",
       "L 172 3500 \n",
       "L 594 3500 \n",
       "L 594 4494 \n",
       "L 1172 4494 \n",
       "z\n",
       "\" transform=\"scale(0.015625)\"/>\n",
       "      </defs>\n",
       "      <use xlink:href=\"#DejaVuSans-4e\"/>\n",
       "      <use xlink:href=\"#DejaVuSans-75\" x=\"74.804688\"/>\n",
       "      <use xlink:href=\"#DejaVuSans-6d\" x=\"138.183594\"/>\n",
       "      <use xlink:href=\"#DejaVuSans-62\" x=\"235.595703\"/>\n",
       "      <use xlink:href=\"#DejaVuSans-65\" x=\"299.072266\"/>\n",
       "      <use xlink:href=\"#DejaVuSans-72\" x=\"360.595703\"/>\n",
       "      <use xlink:href=\"#DejaVuSans-20\" x=\"401.708984\"/>\n",
       "      <use xlink:href=\"#DejaVuSans-6f\" x=\"433.496094\"/>\n",
       "      <use xlink:href=\"#DejaVuSans-66\" x=\"494.677734\"/>\n",
       "      <use xlink:href=\"#DejaVuSans-20\" x=\"529.882812\"/>\n",
       "      <use xlink:href=\"#DejaVuSans-63\" x=\"561.669922\"/>\n",
       "      <use xlink:href=\"#DejaVuSans-6f\" x=\"616.650391\"/>\n",
       "      <use xlink:href=\"#DejaVuSans-6d\" x=\"677.832031\"/>\n",
       "      <use xlink:href=\"#DejaVuSans-6d\" x=\"775.244141\"/>\n",
       "      <use xlink:href=\"#DejaVuSans-65\" x=\"872.65625\"/>\n",
       "      <use xlink:href=\"#DejaVuSans-6e\" x=\"934.179688\"/>\n",
       "      <use xlink:href=\"#DejaVuSans-74\" x=\"997.558594\"/>\n",
       "      <use xlink:href=\"#DejaVuSans-73\" x=\"1036.767578\"/>\n",
       "     </g>\n",
       "    </g>\n",
       "    <g id=\"text_16\">\n",
       "     <!-- 1e7 -->\n",
       "     <g transform=\"translate(34.240625 19.318125) scale(0.1 -0.1)\">\n",
       "      <use xlink:href=\"#DejaVuSans-31\"/>\n",
       "      <use xlink:href=\"#DejaVuSans-65\" x=\"63.623047\"/>\n",
       "      <use xlink:href=\"#DejaVuSans-37\" x=\"125.146484\"/>\n",
       "     </g>\n",
       "    </g>\n",
       "   </g>\n",
       "   <g id=\"patch_3\">\n",
       "    <path d=\"M 34.240625 354.958125 \n",
       "L 34.240625 22.318125 \n",
       "\" style=\"fill: none; stroke: #000000; stroke-width: 0.8; stroke-linejoin: miter; stroke-linecap: square\"/>\n",
       "   </g>\n",
       "   <g id=\"patch_4\">\n",
       "    <path d=\"M 536.440625 354.958125 \n",
       "L 536.440625 22.318125 \n",
       "\" style=\"fill: none; stroke: #000000; stroke-width: 0.8; stroke-linejoin: miter; stroke-linecap: square\"/>\n",
       "   </g>\n",
       "   <g id=\"patch_5\">\n",
       "    <path d=\"M 34.240625 354.958125 \n",
       "L 536.440625 354.958125 \n",
       "\" style=\"fill: none; stroke: #000000; stroke-width: 0.8; stroke-linejoin: miter; stroke-linecap: square\"/>\n",
       "   </g>\n",
       "   <g id=\"patch_6\">\n",
       "    <path d=\"M 34.240625 22.318125 \n",
       "L 536.440625 22.318125 \n",
       "\" style=\"fill: none; stroke: #000000; stroke-width: 0.8; stroke-linejoin: miter; stroke-linecap: square\"/>\n",
       "   </g>\n",
       "   <g id=\"text_17\">\n",
       "    <!-- Dependence of the number of comments vs the number of views -->\n",
       "    <g transform=\"translate(89.234375 16.318125) scale(0.12 -0.12)\">\n",
       "     <defs>\n",
       "      <path id=\"DejaVuSans-44\" d=\"M 1259 4147 \n",
       "L 1259 519 \n",
       "L 2022 519 \n",
       "Q 2988 519 3436 956 \n",
       "Q 3884 1394 3884 2338 \n",
       "Q 3884 3275 3436 3711 \n",
       "Q 2988 4147 2022 4147 \n",
       "L 1259 4147 \n",
       "z\n",
       "M 628 4666 \n",
       "L 1925 4666 \n",
       "Q 3281 4666 3915 4102 \n",
       "Q 4550 3538 4550 2338 \n",
       "Q 4550 1131 3912 565 \n",
       "Q 3275 0 1925 0 \n",
       "L 628 0 \n",
       "L 628 4666 \n",
       "z\n",
       "\" transform=\"scale(0.015625)\"/>\n",
       "      <path id=\"DejaVuSans-70\" d=\"M 1159 525 \n",
       "L 1159 -1331 \n",
       "L 581 -1331 \n",
       "L 581 3500 \n",
       "L 1159 3500 \n",
       "L 1159 2969 \n",
       "Q 1341 3281 1617 3432 \n",
       "Q 1894 3584 2278 3584 \n",
       "Q 2916 3584 3314 3078 \n",
       "Q 3713 2572 3713 1747 \n",
       "Q 3713 922 3314 415 \n",
       "Q 2916 -91 2278 -91 \n",
       "Q 1894 -91 1617 61 \n",
       "Q 1341 213 1159 525 \n",
       "z\n",
       "M 3116 1747 \n",
       "Q 3116 2381 2855 2742 \n",
       "Q 2594 3103 2138 3103 \n",
       "Q 1681 3103 1420 2742 \n",
       "Q 1159 2381 1159 1747 \n",
       "Q 1159 1113 1420 752 \n",
       "Q 1681 391 2138 391 \n",
       "Q 2594 391 2855 752 \n",
       "Q 3116 1113 3116 1747 \n",
       "z\n",
       "\" transform=\"scale(0.015625)\"/>\n",
       "      <path id=\"DejaVuSans-64\" d=\"M 2906 2969 \n",
       "L 2906 4863 \n",
       "L 3481 4863 \n",
       "L 3481 0 \n",
       "L 2906 0 \n",
       "L 2906 525 \n",
       "Q 2725 213 2448 61 \n",
       "Q 2172 -91 1784 -91 \n",
       "Q 1150 -91 751 415 \n",
       "Q 353 922 353 1747 \n",
       "Q 353 2572 751 3078 \n",
       "Q 1150 3584 1784 3584 \n",
       "Q 2172 3584 2448 3432 \n",
       "Q 2725 3281 2906 2969 \n",
       "z\n",
       "M 947 1747 \n",
       "Q 947 1113 1208 752 \n",
       "Q 1469 391 1925 391 \n",
       "Q 2381 391 2643 752 \n",
       "Q 2906 1113 2906 1747 \n",
       "Q 2906 2381 2643 2742 \n",
       "Q 2381 3103 1925 3103 \n",
       "Q 1469 3103 1208 2742 \n",
       "Q 947 2381 947 1747 \n",
       "z\n",
       "\" transform=\"scale(0.015625)\"/>\n",
       "      <path id=\"DejaVuSans-68\" d=\"M 3513 2113 \n",
       "L 3513 0 \n",
       "L 2938 0 \n",
       "L 2938 2094 \n",
       "Q 2938 2591 2744 2837 \n",
       "Q 2550 3084 2163 3084 \n",
       "Q 1697 3084 1428 2787 \n",
       "Q 1159 2491 1159 1978 \n",
       "L 1159 0 \n",
       "L 581 0 \n",
       "L 581 4863 \n",
       "L 1159 4863 \n",
       "L 1159 2956 \n",
       "Q 1366 3272 1645 3428 \n",
       "Q 1925 3584 2291 3584 \n",
       "Q 2894 3584 3203 3211 \n",
       "Q 3513 2838 3513 2113 \n",
       "z\n",
       "\" transform=\"scale(0.015625)\"/>\n",
       "     </defs>\n",
       "     <use xlink:href=\"#DejaVuSans-44\"/>\n",
       "     <use xlink:href=\"#DejaVuSans-65\" x=\"77.001953\"/>\n",
       "     <use xlink:href=\"#DejaVuSans-70\" x=\"138.525391\"/>\n",
       "     <use xlink:href=\"#DejaVuSans-65\" x=\"202.001953\"/>\n",
       "     <use xlink:href=\"#DejaVuSans-6e\" x=\"263.525391\"/>\n",
       "     <use xlink:href=\"#DejaVuSans-64\" x=\"326.904297\"/>\n",
       "     <use xlink:href=\"#DejaVuSans-65\" x=\"390.380859\"/>\n",
       "     <use xlink:href=\"#DejaVuSans-6e\" x=\"451.904297\"/>\n",
       "     <use xlink:href=\"#DejaVuSans-63\" x=\"515.283203\"/>\n",
       "     <use xlink:href=\"#DejaVuSans-65\" x=\"570.263672\"/>\n",
       "     <use xlink:href=\"#DejaVuSans-20\" x=\"631.787109\"/>\n",
       "     <use xlink:href=\"#DejaVuSans-6f\" x=\"663.574219\"/>\n",
       "     <use xlink:href=\"#DejaVuSans-66\" x=\"724.755859\"/>\n",
       "     <use xlink:href=\"#DejaVuSans-20\" x=\"759.960938\"/>\n",
       "     <use xlink:href=\"#DejaVuSans-74\" x=\"791.748047\"/>\n",
       "     <use xlink:href=\"#DejaVuSans-68\" x=\"830.957031\"/>\n",
       "     <use xlink:href=\"#DejaVuSans-65\" x=\"894.335938\"/>\n",
       "     <use xlink:href=\"#DejaVuSans-20\" x=\"955.859375\"/>\n",
       "     <use xlink:href=\"#DejaVuSans-6e\" x=\"987.646484\"/>\n",
       "     <use xlink:href=\"#DejaVuSans-75\" x=\"1051.025391\"/>\n",
       "     <use xlink:href=\"#DejaVuSans-6d\" x=\"1114.404297\"/>\n",
       "     <use xlink:href=\"#DejaVuSans-62\" x=\"1211.816406\"/>\n",
       "     <use xlink:href=\"#DejaVuSans-65\" x=\"1275.292969\"/>\n",
       "     <use xlink:href=\"#DejaVuSans-72\" x=\"1336.816406\"/>\n",
       "     <use xlink:href=\"#DejaVuSans-20\" x=\"1377.929688\"/>\n",
       "     <use xlink:href=\"#DejaVuSans-6f\" x=\"1409.716797\"/>\n",
       "     <use xlink:href=\"#DejaVuSans-66\" x=\"1470.898438\"/>\n",
       "     <use xlink:href=\"#DejaVuSans-20\" x=\"1506.103516\"/>\n",
       "     <use xlink:href=\"#DejaVuSans-63\" x=\"1537.890625\"/>\n",
       "     <use xlink:href=\"#DejaVuSans-6f\" x=\"1592.871094\"/>\n",
       "     <use xlink:href=\"#DejaVuSans-6d\" x=\"1654.052734\"/>\n",
       "     <use xlink:href=\"#DejaVuSans-6d\" x=\"1751.464844\"/>\n",
       "     <use xlink:href=\"#DejaVuSans-65\" x=\"1848.876953\"/>\n",
       "     <use xlink:href=\"#DejaVuSans-6e\" x=\"1910.400391\"/>\n",
       "     <use xlink:href=\"#DejaVuSans-74\" x=\"1973.779297\"/>\n",
       "     <use xlink:href=\"#DejaVuSans-73\" x=\"2012.988281\"/>\n",
       "     <use xlink:href=\"#DejaVuSans-20\" x=\"2065.087891\"/>\n",
       "     <use xlink:href=\"#DejaVuSans-76\" x=\"2096.875\"/>\n",
       "     <use xlink:href=\"#DejaVuSans-73\" x=\"2156.054688\"/>\n",
       "     <use xlink:href=\"#DejaVuSans-20\" x=\"2208.154297\"/>\n",
       "     <use xlink:href=\"#DejaVuSans-74\" x=\"2239.941406\"/>\n",
       "     <use xlink:href=\"#DejaVuSans-68\" x=\"2279.150391\"/>\n",
       "     <use xlink:href=\"#DejaVuSans-65\" x=\"2342.529297\"/>\n",
       "     <use xlink:href=\"#DejaVuSans-20\" x=\"2404.052734\"/>\n",
       "     <use xlink:href=\"#DejaVuSans-6e\" x=\"2435.839844\"/>\n",
       "     <use xlink:href=\"#DejaVuSans-75\" x=\"2499.21875\"/>\n",
       "     <use xlink:href=\"#DejaVuSans-6d\" x=\"2562.597656\"/>\n",
       "     <use xlink:href=\"#DejaVuSans-62\" x=\"2660.009766\"/>\n",
       "     <use xlink:href=\"#DejaVuSans-65\" x=\"2723.486328\"/>\n",
       "     <use xlink:href=\"#DejaVuSans-72\" x=\"2785.009766\"/>\n",
       "     <use xlink:href=\"#DejaVuSans-20\" x=\"2826.123047\"/>\n",
       "     <use xlink:href=\"#DejaVuSans-6f\" x=\"2857.910156\"/>\n",
       "     <use xlink:href=\"#DejaVuSans-66\" x=\"2919.091797\"/>\n",
       "     <use xlink:href=\"#DejaVuSans-20\" x=\"2954.296875\"/>\n",
       "     <use xlink:href=\"#DejaVuSans-76\" x=\"2986.083984\"/>\n",
       "     <use xlink:href=\"#DejaVuSans-69\" x=\"3045.263672\"/>\n",
       "     <use xlink:href=\"#DejaVuSans-65\" x=\"3073.046875\"/>\n",
       "     <use xlink:href=\"#DejaVuSans-77\" x=\"3134.570312\"/>\n",
       "     <use xlink:href=\"#DejaVuSans-73\" x=\"3216.357422\"/>\n",
       "    </g>\n",
       "   </g>\n",
       "  </g>\n",
       " </g>\n",
       " <defs>\n",
       "  <clipPath id=\"pbc437e53e3\">\n",
       "   <rect x=\"34.240625\" y=\"22.318125\" width=\"502.2\" height=\"332.64\"/>\n",
       "  </clipPath>\n",
       " </defs>\n",
       "</svg>\n"
      ],
      "text/plain": [
       "<Figure size 900x600 with 1 Axes>"
      ]
     },
     "metadata": {},
     "output_type": "display_data"
    }
   ],
   "source": [
    "df = data[data.comments_disabled == False].copy()\n",
    "df = df[df.country == 'FR']\n",
    "\n",
    "plt.figure(figsize=(9,6))\n",
    "plt.title('Dependence of the number of comments vs the number of views')\n",
    "\n",
    "plt.scatter(df.comment_count, df.view_count)\n",
    "\n",
    "plt.xlabel('Number of views')\n",
    "plt.ylabel('Number of comments')\n",
    "plt.grid(True)\n",
    "plt.show()"
   ]
  },
  {
   "cell_type": "markdown",
   "id": "yr1qAUp6QpR2",
   "metadata": {
    "id": "yr1qAUp6QpR2"
   },
   "source": [
    "Rules:\n",
    "\n",
    "1. The use of AI and any other violation mentioned in the Academic Integrity Policy is strictly prohibited , for more info please refer to the Academic Integrity Policy of Constructor University: https://constructor.university/sites/default/files/2024-09/CAI%202024%20vf.pdf\n",
    "If a student work violates these rule, the work will be disregarded, 0 points will be granted and the Academic Integrity team might be informed.\n",
    "\n",
    "2. Students are not allowed to copy and paste examples described in the lab, if an example contains several lines of code and implements non-trivial idea. Please, write the code by your own. Violation of this rule will result in points being deducted. Even at theoretical answers, copy-paste will not be tolerated, use own words to improve critical thinking."
   ]
  },
  {
   "cell_type": "code",
   "execution_count": null,
   "id": "2778cb54",
   "metadata": {},
   "outputs": [],
   "source": []
  },
  {
   "cell_type": "code",
   "execution_count": null,
   "id": "6be1a358",
   "metadata": {},
   "outputs": [],
   "source": []
  }
 ],
 "metadata": {
  "colab": {
   "provenance": []
  },
  "kernelspec": {
   "display_name": "Python 3 (ipykernel)",
   "language": "python",
   "name": "python3"
  },
  "language_info": {
   "codemirror_mode": {
    "name": "ipython",
    "version": 3
   },
   "file_extension": ".py",
   "mimetype": "text/x-python",
   "name": "python",
   "nbconvert_exporter": "python",
   "pygments_lexer": "ipython3",
   "version": "3.11.4"
  }
 },
 "nbformat": 4,
 "nbformat_minor": 5
}
